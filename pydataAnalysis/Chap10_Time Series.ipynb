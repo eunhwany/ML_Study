{
 "cells": [
  {
   "cell_type": "markdown",
   "metadata": {},
   "source": [
    "# [시계열]"
   ]
  },
  {
   "cell_type": "markdown",
   "metadata": {},
   "source": [
    "- timestamp : 시간 내 특정순간\n",
    "- period : 1년, 1월간, 주간, 분기등\n",
    "- interval : 시작 ~ 끝\n",
    "- elasped(experiment) time : 이동시간, 사용시간 특정시작시간에 대한 상대적 시간 측정값.\n",
    "- epoch : reference time\n",
    "- datetime : date와 time\n",
    "- timedelta : 변화량\n",
    "- timezone : tzinfo의 구체화\n",
    "- https://docs.python.org/3/library/datetime.html"
   ]
  },
  {
   "cell_type": "code",
   "execution_count": 1,
   "metadata": {
    "collapsed": true
   },
   "outputs": [],
   "source": [
    "from __future__ import division\n",
    "from pandas import Series, DataFrame\n",
    "import pandas as pd\n",
    "from numpy.random import randn\n",
    "import numpy as np\n",
    "pd.options.display.max_rows = 12\n",
    "np.set_printoptions(precision=4, suppress=True)\n",
    "import os\n",
    "import matplotlib.pyplot as plt\n",
    "np.random.seed(12345)\n",
    "plt.rc('figure', figsize=(10, 6))\n",
    "from pandas import Series, DataFrame\n",
    "np.set_printoptions(precision=4)"
   ]
  },
  {
   "cell_type": "code",
   "execution_count": 2,
   "metadata": {
    "collapsed": true
   },
   "outputs": [],
   "source": [
    "pd.options.display.notebook_repr_html = False"
   ]
  },
  {
   "cell_type": "code",
   "execution_count": 3,
   "metadata": {
    "collapsed": true
   },
   "outputs": [],
   "source": [
    "%matplotlib inline"
   ]
  },
  {
   "cell_type": "code",
   "execution_count": 4,
   "metadata": {
    "collapsed": true
   },
   "outputs": [],
   "source": [
    "from IPython.core.interactiveshell import InteractiveShell\n",
    "InteractiveShell.ast_node_interactivity = 'all'"
   ]
  },
  {
   "cell_type": "code",
   "execution_count": 5,
   "metadata": {
    "collapsed": true
   },
   "outputs": [],
   "source": [
    "# TIME 관련 IMPORT\n",
    "import datetime"
   ]
  },
  {
   "cell_type": "markdown",
   "metadata": {},
   "source": [
    "## 10.1: 시계열 데이터 타입과 도구들"
   ]
  },
  {
   "cell_type": "code",
   "execution_count": 7,
   "metadata": {},
   "outputs": [
    {
     "data": {
      "text/plain": [
       "datetime.datetime(2017, 11, 18, 16, 3, 9, 694185)"
      ]
     },
     "execution_count": 7,
     "metadata": {},
     "output_type": "execute_result"
    }
   ],
   "source": [
    "# 현재시간 구하기\n",
    "from datetime import datetime\n",
    "now = datetime.now()\n",
    "now"
   ]
  },
  {
   "cell_type": "code",
   "execution_count": 9,
   "metadata": {},
   "outputs": [
    {
     "data": {
      "text/plain": [
       "(2017, 11, 6)"
      ]
     },
     "execution_count": 9,
     "metadata": {},
     "output_type": "execute_result"
    },
    {
     "data": {
      "text/plain": [
       "(21, 23, 38, 981805)"
      ]
     },
     "execution_count": 9,
     "metadata": {},
     "output_type": "execute_result"
    }
   ],
   "source": [
    "now.year, now.month, now.day\n",
    "now.hour, now.minute, now.second, now.microsecond"
   ]
  },
  {
   "cell_type": "code",
   "execution_count": 23,
   "metadata": {},
   "outputs": [
    {
     "data": {
      "text/plain": [
       "datetime.datetime(2017, 11, 6, 21, 26, 23, 451543)"
      ]
     },
     "execution_count": 23,
     "metadata": {},
     "output_type": "execute_result"
    },
    {
     "data": {
      "text/plain": [
       "datetime.datetime(2017, 11, 6, 21, 26, 23, 458550)"
      ]
     },
     "execution_count": 23,
     "metadata": {},
     "output_type": "execute_result"
    }
   ],
   "source": [
    "datetime.today() # now랑 비슷하나 timezone에 영향을 받음 local date time\n",
    "now = datetime.now()\n",
    "now"
   ]
  },
  {
   "cell_type": "code",
   "execution_count": 30,
   "metadata": {},
   "outputs": [
    {
     "data": {
      "text/plain": [
       "datetime.timedelta(10969, 82800)"
      ]
     },
     "execution_count": 30,
     "metadata": {},
     "output_type": "execute_result"
    },
    {
     "data": {
      "text/plain": [
       "10969"
      ]
     },
     "execution_count": 30,
     "metadata": {},
     "output_type": "execute_result"
    },
    {
     "data": {
      "text/plain": [
       "82800"
      ]
     },
     "execution_count": 30,
     "metadata": {},
     "output_type": "execute_result"
    },
    {
     "data": {
      "text/plain": [
       "0"
      ]
     },
     "execution_count": 30,
     "metadata": {},
     "output_type": "execute_result"
    }
   ],
   "source": [
    "# timedelta를 직접만듬\n",
    "delta = datetime(2017,11,6)-datetime(1987,10,25,1,0)\n",
    "delta\n",
    "delta.days\n",
    "delta.seconds\n",
    "delta.microseconds"
   ]
  },
  {
   "cell_type": "code",
   "execution_count": 32,
   "metadata": {},
   "outputs": [
    {
     "data": {
      "text/plain": [
       "datetime.datetime(2011, 1, 19, 0, 0)"
      ]
     },
     "execution_count": 32,
     "metadata": {},
     "output_type": "execute_result"
    }
   ],
   "source": [
    "# timedelta 사용\n",
    "from datetime import timedelta\n",
    "start = datetime(2011,1,7)\n",
    "start + timedelta(12)"
   ]
  },
  {
   "cell_type": "code",
   "execution_count": 34,
   "metadata": {},
   "outputs": [
    {
     "data": {
      "text/plain": [
       "datetime.datetime(2010, 12, 14, 0, 0)"
      ]
     },
     "execution_count": 34,
     "metadata": {},
     "output_type": "execute_result"
    }
   ],
   "source": [
    "start - 2 * timedelta(12)"
   ]
  },
  {
   "cell_type": "markdown",
   "metadata": {},
   "source": [
    "### 10.1.1: 날짜 <--> 문자열 변환"
   ]
  },
  {
   "cell_type": "markdown",
   "metadata": {},
   "source": [
    "- datetime.strftime('포맷규칙')\n",
    "- http://strftime.org/"
   ]
  },
  {
   "cell_type": "markdown",
   "metadata": {},
   "source": [
    "| Code | Meaning                                                                                                                                                                          | Example                  |\n",
    "|------|----------------------------------------------------------------------------------------------------------------------------------------------------------------------------------|--------------------------|\n",
    "| %a   | Weekday as locale’s abbreviated name.                                                                                                                                            | Mon                      |\n",
    "| %A   | Weekday as locale’s full name.                                                                                                                                                   | Monday                   |\n",
    "| %w   | Weekday as a decimal number, where 0 is Sunday and 6 is Saturday.                                                                                                                | 1                        |\n",
    "| %d   | Day of the month as a zero-padded decimal number.                                                                                                                                | 30                       |\n",
    "| %-d  | Day of the month as a decimal number. (Platform specific)                                                                                                                        | 30                       |\n",
    "| %b   | Month as locale’s abbreviated name.                                                                                                                                              | Sep                      |\n",
    "| %B   | Month as locale’s full name.                                                                                                                                                     | September                |\n",
    "| %m   | Month as a zero-padded decimal number.                                                                                                                                           | 09                       |\n",
    "| %-m  | Month as a decimal number. (Platform specific)                                                                                                                                   | 9                        |\n",
    "| %y   | Year without century as a zero-padded decimal number.                                                                                                                            | 13                       |\n",
    "| %Y   | Year with century as a decimal number.                                                                                                                                           | 2013                     |\n",
    "| %H   | Hour (24-hour clock) as a zero-padded decimal number.                                                                                                                            | 07                       |\n",
    "| %-H  | Hour (24-hour clock) as a decimal number. (Platform specific)                                                                                                                    | 7                        |\n",
    "| %I   | Hour (12-hour clock) as a zero-padded decimal number.                                                                                                                            | 07                       |\n",
    "| %-I  | Hour (12-hour clock) as a decimal number. (Platform specific)                                                                                                                    | 7                        |\n",
    "| %p   | Locale’s equivalent of either AM or PM.                                                                                                                                          | AM                       |\n",
    "| %M   | Minute as a zero-padded decimal number.                                                                                                                                          | 06                       |\n",
    "| %-M  | Minute as a decimal number. (Platform specific)                                                                                                                                  | 6                        |\n",
    "| %S   | Second as a zero-padded decimal number.                                                                                                                                          | 05                       |\n",
    "| %-S  | Second as a decimal number. (Platform specific)                                                                                                                                  | 5                        |\n",
    "| %f   | Microsecond as a decimal number, zero-padded on the left.                                                                                                                        | 000000                   |\n",
    "| %z   | UTC offset in the form +HHMM or -HHMM (empty string if the the object is naive).                                                                                                 |                          |\n",
    "| %Z   | Time zone name (empty string if the object is naive).                                                                                                                            |                          |\n",
    "| %j   | Day of the year as a zero-padded decimal number.                                                                                                                                 | 273                      |\n",
    "| %-j  | Day of the year as a decimal number. (Platform specific)                                                                                                                         | 273                      |\n",
    "| %U   | Week number of the year (Sunday as the first day of the week) as a zero padded decimal number. All days in a new year preceding the first Sunday are considered to be in week 0. | 39                       |\n",
    "| %W   | Week number of the year (Monday as the first day of the week) as a decimal number. All days in a new year preceding the first Monday are considered to be in week 0.             | 39                       |\n",
    "| %c   | Locale’s appropriate date and time representation.                                                                                                                               | Mon Sep 30 07:06:05 2013 |\n",
    "| %x   | Locale’s appropriate date representation.                                                                                                                                        | 09/30/13                 |\n",
    "| %X   | Locale’s appropriate time representation.                                                                                                                                        | 07:06:05                 |\n",
    "| %%   | A literal '%' character.                                                                                                                                                         | %                        |"
   ]
  },
  {
   "cell_type": "markdown",
   "metadata": {},
   "source": [
    "- datetime -> 문자열"
   ]
  },
  {
   "cell_type": "code",
   "execution_count": 36,
   "metadata": {},
   "outputs": [
    {
     "data": {
      "text/plain": [
       "'2017-11-06 00:00:00'"
      ]
     },
     "execution_count": 36,
     "metadata": {},
     "output_type": "execute_result"
    }
   ],
   "source": [
    "stamp = datetime(2017,11,6)\n",
    "str(stamp)"
   ]
  },
  {
   "cell_type": "code",
   "execution_count": 38,
   "metadata": {},
   "outputs": [
    {
     "data": {
      "text/plain": [
       "'2017-11-06'"
      ]
     },
     "execution_count": 38,
     "metadata": {},
     "output_type": "execute_result"
    }
   ],
   "source": [
    "# 캐스팅\n",
    "stamp.strftime('%Y-%m-%d')"
   ]
  },
  {
   "cell_type": "markdown",
   "metadata": {},
   "source": [
    "- 문자열 -> datetime"
   ]
  },
  {
   "cell_type": "code",
   "execution_count": 41,
   "metadata": {},
   "outputs": [
    {
     "data": {
      "text/plain": [
       "'10/25/2017'"
      ]
     },
     "execution_count": 41,
     "metadata": {},
     "output_type": "execute_result"
    }
   ],
   "source": [
    "value = '2017-10-25'\n",
    "datetime.strptime(value, '%Y-%m-%d').strftime(\"%m/%d/%Y\")"
   ]
  },
  {
   "cell_type": "code",
   "execution_count": 17,
   "metadata": {},
   "outputs": [
    {
     "data": {
      "text/plain": [
       "[datetime.datetime(2011, 7, 6, 0, 0), datetime.datetime(2011, 8, 6, 0, 0)]"
      ]
     },
     "execution_count": 17,
     "metadata": {},
     "output_type": "execute_result"
    }
   ],
   "source": [
    "datestrs = ['7/6/2011', '8/6/2011']\n",
    "[datetime.strptime(x, '%m/%d/%Y') for x in datestrs] # list"
   ]
  },
  {
   "cell_type": "markdown",
   "metadata": {},
   "source": [
    "- dateutil 패키지 대부분의 날짜 표현 방식 파싱가능"
   ]
  },
  {
   "cell_type": "code",
   "execution_count": 9,
   "metadata": {},
   "outputs": [
    {
     "data": {
      "text/plain": [
       "datetime.datetime(2011, 1, 3, 0, 0)"
      ]
     },
     "execution_count": 9,
     "metadata": {},
     "output_type": "execute_result"
    }
   ],
   "source": [
    "from dateutil.parser import parse\n",
    "parse('2011-01-03')"
   ]
  },
  {
   "cell_type": "code",
   "execution_count": 11,
   "metadata": {},
   "outputs": [
    {
     "data": {
      "text/plain": [
       "datetime.datetime(1997, 1, 31, 22, 45)"
      ]
     },
     "execution_count": 11,
     "metadata": {},
     "output_type": "execute_result"
    }
   ],
   "source": [
    "parse('Jan 31, 1997 10:45 PM')"
   ]
  },
  {
   "cell_type": "markdown",
   "metadata": {},
   "source": [
    "- 월이 앞에 오는 경우 dayfirst=True"
   ]
  },
  {
   "cell_type": "code",
   "execution_count": 15,
   "metadata": {},
   "outputs": [
    {
     "data": {
      "text/plain": [
       "datetime.datetime(2011, 12, 6, 0, 0)"
      ]
     },
     "execution_count": 15,
     "metadata": {},
     "output_type": "execute_result"
    }
   ],
   "source": [
    "parse('6/12/2011', dayfirst=True)"
   ]
  },
  {
   "cell_type": "markdown",
   "metadata": {},
   "source": [
    "- pandas.to_datetime() input값에 따라 return 형이 다름\n",
    "    - 단일날짜 : timestamp형으로 변환\n",
    "    - 날짜의 배열 : pandas.DatetimeIndex"
   ]
  },
  {
   "cell_type": "code",
   "execution_count": 20,
   "metadata": {},
   "outputs": [
    {
     "data": {
      "text/plain": [
       "Timestamp('2011-12-10 00:00:00')"
      ]
     },
     "execution_count": 20,
     "metadata": {},
     "output_type": "execute_result"
    },
    {
     "data": {
      "text/plain": [
       "['7/6/2011', '8/6/2011']"
      ]
     },
     "execution_count": 20,
     "metadata": {},
     "output_type": "execute_result"
    },
    {
     "data": {
      "text/plain": [
       "DatetimeIndex(['2011-07-06', '2011-08-06'], dtype='datetime64[ns]', freq=None)"
      ]
     },
     "execution_count": 20,
     "metadata": {},
     "output_type": "execute_result"
    }
   ],
   "source": [
    "pd.to_datetime('2011-12-10')\n",
    "datestrs\n",
    "pd.to_datetime(datestrs)"
   ]
  },
  {
   "cell_type": "markdown",
   "metadata": {},
   "source": [
    "- 누락된 날짜 처리"
   ]
  },
  {
   "cell_type": "code",
   "execution_count": 22,
   "metadata": {},
   "outputs": [
    {
     "data": {
      "text/plain": [
       "DatetimeIndex(['2011-07-06', '2011-08-06', 'NaT'], dtype='datetime64[ns]', freq=None)"
      ]
     },
     "execution_count": 22,
     "metadata": {},
     "output_type": "execute_result"
    }
   ],
   "source": [
    "idx = pd.to_datetime(datestrs + [None]) # NaT값이 됨.\n",
    "idx"
   ]
  },
  {
   "cell_type": "code",
   "execution_count": 24,
   "metadata": {},
   "outputs": [
    {
     "data": {
      "text/plain": [
       "NaT"
      ]
     },
     "execution_count": 24,
     "metadata": {},
     "output_type": "execute_result"
    }
   ],
   "source": [
    "idx[2]"
   ]
  },
  {
   "cell_type": "code",
   "execution_count": 26,
   "metadata": {},
   "outputs": [
    {
     "data": {
      "text/plain": [
       "array([False, False,  True], dtype=bool)"
      ]
     },
     "execution_count": 26,
     "metadata": {},
     "output_type": "execute_result"
    }
   ],
   "source": [
    "pd.isnull(idx)"
   ]
  },
  {
   "cell_type": "markdown",
   "metadata": {},
   "source": [
    "## 10.2: 시계열 기초"
   ]
  },
  {
   "cell_type": "markdown",
   "metadata": {},
   "source": [
    "- pandas 시간 데이터 타입\n",
    "    - timestamp : to_datetime, Timestamp\n",
    "    - DatetimeIndex : to_datetime, date_range, DatatimeIndex\n",
    "    - Period : Period\n",
    "    - PeriodIndex : period_range, PeriodIndex\n",
    "- 시계열 데이터\n",
    "    - 파이썬 문자열 또는 datetime 객체로 표현되는 Timestamp 인덱서의 Series 객체\n",
    "    - datetime 객체의 경우 Timestamp 타입으로 자동변환되나 정렬되지 않음"
   ]
  },
  {
   "cell_type": "code",
   "execution_count": 6,
   "metadata": {},
   "outputs": [
    {
     "data": {
      "text/plain": [
       "[datetime.datetime(2011, 1, 2, 0, 0),\n",
       " datetime.datetime(2011, 1, 5, 0, 0),\n",
       " datetime.datetime(2011, 1, 7, 0, 0),\n",
       " datetime.datetime(2011, 1, 8, 0, 0),\n",
       " datetime.datetime(2011, 1, 10, 0, 0),\n",
       " datetime.datetime(2011, 1, 1, 0, 0)]"
      ]
     },
     "execution_count": 6,
     "metadata": {},
     "output_type": "execute_result"
    },
    {
     "data": {
      "text/plain": [
       "2011-01-02    2\n",
       "2011-01-05    5\n",
       "2011-01-07    5\n",
       "2011-01-08    1\n",
       "2011-01-10    4\n",
       "2011-01-01    1\n",
       "dtype: int32"
      ]
     },
     "execution_count": 6,
     "metadata": {},
     "output_type": "execute_result"
    }
   ],
   "source": [
    "from datetime import datetime\n",
    "dates = [datetime(2011, 1, 2), datetime(2011, 1, 5), datetime(2011, 1, 7),\n",
    "         datetime(2011, 1, 8), datetime(2011, 1, 10), datetime(2011, 1, 1)]\n",
    "dates\n",
    "# index 인자로 입력된 datetime 리스트가 자동으로 DatetimeIndex 객체로 변환\n",
    "ts = Series(np.random.randint(6, size=6), index=dates)\n",
    "ts # 정렬 X"
   ]
  },
  {
   "cell_type": "code",
   "execution_count": 7,
   "metadata": {},
   "outputs": [
    {
     "data": {
      "text/plain": [
       "pandas.core.series.Series"
      ]
     },
     "execution_count": 7,
     "metadata": {},
     "output_type": "execute_result"
    },
    {
     "data": {
      "text/plain": [
       "DatetimeIndex(['2011-01-02', '2011-01-05', '2011-01-07', '2011-01-08',\n",
       "               '2011-01-10', '2011-01-01'],\n",
       "              dtype='datetime64[ns]', freq=None)"
      ]
     },
     "execution_count": 7,
     "metadata": {},
     "output_type": "execute_result"
    }
   ],
   "source": [
    "type(ts)\n",
    "ts.index"
   ]
  },
  {
   "cell_type": "code",
   "execution_count": 8,
   "metadata": {},
   "outputs": [
    {
     "data": {
      "text/plain": [
       "2011-01-02    2\n",
       "2011-01-05    5\n",
       "2011-01-07    5\n",
       "2011-01-08    1\n",
       "2011-01-10    4\n",
       "2011-01-01    1\n",
       "dtype: int32"
      ]
     },
     "execution_count": 8,
     "metadata": {},
     "output_type": "execute_result"
    },
    {
     "data": {
      "text/plain": [
       "2011-01-02    2\n",
       "2011-01-07    5\n",
       "2011-01-10    4\n",
       "dtype: int32"
      ]
     },
     "execution_count": 8,
     "metadata": {},
     "output_type": "execute_result"
    },
    {
     "data": {
      "text/plain": [
       "2011-01-01     NaN\n",
       "2011-01-02     4.0\n",
       "2011-01-05     NaN\n",
       "2011-01-07    10.0\n",
       "2011-01-08     NaN\n",
       "2011-01-10     8.0\n",
       "dtype: float64"
      ]
     },
     "execution_count": 8,
     "metadata": {},
     "output_type": "execute_result"
    }
   ],
   "source": [
    "ts\n",
    "ts[::2]\n",
    "ts + ts[::2]"
   ]
  },
  {
   "cell_type": "markdown",
   "metadata": {},
   "source": [
    "- DatetimeIndex 의 스칼라 값은 pandas의 Timestamp 객체"
   ]
  },
  {
   "cell_type": "code",
   "execution_count": 9,
   "metadata": {},
   "outputs": [
    {
     "data": {
      "text/plain": [
       "2017-11-1    0.316160\n",
       "2017-11-3   -1.379198\n",
       "2017-11-6    0.450554\n",
       "2017-3-1     0.092673\n",
       "2017-2-2     1.248133\n",
       "dtype: float64"
      ]
     },
     "execution_count": 9,
     "metadata": {},
     "output_type": "execute_result"
    },
    {
     "data": {
      "text/plain": [
       "pandas.core.indexes.base.Index"
      ]
     },
     "execution_count": 9,
     "metadata": {},
     "output_type": "execute_result"
    }
   ],
   "source": [
    "# Index 인자로 날짜 문자열의 리스트를 대입하는 경우\n",
    "da = ['2017-11-1','2017-11-3','2017-11-6','2017-3-1','2017-2-2']\n",
    "ts2 = Series(np.random.randn(5), index=da)\n",
    "ts2\n",
    "type(ts2.index)"
   ]
  },
  {
   "cell_type": "markdown",
   "metadata": {},
   "source": [
    "- timestamp의 정밀도 : 나노초(ns)"
   ]
  },
  {
   "cell_type": "code",
   "execution_count": 10,
   "metadata": {},
   "outputs": [
    {
     "data": {
      "text/plain": [
       "dtype('<M8[ns]')"
      ]
     },
     "execution_count": 10,
     "metadata": {},
     "output_type": "execute_result"
    }
   ],
   "source": [
    "ts.index.dtype\n",
    "# note: output changed from dtype('datetime64[ns]') to dtype('<M8[ns]')"
   ]
  },
  {
   "cell_type": "code",
   "execution_count": 11,
   "metadata": {},
   "outputs": [
    {
     "data": {
      "text/plain": [
       "Timestamp('2011-01-02 00:00:00')"
      ]
     },
     "execution_count": 11,
     "metadata": {},
     "output_type": "execute_result"
    }
   ],
   "source": [
    "stamp = ts.index[0]\n",
    "stamp"
   ]
  },
  {
   "cell_type": "markdown",
   "metadata": {},
   "source": [
    "### 10.2.1: 인덱싱, 선택, 부분선택 \n",
    "하나의 값 접근하기\n",
    "- timestamp 객체\n",
    "- 문자열(시계열데이터의 인덱스가 정렬되어 있지 않으면 Series 객체반환)\n",
    "- datetime 객체"
   ]
  },
  {
   "cell_type": "code",
   "execution_count": 12,
   "metadata": {},
   "outputs": [
    {
     "data": {
      "text/plain": [
       "2011-01-02    2\n",
       "2011-01-05    5\n",
       "2011-01-07    5\n",
       "2011-01-08    1\n",
       "2011-01-10    4\n",
       "2011-01-01    1\n",
       "dtype: int32"
      ]
     },
     "execution_count": 12,
     "metadata": {},
     "output_type": "execute_result"
    },
    {
     "data": {
      "text/plain": [
       "Timestamp('2011-01-07 00:00:00')"
      ]
     },
     "execution_count": 12,
     "metadata": {},
     "output_type": "execute_result"
    },
    {
     "data": {
      "text/plain": [
       "5"
      ]
     },
     "execution_count": 12,
     "metadata": {},
     "output_type": "execute_result"
    },
    {
     "data": {
      "text/plain": [
       "2011-01-10    4\n",
       "dtype: int32"
      ]
     },
     "execution_count": 12,
     "metadata": {},
     "output_type": "execute_result"
    },
    {
     "data": {
      "text/plain": [
       "2011-01-07    5\n",
       "dtype: int32"
      ]
     },
     "execution_count": 12,
     "metadata": {},
     "output_type": "execute_result"
    },
    {
     "data": {
      "text/plain": [
       "Series([], dtype: int32)"
      ]
     },
     "execution_count": 12,
     "metadata": {},
     "output_type": "execute_result"
    },
    {
     "data": {
      "text/plain": [
       "5"
      ]
     },
     "execution_count": 12,
     "metadata": {},
     "output_type": "execute_result"
    }
   ],
   "source": [
    "ts\n",
    "stamp = ts.index[2]\n",
    "stamp\n",
    "ts[stamp]\n",
    "\n",
    "# Series (정렬되어 있는 경우 scala value값이 나옴)\n",
    "ts['1/10/2011']\n",
    "ts['1-7/2011']\n",
    "ts['20100110']\n",
    "\n",
    "ts[datetime(2011,1,7)]"
   ]
  },
  {
   "cell_type": "markdown",
   "metadata": {},
   "source": [
    "- 년 또는 월만으로 해당 기간의 데이터 선택"
   ]
  },
  {
   "cell_type": "code",
   "execution_count": 13,
   "metadata": {},
   "outputs": [
    {
     "data": {
      "text/plain": [
       "2017-11-01    0.768101\n",
       "2017-11-02    1.248804\n",
       "2017-11-03    0.774191\n",
       "2017-11-04   -0.319657\n",
       "2017-11-05   -0.624964\n",
       "2017-11-06    1.078814\n",
       "                ...   \n",
       "2020-07-22    0.168113\n",
       "2020-07-23    0.241034\n",
       "2020-07-24   -0.061195\n",
       "2020-07-25    0.515580\n",
       "2020-07-26   -0.902991\n",
       "2020-07-27   -1.786625\n",
       "Freq: D, Length: 1000, dtype: float64"
      ]
     },
     "execution_count": 13,
     "metadata": {},
     "output_type": "execute_result"
    }
   ],
   "source": [
    "# date_range 하루씩 Freq : D(기본값) periods 1000개 만큼 만듬.\n",
    "longer_ts = Series(np.random.randn(1000),\n",
    "                  index=pd.date_range('11/1/2017', periods=1000))\n",
    "longer_ts"
   ]
  },
  {
   "cell_type": "code",
   "execution_count": 14,
   "metadata": {},
   "outputs": [
    {
     "data": {
      "text/plain": [
       "2017-11-01    0.768101\n",
       "2017-11-02    1.248804\n",
       "2017-11-03    0.774191\n",
       "2017-11-04   -0.319657\n",
       "2017-11-05   -0.624964\n",
       "2017-11-06    1.078814\n",
       "                ...   \n",
       "2017-12-26   -0.731743\n",
       "2017-12-27   -0.787226\n",
       "2017-12-28   -0.024116\n",
       "2017-12-29    1.462648\n",
       "2017-12-30   -1.651593\n",
       "2017-12-31    0.221755\n",
       "Freq: D, Length: 61, dtype: float64"
      ]
     },
     "execution_count": 14,
     "metadata": {},
     "output_type": "execute_result"
    }
   ],
   "source": [
    "longer_ts['2017']"
   ]
  },
  {
   "cell_type": "code",
   "execution_count": 15,
   "metadata": {},
   "outputs": [
    {
     "data": {
      "text/plain": [
       "2018-12-01    0.778029\n",
       "2018-12-02    1.094729\n",
       "2018-12-03    0.039997\n",
       "2018-12-04   -1.363180\n",
       "2018-12-05   -1.797116\n",
       "2018-12-06    0.252152\n",
       "                ...   \n",
       "2018-12-26   -1.123359\n",
       "2018-12-27    0.526940\n",
       "2018-12-28   -0.020369\n",
       "2018-12-29    1.249284\n",
       "2018-12-30    0.241511\n",
       "2018-12-31    0.098674\n",
       "Freq: D, Length: 31, dtype: float64"
      ]
     },
     "execution_count": 15,
     "metadata": {},
     "output_type": "execute_result"
    }
   ],
   "source": [
    "longer_ts['2018-12']"
   ]
  },
  {
   "cell_type": "markdown",
   "metadata": {},
   "source": [
    "- 날짜로 데이터 자르기\n",
    "        원본 시계열 데이터에 대한 뷰 생성"
   ]
  },
  {
   "cell_type": "code",
   "execution_count": 16,
   "metadata": {},
   "outputs": [
    {
     "data": {
      "text/plain": [
       "2011-01-02    2\n",
       "2011-01-05    5\n",
       "2011-01-07    5\n",
       "2011-01-08    1\n",
       "2011-01-10    4\n",
       "2011-01-01    1\n",
       "dtype: int32"
      ]
     },
     "execution_count": 16,
     "metadata": {},
     "output_type": "execute_result"
    },
    {
     "data": {
      "text/plain": [
       "2011-01-07    5\n",
       "2011-01-08    1\n",
       "2011-01-10    4\n",
       "2011-01-01    1\n",
       "dtype: int32"
      ]
     },
     "execution_count": 16,
     "metadata": {},
     "output_type": "execute_result"
    }
   ],
   "source": [
    "ts\n",
    "ts[datetime(2011,1,7):]"
   ]
  },
  {
   "cell_type": "code",
   "execution_count": 17,
   "metadata": {},
   "outputs": [
    {
     "data": {
      "text/plain": [
       "2011-01-07    5\n",
       "2011-01-08    1\n",
       "2011-01-10    4\n",
       "dtype: int32"
      ]
     },
     "execution_count": 17,
     "metadata": {},
     "output_type": "execute_result"
    }
   ],
   "source": [
    "ts['1/6/2011':'1/10/2011'] # 뒷 날짜가 포함됨"
   ]
  },
  {
   "cell_type": "markdown",
   "metadata": {},
   "source": [
    "- 시계열 데이터는 특정날짜 기준으로 앞, 뒤 버리기.\n",
    "    - 특정날짜는 포함됨."
   ]
  },
  {
   "cell_type": "code",
   "execution_count": 18,
   "metadata": {},
   "outputs": [
    {
     "data": {
      "text/plain": [
       "2011-01-02    2\n",
       "2011-01-05    5\n",
       "2011-01-07    5\n",
       "2011-01-08    1\n",
       "2011-01-10    4\n",
       "2011-01-01    1\n",
       "dtype: int32"
      ]
     },
     "execution_count": 18,
     "metadata": {},
     "output_type": "execute_result"
    },
    {
     "data": {
      "text/plain": [
       "2011-01-02    2\n",
       "2011-01-05    5\n",
       "2011-01-07    5\n",
       "2011-01-08    1\n",
       "dtype: int32"
      ]
     },
     "execution_count": 18,
     "metadata": {},
     "output_type": "execute_result"
    },
    {
     "data": {
      "text/plain": [
       "2011-01-08    1\n",
       "2011-01-10    4\n",
       "2011-01-01    1\n",
       "dtype: int32"
      ]
     },
     "execution_count": 18,
     "metadata": {},
     "output_type": "execute_result"
    }
   ],
   "source": [
    "ts\n",
    "ts.truncate(after='1/8/2011')\n",
    "ts.truncate(before='1/8/2011')"
   ]
  },
  {
   "cell_type": "markdown",
   "metadata": {},
   "source": [
    "- 시계열 데이터 접근(indexing): 데이터프레임에도 동일 적용.\n",
    "    - row 인덱스 적용"
   ]
  },
  {
   "cell_type": "code",
   "execution_count": 19,
   "metadata": {},
   "outputs": [
    {
     "data": {
      "text/plain": [
       "            Colorado  Texas  New York  Ohio\n",
       "2017-11-04        35     54        14     7\n",
       "2017-11-11        49      0         2     1\n",
       "2017-11-18        23     43        90     7\n",
       "2017-11-25        51     12        97    40"
      ]
     },
     "execution_count": 19,
     "metadata": {},
     "output_type": "execute_result"
    }
   ],
   "source": [
    "# freq='W-WED' 매주 수요일로 100개 만든다.\n",
    "dates = pd.date_range('1/1/2017', periods=100, freq='W-SAT') # 매주 토요일\n",
    "# dates\n",
    "long_df = DataFrame(np.random.randint(100, size=(100,4)),\n",
    "                   index=dates,\n",
    "                   columns=['Colorado','Texas','New York','Ohio'])\n",
    "long_df['11-2017']"
   ]
  },
  {
   "cell_type": "markdown",
   "metadata": {},
   "source": [
    "### 10.2.2: 중복된 색인을 갖는 시계열"
   ]
  },
  {
   "cell_type": "code",
   "execution_count": 20,
   "metadata": {},
   "outputs": [
    {
     "data": {
      "text/plain": [
       "DatetimeIndex(['2000-01-01', '2000-01-02', '2000-01-02', '2000-01-02',\n",
       "               '2000-01-03'],\n",
       "              dtype='datetime64[ns]', freq=None)"
      ]
     },
     "execution_count": 20,
     "metadata": {},
     "output_type": "execute_result"
    },
    {
     "data": {
      "text/plain": [
       "2000-01-01    0\n",
       "2000-01-02    1\n",
       "2000-01-02    2\n",
       "2000-01-02    3\n",
       "2000-01-03    4\n",
       "dtype: int32"
      ]
     },
     "execution_count": 20,
     "metadata": {},
     "output_type": "execute_result"
    }
   ],
   "source": [
    "dates = pd.DatetimeIndex(['1/1/2000','1/2/2000','1/2/2000','1/2/2000',\n",
    "                         '1/3/2000'])\n",
    "dates\n",
    "dup_ts = Series(np.arange(5), index=dates)\n",
    "dup_ts"
   ]
  },
  {
   "cell_type": "code",
   "execution_count": 21,
   "metadata": {},
   "outputs": [
    {
     "data": {
      "text/plain": [
       "False"
      ]
     },
     "execution_count": 21,
     "metadata": {},
     "output_type": "execute_result"
    }
   ],
   "source": [
    "# 시계열 데이터 인덱스의 유일여부 확인.\n",
    "dup_ts.index.is_unique"
   ]
  },
  {
   "cell_type": "code",
   "execution_count": 22,
   "metadata": {},
   "outputs": [
    {
     "data": {
      "text/plain": [
       "4"
      ]
     },
     "execution_count": 22,
     "metadata": {},
     "output_type": "execute_result"
    },
    {
     "data": {
      "text/plain": [
       "2000-01-02    1\n",
       "2000-01-02    2\n",
       "2000-01-02    3\n",
       "dtype: int32"
      ]
     },
     "execution_count": 22,
     "metadata": {},
     "output_type": "execute_result"
    }
   ],
   "source": [
    "## 시계열 데이터 접근\n",
    "# 인덱스가 유일 O > 스칼라\n",
    "# 인덱스가 유일 X > 시계열\n",
    "dup_ts['1/3/2000'] # 중복데이터가 아닌 경우\n",
    "dup_ts['1/2/2000'] # 중복데이터인 경우"
   ]
  },
  {
   "cell_type": "markdown",
   "metadata": {},
   "source": [
    "- Timestamp 인덱스로 그룹지어서 집계"
   ]
  },
  {
   "cell_type": "code",
   "execution_count": 23,
   "metadata": {},
   "outputs": [
    {
     "data": {
      "text/plain": [
       "2000-01-01    0\n",
       "2000-01-02    2\n",
       "2000-01-03    4\n",
       "dtype: int32"
      ]
     },
     "execution_count": 23,
     "metadata": {},
     "output_type": "execute_result"
    }
   ],
   "source": [
    "grouped = dup_ts.groupby(level=0)\n",
    "grouped.mean()"
   ]
  },
  {
   "cell_type": "code",
   "execution_count": 24,
   "metadata": {},
   "outputs": [
    {
     "data": {
      "text/plain": [
       "2000-01-01    1\n",
       "2000-01-02    3\n",
       "2000-01-03    1\n",
       "dtype: int64"
      ]
     },
     "execution_count": 24,
     "metadata": {},
     "output_type": "execute_result"
    },
    {
     "data": {
      "text/plain": [
       "5"
      ]
     },
     "execution_count": 24,
     "metadata": {},
     "output_type": "execute_result"
    }
   ],
   "source": [
    "grouped.count()\n",
    "dup_ts.count()"
   ]
  },
  {
   "cell_type": "markdown",
   "metadata": {},
   "source": [
    "## 10.3: 날짜범위, 빈도, 이동"
   ]
  },
  {
   "cell_type": "markdown",
   "metadata": {},
   "source": [
    "날짜범위빈도\n",
    "- 시간이 불규칙한 시계열 -> 고정빈도 시계열(1일,1주일씩 ...) 로 변환.\n",
    "    - resamle API가 좀 더 groupby처럼 변경됨\n",
    "    - asfreq()빈도가 변경된 시게열을 반환\n",
    "    - DateOffset object\n",
    "      https://pandas.pydata.org/pandas-docs/stable/timeseries.html#offset-aliases\n",
    "    - Frequency Strings(Offset aliase) "
   ]
  },
  {
   "cell_type": "code",
   "execution_count": 26,
   "metadata": {},
   "outputs": [
    {
     "data": {
      "text/plain": [
       "2011-01-02    2\n",
       "2011-01-05    5\n",
       "2011-01-07    5\n",
       "2011-01-08    1\n",
       "2011-01-10    4\n",
       "2011-01-01    1\n",
       "dtype: int32"
      ]
     },
     "execution_count": 26,
     "metadata": {},
     "output_type": "execute_result"
    }
   ],
   "source": [
    "ts"
   ]
  },
  {
   "cell_type": "code",
   "execution_count": 29,
   "metadata": {},
   "outputs": [
    {
     "data": {
      "text/plain": [
       "DatetimeIndexResampler [freq=<Day>, axis=0, closed=left, label=left, convention=start, base=0]"
      ]
     },
     "execution_count": 29,
     "metadata": {},
     "output_type": "execute_result"
    },
    {
     "data": {
      "text/plain": [
       "2011-01-01    1.0\n",
       "2011-01-02    2.0\n",
       "2011-01-03    NaN\n",
       "2011-01-04    NaN\n",
       "2011-01-05    5.0\n",
       "2011-01-06    NaN\n",
       "2011-01-07    5.0\n",
       "2011-01-08    1.0\n",
       "2011-01-09    NaN\n",
       "2011-01-10    4.0\n",
       "Freq: D, dtype: float64"
      ]
     },
     "execution_count": 29,
     "metadata": {},
     "output_type": "execute_result"
    }
   ],
   "source": [
    "ts.resample('D') # 객체반환으로 변경됨\n",
    "ts.resample('D').asfreq() # 일 빈도로 변환시켜 나타냄"
   ]
  },
  {
   "cell_type": "code",
   "execution_count": 32,
   "metadata": {},
   "outputs": [
    {
     "data": {
      "text/plain": [
       "2011-01-01    1.0\n",
       "2011-01-02    2.0\n",
       "2011-01-03    NaN\n",
       "2011-01-04    NaN\n",
       "2011-01-05    5.0\n",
       "2011-01-06    NaN\n",
       "2011-01-07    5.0\n",
       "2011-01-08    1.0\n",
       "2011-01-09    NaN\n",
       "2011-01-10    4.0\n",
       "Freq: D, dtype: float64"
      ]
     },
     "execution_count": 32,
     "metadata": {},
     "output_type": "execute_result"
    },
    {
     "data": {
      "text/plain": [
       "2011-01-01    3\n",
       "2011-01-04    5\n",
       "2011-01-07    6\n",
       "2011-01-10    4\n",
       "Freq: 3D, dtype: int32"
      ]
     },
     "execution_count": 32,
     "metadata": {},
     "output_type": "execute_result"
    }
   ],
   "source": [
    "ts.resample('D').sum()\n",
    "ts.resample('3D').sum() # 3일에 한번씩 sum(원래 범위를 벗어나지 않음)"
   ]
  },
  {
   "cell_type": "markdown",
   "metadata": {},
   "source": [
    "### 10.3.1: 날짜 범위 생성하기\n",
    "- pandas의 date_range() : 특정 빈도에 따라 지정된 길이 만큼 DatetimeIndex를 생성."
   ]
  },
  {
   "cell_type": "code",
   "execution_count": 36,
   "metadata": {},
   "outputs": [
    {
     "data": {
      "text/plain": [
       "DatetimeIndex(['2012-04-01', '2012-04-02', '2012-04-03', '2012-04-04',\n",
       "               '2012-04-05', '2012-04-06', '2012-04-07', '2012-04-08',\n",
       "               '2012-04-09', '2012-04-10', '2012-04-11', '2012-04-12',\n",
       "               '2012-04-13', '2012-04-14', '2012-04-15', '2012-04-16',\n",
       "               '2012-04-17', '2012-04-18', '2012-04-19', '2012-04-20',\n",
       "               '2012-04-21', '2012-04-22', '2012-04-23', '2012-04-24',\n",
       "               '2012-04-25', '2012-04-26', '2012-04-27', '2012-04-28',\n",
       "               '2012-04-29', '2012-04-30', '2012-05-01', '2012-05-02',\n",
       "               '2012-05-03', '2012-05-04', '2012-05-05', '2012-05-06',\n",
       "               '2012-05-07', '2012-05-08', '2012-05-09', '2012-05-10',\n",
       "               '2012-05-11', '2012-05-12', '2012-05-13', '2012-05-14',\n",
       "               '2012-05-15', '2012-05-16', '2012-05-17', '2012-05-18',\n",
       "               '2012-05-19', '2012-05-20', '2012-05-21', '2012-05-22',\n",
       "               '2012-05-23', '2012-05-24', '2012-05-25', '2012-05-26',\n",
       "               '2012-05-27', '2012-05-28', '2012-05-29', '2012-05-30',\n",
       "               '2012-05-31', '2012-06-01'],\n",
       "              dtype='datetime64[ns]', freq='D')"
      ]
     },
     "execution_count": 36,
     "metadata": {},
     "output_type": "execute_result"
    }
   ],
   "source": [
    "index = pd.date_range('4/1/2012', '6/1/2012') # default 빈도는 day!\n",
    "index "
   ]
  },
  {
   "cell_type": "code",
   "execution_count": 38,
   "metadata": {},
   "outputs": [
    {
     "data": {
      "text/plain": [
       "DatetimeIndex(['2012-04-01', '2012-04-02', '2012-04-03', '2012-04-04',\n",
       "               '2012-04-05', '2012-04-06', '2012-04-07', '2012-04-08',\n",
       "               '2012-04-09', '2012-04-10', '2012-04-11', '2012-04-12',\n",
       "               '2012-04-13', '2012-04-14', '2012-04-15', '2012-04-16',\n",
       "               '2012-04-17', '2012-04-18', '2012-04-19', '2012-04-20'],\n",
       "              dtype='datetime64[ns]', freq='D')"
      ]
     },
     "execution_count": 38,
     "metadata": {},
     "output_type": "execute_result"
    }
   ],
   "source": [
    "pd.date_range(start='4/1/2012', periods=20) # 시작일로부터 20일까지"
   ]
  },
  {
   "cell_type": "code",
   "execution_count": 40,
   "metadata": {},
   "outputs": [
    {
     "data": {
      "text/plain": [
       "DatetimeIndex(['2012-05-13', '2012-05-14', '2012-05-15', '2012-05-16',\n",
       "               '2012-05-17', '2012-05-18', '2012-05-19', '2012-05-20',\n",
       "               '2012-05-21', '2012-05-22', '2012-05-23', '2012-05-24',\n",
       "               '2012-05-25', '2012-05-26', '2012-05-27', '2012-05-28',\n",
       "               '2012-05-29', '2012-05-30', '2012-05-31', '2012-06-01'],\n",
       "              dtype='datetime64[ns]', freq='D')"
      ]
     },
     "execution_count": 40,
     "metadata": {},
     "output_type": "execute_result"
    }
   ],
   "source": [
    "pd.date_range(end='6/1/2012', periods=20) # 끝일로부터 20일전까지"
   ]
  },
  {
   "cell_type": "markdown",
   "metadata": {},
   "source": [
    "- 매월 마지막 영업일 포함"
   ]
  },
  {
   "cell_type": "code",
   "execution_count": 44,
   "metadata": {},
   "outputs": [
    {
     "data": {
      "text/plain": [
       "DatetimeIndex(['2017-01-02', '2017-02-01', '2017-03-01', '2017-04-03',\n",
       "               '2017-05-01', '2017-06-01', '2017-07-03', '2017-08-01',\n",
       "               '2017-09-01', '2017-10-02', '2017-11-01', '2017-12-01',\n",
       "               '2018-01-01'],\n",
       "              dtype='datetime64[ns]', freq='BMS')"
      ]
     },
     "execution_count": 44,
     "metadata": {},
     "output_type": "execute_result"
    },
    {
     "data": {
      "text/plain": [
       "DatetimeIndex(['2017-01-31', '2017-02-28', '2017-03-31', '2017-04-28',\n",
       "               '2017-05-31', '2017-06-30', '2017-07-31', '2017-08-31',\n",
       "               '2017-09-29', '2017-10-31', '2017-11-30', '2017-12-29'],\n",
       "              dtype='datetime64[ns]', freq='BM')"
      ]
     },
     "execution_count": 44,
     "metadata": {},
     "output_type": "execute_result"
    }
   ],
   "source": [
    "pd.date_range('1/1/2017', '1/1/2018', freq='BMS') # 매월 영업일 시작일\n",
    "pd.date_range('1/1/2017', '1/1/2018', freq='BM') # 매월 끝 영업일"
   ]
  },
  {
   "cell_type": "code",
   "execution_count": 47,
   "metadata": {},
   "outputs": [
    {
     "data": {
      "text/plain": [
       "DatetimeIndex(['2017-11-27 21:02:31', '2017-11-28 21:02:31',\n",
       "               '2017-11-29 21:02:31', '2017-11-30 21:02:31',\n",
       "               '2017-12-01 21:02:31'],\n",
       "              dtype='datetime64[ns]', freq='D')"
      ]
     },
     "execution_count": 47,
     "metadata": {},
     "output_type": "execute_result"
    }
   ],
   "source": [
    "pd.date_range('11/27/2017 21:02:31', periods=5) # 시,분,초 유지됨"
   ]
  },
  {
   "cell_type": "code",
   "execution_count": 49,
   "metadata": {},
   "outputs": [
    {
     "data": {
      "text/plain": [
       "DatetimeIndex(['2017-11-27', '2017-11-28', '2017-11-29', '2017-11-30',\n",
       "               '2017-12-01'],\n",
       "              dtype='datetime64[ns]', freq='D')"
      ]
     },
     "execution_count": 49,
     "metadata": {},
     "output_type": "execute_result"
    }
   ],
   "source": [
    "# 자정에 맞춰 타임스탬프 정규화(Normalization)\n",
    "## start, end 날짜를 자정으로 정규화한 후 date_range 실행\n",
    "pd.date_range('11/27/2017 21:02:31', periods=5, normalize=True)"
   ]
  },
  {
   "cell_type": "markdown",
   "metadata": {},
   "source": [
    "### 10.3.2: 빈도와 날짜 오프셋\n",
    "- 빈도 = 기본빈도(M(월별),H(시간별) 등) * 배수"
   ]
  },
  {
   "cell_type": "code",
   "execution_count": 51,
   "metadata": {},
   "outputs": [
    {
     "data": {
      "text/plain": [
       "<Hour>"
      ]
     },
     "execution_count": 51,
     "metadata": {},
     "output_type": "execute_result"
    }
   ],
   "source": [
    "from pandas.tseries.offsets import Hour, Minute\n",
    "hour = Hour()\n",
    "hour # 시간별 빈도 클래스 객체"
   ]
  },
  {
   "cell_type": "code",
   "execution_count": 53,
   "metadata": {},
   "outputs": [
    {
     "data": {
      "text/plain": [
       "<4 * Hours>"
      ]
     },
     "execution_count": 53,
     "metadata": {},
     "output_type": "execute_result"
    }
   ],
   "source": [
    "four_hours = Hour(4)\n",
    "four_hours"
   ]
  },
  {
   "cell_type": "code",
   "execution_count": 55,
   "metadata": {},
   "outputs": [
    {
     "data": {
      "text/plain": [
       "DatetimeIndex(['2000-01-01 00:00:00', '2000-01-01 05:00:00',\n",
       "               '2000-01-01 10:00:00', '2000-01-01 15:00:00',\n",
       "               '2000-01-01 20:00:00', '2000-01-02 01:00:00',\n",
       "               '2000-01-02 06:00:00', '2000-01-02 11:00:00',\n",
       "               '2000-01-02 16:00:00', '2000-01-02 21:00:00',\n",
       "               '2000-01-03 02:00:00', '2000-01-03 07:00:00',\n",
       "               '2000-01-03 12:00:00', '2000-01-03 17:00:00',\n",
       "               '2000-01-03 22:00:00'],\n",
       "              dtype='datetime64[ns]', freq='5H')"
      ]
     },
     "execution_count": 55,
     "metadata": {},
     "output_type": "execute_result"
    }
   ],
   "source": [
    "# 간단한 문자열의 형태로 사용시\n",
    "pd.date_range('1/1/2000', '1/3/2000 23:59', freq='5h') # 5시간마다 하나씩"
   ]
  },
  {
   "cell_type": "code",
   "execution_count": 58,
   "metadata": {},
   "outputs": [
    {
     "data": {
      "text/plain": [
       "<220 * Minutes>"
      ]
     },
     "execution_count": 58,
     "metadata": {},
     "output_type": "execute_result"
    }
   ],
   "source": [
    "# 여러 오프셋은 덧셈으로 합쳐질 수 있음\n",
    "Hour(3)+Minute(40)"
   ]
  },
  {
   "cell_type": "code",
   "execution_count": 61,
   "metadata": {},
   "outputs": [
    {
     "data": {
      "text/plain": [
       "DatetimeIndex(['2000-01-01 00:00:00', '2000-01-01 02:30:00',\n",
       "               '2000-01-01 05:00:00', '2000-01-01 07:30:00',\n",
       "               '2000-01-01 10:00:00', '2000-01-01 12:30:00',\n",
       "               '2000-01-01 15:00:00', '2000-01-01 17:30:00',\n",
       "               '2000-01-01 20:00:00', '2000-01-01 22:30:00'],\n",
       "              dtype='datetime64[ns]', freq='150T')"
      ]
     },
     "execution_count": 61,
     "metadata": {},
     "output_type": "execute_result"
    }
   ],
   "source": [
    "pd.date_range('1/1/2000', periods=10, freq='2h30min') # 2h30min마다"
   ]
  },
  {
   "cell_type": "markdown",
   "metadata": {},
   "source": [
    "- 앵커드 오프셋(Anchored Offset):\n",
    "    D,B,H,U,M외에 W-MON, Q-JAN과 같이 매주 월요일, 분기 2월부터 시작해서 다음 1월 끝, 영업일 기준시 쓰는 오프셋"
   ]
  },
  {
   "cell_type": "markdown",
   "metadata": {},
   "source": [
    "#### 월별 주차"
   ]
  },
  {
   "cell_type": "code",
   "execution_count": 66,
   "metadata": {},
   "outputs": [
    {
     "data": {
      "text/plain": [
       "[Timestamp('2017-01-20 00:00:00', freq='WOM-3FRI'),\n",
       " Timestamp('2017-02-17 00:00:00', freq='WOM-3FRI'),\n",
       " Timestamp('2017-03-17 00:00:00', freq='WOM-3FRI'),\n",
       " Timestamp('2017-04-21 00:00:00', freq='WOM-3FRI'),\n",
       " Timestamp('2017-05-19 00:00:00', freq='WOM-3FRI'),\n",
       " Timestamp('2017-06-16 00:00:00', freq='WOM-3FRI'),\n",
       " Timestamp('2017-07-21 00:00:00', freq='WOM-3FRI'),\n",
       " Timestamp('2017-08-18 00:00:00', freq='WOM-3FRI'),\n",
       " Timestamp('2017-09-15 00:00:00', freq='WOM-3FRI'),\n",
       " Timestamp('2017-10-20 00:00:00', freq='WOM-3FRI'),\n",
       " Timestamp('2017-11-17 00:00:00', freq='WOM-3FRI')]"
      ]
     },
     "execution_count": 66,
     "metadata": {},
     "output_type": "execute_result"
    },
    {
     "data": {
      "text/plain": [
       "DatetimeIndex(['2017-01-06', '2017-01-27', '2017-02-17', '2017-03-10',\n",
       "               '2017-03-31', '2017-04-21', '2017-05-12', '2017-06-02',\n",
       "               '2017-06-23', '2017-07-14', '2017-08-04', '2017-08-25',\n",
       "               '2017-09-15', '2017-10-06', '2017-10-27', '2017-11-17'],\n",
       "              dtype='datetime64[ns]', freq='3W-FRI')"
      ]
     },
     "execution_count": 66,
     "metadata": {},
     "output_type": "execute_result"
    },
    {
     "data": {
      "text/plain": [
       "DatetimeIndex(['2017-09-17', '2017-10-08', '2017-10-29', '2017-11-19',\n",
       "               '2017-12-10', '2017-12-31', '2018-01-21', '2018-02-11',\n",
       "               '2018-03-04', '2018-03-25'],\n",
       "              dtype='datetime64[ns]', freq='3W-SUN')"
      ]
     },
     "execution_count": 66,
     "metadata": {},
     "output_type": "execute_result"
    }
   ],
   "source": [
    "# 매월 셋째주 금요일\n",
    "rng = pd.date_range('1/1/2017','12/1/2017', freq='WOM-3FRI')\n",
    "list(rng)\n",
    "pd.date_range('1/1/2017','12/1/2017', freq='3W-FRI') # 매주 3주기간으로 금요일 뽑기.\n",
    "pd.date_range('2017-09-13', periods=10, freq='3W')\n",
    "# 9월 13일이 들어있는 일요일에서 3주간격으로 10개의 날짜를 뽑기."
   ]
  },
  {
   "cell_type": "markdown",
   "metadata": {},
   "source": [
    "### 10.3.3: 데이터 시프트(Shifting: Leading and Lagging)\n",
    "- 시프트 : 데이터를 시간 축에서 앞이나 뒤로 이동하는 것."
   ]
  },
  {
   "cell_type": "code",
   "execution_count": 69,
   "metadata": {},
   "outputs": [
    {
     "data": {
      "text/plain": [
       "2017-09-30    0.745231\n",
       "2017-10-31   -2.302692\n",
       "2017-11-30    1.072055\n",
       "2017-12-31    0.218818\n",
       "Freq: M, dtype: float64"
      ]
     },
     "execution_count": 69,
     "metadata": {},
     "output_type": "execute_result"
    }
   ],
   "source": [
    "ts = Series(np.random.randn(4),\n",
    "           index=pd.date_range('9/1/2017', periods=4, freq='M'))\n",
    "ts"
   ]
  },
  {
   "cell_type": "markdown",
   "metadata": {},
   "source": [
    "- 느슨한 시프트 \n",
    "    - 시간인덱스는 그대로, 데이터만 이동\n",
    "    - 데이터가 버려질 수 있음."
   ]
  },
  {
   "cell_type": "code",
   "execution_count": 71,
   "metadata": {},
   "outputs": [
    {
     "data": {
      "text/plain": [
       "2017-09-30    0.745231\n",
       "2017-10-31   -2.302692\n",
       "2017-11-30    1.072055\n",
       "2017-12-31    0.218818\n",
       "Freq: M, dtype: float64"
      ]
     },
     "execution_count": 71,
     "metadata": {},
     "output_type": "execute_result"
    },
    {
     "data": {
      "text/plain": [
       "2017-09-30         NaN\n",
       "2017-10-31         NaN\n",
       "2017-11-30    0.745231\n",
       "2017-12-31   -2.302692\n",
       "Freq: M, dtype: float64"
      ]
     },
     "execution_count": 71,
     "metadata": {},
     "output_type": "execute_result"
    },
    {
     "data": {
      "text/plain": [
       "2017-09-30    1.072055\n",
       "2017-10-31    0.218818\n",
       "2017-11-30         NaN\n",
       "2017-12-31         NaN\n",
       "Freq: M, dtype: float64"
      ]
     },
     "execution_count": 71,
     "metadata": {},
     "output_type": "execute_result"
    }
   ],
   "source": [
    "ts\n",
    "ts.shift(2)\n",
    "ts.shift(-2)"
   ]
  },
  {
   "cell_type": "markdown",
   "metadata": {},
   "source": [
    "- 시계열에서 퍼센트 계산"
   ]
  },
  {
   "cell_type": "code",
   "execution_count": 81,
   "metadata": {},
   "outputs": [
    {
     "data": {
      "text/plain": [
       "2017-09-30         NaN\n",
       "2017-10-31    0.745231\n",
       "2017-11-30   -2.302692\n",
       "2017-12-31    1.072055\n",
       "Freq: M, dtype: float64"
      ]
     },
     "execution_count": 81,
     "metadata": {},
     "output_type": "execute_result"
    },
    {
     "data": {
      "text/plain": [
       "2017-09-30         NaN\n",
       "2017-10-31   -4.089904\n",
       "2017-11-30   -1.465566\n",
       "2017-12-31   -0.795890\n",
       "Freq: M, dtype: float64"
      ]
     },
     "execution_count": 81,
     "metadata": {},
     "output_type": "execute_result"
    }
   ],
   "source": [
    "# 이전값보다 얼마나 늘었나 증가분 구하기\n",
    "ts.shift(1)\n",
    "ts / ts.shift(1) - 1"
   ]
  },
  {
   "cell_type": "code",
   "execution_count": 82,
   "metadata": {},
   "outputs": [
    {
     "data": {
      "text/plain": [
       "2017-09-30         NaN\n",
       "2017-10-31   -4.089904\n",
       "2017-11-30   -1.465566\n",
       "2017-12-31   -0.795890\n",
       "Freq: M, dtype: float64"
      ]
     },
     "execution_count": 82,
     "metadata": {},
     "output_type": "execute_result"
    },
    {
     "data": {
      "text/plain": [
       "2017-09-30         NaN\n",
       "2017-10-31         NaN\n",
       "2017-11-30    0.438555\n",
       "2017-12-31   -1.095027\n",
       "Freq: M, dtype: float64"
      ]
     },
     "execution_count": 82,
     "metadata": {},
     "output_type": "execute_result"
    }
   ],
   "source": [
    "ts.pct_change() # 퍼센트 증가분!\n",
    "ts.pct_change(2) # 2칸 시프트"
   ]
  },
  {
   "cell_type": "markdown",
   "metadata": {},
   "source": [
    "- freq 인자에 같은 빈도를 주면 인덱스가 변경됨\n",
    "but 데이터 개수는 변경되지 않음"
   ]
  },
  {
   "cell_type": "code",
   "execution_count": 84,
   "metadata": {},
   "outputs": [
    {
     "data": {
      "text/plain": [
       "2017-09-30    0.745231\n",
       "2017-10-31   -2.302692\n",
       "2017-11-30    1.072055\n",
       "2017-12-31    0.218818\n",
       "Freq: M, dtype: float64"
      ]
     },
     "execution_count": 84,
     "metadata": {},
     "output_type": "execute_result"
    },
    {
     "data": {
      "text/plain": [
       "2017-11-30    0.745231\n",
       "2017-12-31   -2.302692\n",
       "2018-01-31    1.072055\n",
       "2018-02-28    0.218818\n",
       "Freq: M, dtype: float64"
      ]
     },
     "execution_count": 84,
     "metadata": {},
     "output_type": "execute_result"
    }
   ],
   "source": [
    "ts\n",
    "ts.shift(2, freq='M') # 월말"
   ]
  },
  {
   "cell_type": "code",
   "execution_count": 87,
   "metadata": {},
   "outputs": [
    {
     "data": {
      "text/plain": [
       "2017-10-03    0.745231\n",
       "2017-11-03   -2.302692\n",
       "2017-12-03    1.072055\n",
       "2018-01-03    0.218818\n",
       "dtype: float64"
      ]
     },
     "execution_count": 87,
     "metadata": {},
     "output_type": "execute_result"
    },
    {
     "data": {
      "text/plain": [
       "2017-10-03    0.745231\n",
       "2017-11-03   -2.302692\n",
       "2017-12-03    1.072055\n",
       "2018-01-03    0.218818\n",
       "dtype: float64"
      ]
     },
     "execution_count": 87,
     "metadata": {},
     "output_type": "execute_result"
    }
   ],
   "source": [
    "ts.shift(3, freq='D') # 3day 뒤 index만 바뀜\n",
    "ts.shift(1, freq='3D') # 위와 같은 결과."
   ]
  },
  {
   "cell_type": "code",
   "execution_count": 90,
   "metadata": {},
   "outputs": [
    {
     "data": {
      "text/plain": [
       "2017-09-30 01:30:00    0.745231\n",
       "2017-10-31 01:30:00   -2.302692\n",
       "2017-11-30 01:30:00    1.072055\n",
       "2017-12-31 01:30:00    0.218818\n",
       "Freq: M, dtype: float64"
      ]
     },
     "execution_count": 90,
     "metadata": {},
     "output_type": "execute_result"
    }
   ],
   "source": [
    "ts.shift(1, freq='90T') # 90분 = 1시간 30분(1시30분?)"
   ]
  },
  {
   "cell_type": "markdown",
   "metadata": {},
   "source": [
    "#### 오프셋만큼 날짜 시프트하기."
   ]
  },
  {
   "cell_type": "code",
   "execution_count": 92,
   "metadata": {},
   "outputs": [
    {
     "data": {
      "text/plain": [
       "Timestamp('2011-11-20 00:00:00')"
      ]
     },
     "execution_count": 92,
     "metadata": {},
     "output_type": "execute_result"
    }
   ],
   "source": [
    "from pandas.tseries.offsets import Day, MonthEnd\n",
    "now = datetime(2011,11,17)\n",
    "now + 3 * Day() # 자동 형변환."
   ]
  },
  {
   "cell_type": "code",
   "execution_count": 94,
   "metadata": {},
   "outputs": [
    {
     "data": {
      "text/plain": [
       "Timestamp('2011-11-30 00:00:00')"
      ]
     },
     "execution_count": 94,
     "metadata": {},
     "output_type": "execute_result"
    }
   ],
   "source": [
    "now + MonthEnd()"
   ]
  },
  {
   "cell_type": "code",
   "execution_count": 96,
   "metadata": {},
   "outputs": [
    {
     "data": {
      "text/plain": [
       "Timestamp('2011-12-31 00:00:00')"
      ]
     },
     "execution_count": 96,
     "metadata": {},
     "output_type": "execute_result"
    }
   ],
   "source": [
    "now + MonthEnd(2) # 다음달의 마지막날"
   ]
  },
  {
   "cell_type": "markdown",
   "metadata": {},
   "source": [
    "- rollforward(), rollback() : 메서드를 활용해 명시적으로 각각 날짜를 앞으로 밀거나 당길수 있음."
   ]
  },
  {
   "cell_type": "code",
   "execution_count": 98,
   "metadata": {},
   "outputs": [
    {
     "data": {
      "text/plain": [
       "Timestamp('2011-11-30 00:00:00')"
      ]
     },
     "execution_count": 98,
     "metadata": {},
     "output_type": "execute_result"
    }
   ],
   "source": [
    "offset = MonthEnd()\n",
    "offset.rollforward(now) # 그 달의 마지막날로! (now + MonthEnd())"
   ]
  },
  {
   "cell_type": "code",
   "execution_count": 101,
   "metadata": {},
   "outputs": [
    {
     "data": {
      "text/plain": [
       "Timestamp('2011-10-31 00:00:00')"
      ]
     },
     "execution_count": 101,
     "metadata": {},
     "output_type": "execute_result"
    }
   ],
   "source": [
    "offset.rollback(now) # 그 전달의 마지막날 (now - MonthEnd())"
   ]
  },
  {
   "cell_type": "code",
   "execution_count": 104,
   "metadata": {},
   "outputs": [
    {
     "data": {
      "text/plain": [
       "2017-11-27   -1.020200\n",
       "2017-12-01    0.544978\n",
       "2017-12-05    0.654146\n",
       "2017-12-09    2.301466\n",
       "2017-12-13   -0.312340\n",
       "2017-12-17   -0.017415\n",
       "                ...   \n",
       "2018-01-22    0.671058\n",
       "2018-01-26    0.131795\n",
       "2018-01-30    1.051027\n",
       "2018-02-03    0.152935\n",
       "2018-02-07    0.196589\n",
       "2018-02-11    0.482493\n",
       "Freq: 4D, Length: 20, dtype: float64"
      ]
     },
     "execution_count": 104,
     "metadata": {},
     "output_type": "execute_result"
    },
    {
     "data": {
      "text/plain": [
       "2017-11-30   -1.020200\n",
       "2017-12-31    0.330114\n",
       "2018-01-31    0.464529\n",
       "2018-02-28    0.277339\n",
       "dtype: float64"
      ]
     },
     "execution_count": 104,
     "metadata": {},
     "output_type": "execute_result"
    }
   ],
   "source": [
    "# 4일에 한번씩 20개 날짜.\n",
    "ts = Series(np.random.randn(20),\n",
    "           index=pd.date_range('11/27/2017', periods=20, freq='4D'))\n",
    "ts\n",
    "# groupby에 함수를 주면 index에 적용됨\n",
    "# 말일날짜 기준으로 평균을 모음.\n",
    "ts.groupby(offset.rollforward).mean()"
   ]
  },
  {
   "cell_type": "code",
   "execution_count": 111,
   "metadata": {},
   "outputs": [
    {
     "data": {
      "text/plain": [
       "2017-11-30   -1.020200\n",
       "2017-12-31    0.330114\n",
       "2018-01-31    0.464529\n",
       "2018-02-28    0.277339\n",
       "Freq: M, dtype: float64"
      ]
     },
     "execution_count": 111,
     "metadata": {},
     "output_type": "execute_result"
    }
   ],
   "source": [
    "# ts.resample('M', how='mean') # 위와 같은 결과. (예전방식)\n",
    "ts.resample('M').mean() # 위와 같은 결과."
   ]
  },
  {
   "cell_type": "markdown",
   "metadata": {},
   "source": [
    "## 10.4: 시간대 다루기(Time Zone Handling)\n",
    "시간대\n",
    "- DST(일광절약시간, Day Saving Time 서머타임)\n",
    "- UTC(국제표준시, Coordinate Universal Time)\n",
    "    - pytz 패키지 : Olson 시간대 데이터베이스를 기준으로 한 역사적인 시간대와 현대적인 시간대를 모두 망라하고 있는 라이브러리"
   ]
  },
  {
   "cell_type": "code",
   "execution_count": 6,
   "metadata": {},
   "outputs": [
    {
     "data": {
      "text/plain": [
       "['US/Eastern', 'US/Hawaii', 'US/Mountain', 'US/Pacific', 'UTC']"
      ]
     },
     "execution_count": 6,
     "metadata": {},
     "output_type": "execute_result"
    }
   ],
   "source": [
    "import pytz\n",
    "pytz.common_timezones[-5:]"
   ]
  },
  {
   "cell_type": "code",
   "execution_count": 7,
   "metadata": {},
   "outputs": [
    {
     "data": {
      "text/plain": [
       "['Asia/Aden',\n",
       " 'Asia/Almaty',\n",
       " 'Asia/Amman',\n",
       " 'Asia/Anadyr',\n",
       " 'Asia/Aqtau',\n",
       " 'Asia/Aqtobe',\n",
       " 'Asia/Ashgabat',\n",
       " 'Asia/Atyrau',\n",
       " 'Asia/Baghdad',\n",
       " 'Asia/Bahrain']"
      ]
     },
     "execution_count": 7,
     "metadata": {},
     "output_type": "execute_result"
    },
    {
     "data": {
      "text/plain": [
       "['Asia/Seoul']"
      ]
     },
     "execution_count": 7,
     "metadata": {},
     "output_type": "execute_result"
    }
   ],
   "source": [
    "[x for x in pytz.common_timezones if x.startswith('Asia')][:10]\n",
    "[x for x in pytz.common_timezones if x.endswith('Seoul')]"
   ]
  },
  {
   "cell_type": "code",
   "execution_count": 8,
   "metadata": {},
   "outputs": [
    {
     "data": {
      "text/plain": [
       "<DstTzInfo 'US/Eastern' LMT-1 day, 19:04:00 STD>"
      ]
     },
     "execution_count": 8,
     "metadata": {},
     "output_type": "execute_result"
    }
   ],
   "source": [
    "# TimeZone 객체 생성 : 시간대 객체 생성\n",
    "tz = pytz.timezone('US/Eastern')\n",
    "tz"
   ]
  },
  {
   "cell_type": "markdown",
   "metadata": {},
   "source": [
    "### 10.4.1: 지역화와 변환\n",
    "- 명시하지 않은 시간대는 None"
   ]
  },
  {
   "cell_type": "code",
   "execution_count": 9,
   "metadata": {
    "collapsed": true
   },
   "outputs": [],
   "source": [
    "rng = pd.date_range('3/9/2012 9:30', periods=6, freq='D')\n",
    "ts = Series(np.random.randn(len(rng)), index=rng)"
   ]
  },
  {
   "cell_type": "code",
   "execution_count": 10,
   "metadata": {},
   "outputs": [
    {
     "name": "stdout",
     "output_type": "stream",
     "text": [
      "None\n"
     ]
    }
   ],
   "source": [
    "print(ts.index.tz)\n",
    "# print(ts)"
   ]
  },
  {
   "cell_type": "markdown",
   "metadata": {},
   "source": [
    "- 시간대 지정하여 날짜범위 생성"
   ]
  },
  {
   "cell_type": "code",
   "execution_count": 11,
   "metadata": {},
   "outputs": [
    {
     "data": {
      "text/plain": [
       "DatetimeIndex(['2012-03-09 09:30:00+00:00', '2012-03-10 09:30:00+00:00',\n",
       "               '2012-03-11 09:30:00+00:00', '2012-03-12 09:30:00+00:00',\n",
       "               '2012-03-13 09:30:00+00:00', '2012-03-14 09:30:00+00:00',\n",
       "               '2012-03-15 09:30:00+00:00', '2012-03-16 09:30:00+00:00',\n",
       "               '2012-03-17 09:30:00+00:00', '2012-03-18 09:30:00+00:00'],\n",
       "              dtype='datetime64[ns, UTC]', freq='D')"
      ]
     },
     "execution_count": 11,
     "metadata": {},
     "output_type": "execute_result"
    }
   ],
   "source": [
    "pd.date_range('3/9/2012 9:30', periods=10, freq='D', tz='UTC')"
   ]
  },
  {
   "cell_type": "markdown",
   "metadata": {},
   "source": [
    "- 지정한 시간대로 시계열 변경\n",
    "    - 시간대가 없는 시계열 : tz_localize()\n",
    "    - 시간대가 있는 시계열 : tz_convert()\n",
    "          시간대가 다른 시계열로 변환\n",
    "          tz_localize(), tz_convert() : DatatimeIndex의 인스턴스 메서드"
   ]
  },
  {
   "cell_type": "code",
   "execution_count": 12,
   "metadata": {},
   "outputs": [
    {
     "data": {
      "text/plain": [
       "2012-03-09 09:30:00   -0.204708\n",
       "2012-03-10 09:30:00    0.478943\n",
       "2012-03-11 09:30:00   -0.519439\n",
       "2012-03-12 09:30:00   -0.555730\n",
       "2012-03-13 09:30:00    1.965781\n",
       "2012-03-14 09:30:00    1.393406\n",
       "Freq: D, dtype: float64"
      ]
     },
     "execution_count": 12,
     "metadata": {},
     "output_type": "execute_result"
    },
    {
     "data": {
      "text/plain": [
       "2012-03-09 09:30:00+00:00   -0.204708\n",
       "2012-03-10 09:30:00+00:00    0.478943\n",
       "2012-03-11 09:30:00+00:00   -0.519439\n",
       "2012-03-12 09:30:00+00:00   -0.555730\n",
       "2012-03-13 09:30:00+00:00    1.965781\n",
       "2012-03-14 09:30:00+00:00    1.393406\n",
       "Freq: D, dtype: float64"
      ]
     },
     "execution_count": 12,
     "metadata": {},
     "output_type": "execute_result"
    }
   ],
   "source": [
    "ts\n",
    "ts_utc = ts.tz_localize('UTC') # 현지화함\n",
    "ts_utc # +00:00 타임존이 들어감."
   ]
  },
  {
   "cell_type": "code",
   "execution_count": 13,
   "metadata": {},
   "outputs": [
    {
     "data": {
      "text/plain": [
       "DatetimeIndex(['2012-03-09 09:30:00+00:00', '2012-03-10 09:30:00+00:00',\n",
       "               '2012-03-11 09:30:00+00:00', '2012-03-12 09:30:00+00:00',\n",
       "               '2012-03-13 09:30:00+00:00', '2012-03-14 09:30:00+00:00'],\n",
       "              dtype='datetime64[ns, UTC]', freq='D')"
      ]
     },
     "execution_count": 13,
     "metadata": {},
     "output_type": "execute_result"
    }
   ],
   "source": [
    "ts_utc.index"
   ]
  },
  {
   "cell_type": "code",
   "execution_count": 14,
   "metadata": {},
   "outputs": [
    {
     "data": {
      "text/plain": [
       "2012-03-09 04:30:00-05:00   -0.204708\n",
       "2012-03-10 04:30:00-05:00    0.478943\n",
       "2012-03-11 05:30:00-04:00   -0.519439\n",
       "2012-03-12 05:30:00-04:00   -0.555730\n",
       "2012-03-13 05:30:00-04:00    1.965781\n",
       "2012-03-14 05:30:00-04:00    1.393406\n",
       "Freq: D, dtype: float64"
      ]
     },
     "execution_count": 14,
     "metadata": {},
     "output_type": "execute_result"
    }
   ],
   "source": [
    "ts_utc.tz_convert('US/Eastern') # 미동부 표준시간으로 변경, 표준보다 5시간 느림"
   ]
  },
  {
   "cell_type": "code",
   "execution_count": 15,
   "metadata": {},
   "outputs": [
    {
     "data": {
      "text/plain": [
       "2012-03-09 09:30:00   -0.204708\n",
       "2012-03-10 09:30:00    0.478943\n",
       "2012-03-11 09:30:00   -0.519439\n",
       "2012-03-12 09:30:00   -0.555730\n",
       "2012-03-13 09:30:00    1.965781\n",
       "2012-03-14 09:30:00    1.393406\n",
       "Freq: D, dtype: float64"
      ]
     },
     "execution_count": 15,
     "metadata": {},
     "output_type": "execute_result"
    },
    {
     "data": {
      "text/plain": [
       "2012-03-09 14:30:00+00:00   -0.204708\n",
       "2012-03-10 14:30:00+00:00    0.478943\n",
       "2012-03-11 13:30:00+00:00   -0.519439\n",
       "2012-03-12 13:30:00+00:00   -0.555730\n",
       "2012-03-13 13:30:00+00:00    1.965781\n",
       "2012-03-14 13:30:00+00:00    1.393406\n",
       "Freq: D, dtype: float64"
      ]
     },
     "execution_count": 15,
     "metadata": {},
     "output_type": "execute_result"
    }
   ],
   "source": [
    "# ts 타임존이 없는 데이터\n",
    "ts\n",
    "ts_eastern = ts.tz_localize('US/Eastern')\n",
    "ts_eastern.tz_convert('UTC')"
   ]
  },
  {
   "cell_type": "code",
   "execution_count": 16,
   "metadata": {},
   "outputs": [
    {
     "data": {
      "text/plain": [
       "2012-03-09 15:30:00+01:00   -0.204708\n",
       "2012-03-10 15:30:00+01:00    0.478943\n",
       "2012-03-11 14:30:00+01:00   -0.519439\n",
       "2012-03-12 14:30:00+01:00   -0.555730\n",
       "2012-03-13 14:30:00+01:00    1.965781\n",
       "2012-03-14 14:30:00+01:00    1.393406\n",
       "Freq: D, dtype: float64"
      ]
     },
     "execution_count": 16,
     "metadata": {},
     "output_type": "execute_result"
    }
   ],
   "source": [
    "# 베를린 시간으로 변환 \n",
    "ts_eastern.tz_convert('Europe/Berlin')"
   ]
  },
  {
   "cell_type": "code",
   "execution_count": 17,
   "metadata": {},
   "outputs": [
    {
     "data": {
      "text/plain": [
       "DatetimeIndex(['2012-03-09 09:30:00+08:00', '2012-03-10 09:30:00+08:00',\n",
       "               '2012-03-11 09:30:00+08:00', '2012-03-12 09:30:00+08:00',\n",
       "               '2012-03-13 09:30:00+08:00', '2012-03-14 09:30:00+08:00'],\n",
       "              dtype='datetime64[ns, Asia/Shanghai]', freq='D')"
      ]
     },
     "execution_count": 17,
     "metadata": {},
     "output_type": "execute_result"
    }
   ],
   "source": [
    "ts.index.tz_localize('Asia/Shanghai')"
   ]
  },
  {
   "cell_type": "markdown",
   "metadata": {},
   "source": [
    "### 10.4.2: 시간대 고려해 TimeStamp 객체 다루기"
   ]
  },
  {
   "cell_type": "code",
   "execution_count": 23,
   "metadata": {},
   "outputs": [
    {
     "data": {
      "text/plain": [
       "Timestamp('2011-03-02 04:00:00+0000', tz='UTC')"
      ]
     },
     "execution_count": 23,
     "metadata": {},
     "output_type": "execute_result"
    },
    {
     "data": {
      "text/plain": [
       "Timestamp('2011-03-01 23:00:00-0500', tz='US/Eastern')"
      ]
     },
     "execution_count": 23,
     "metadata": {},
     "output_type": "execute_result"
    },
    {
     "data": {
      "text/plain": [
       "Timestamp('2011-03-02 13:00:00+0900', tz='Asia/Seoul')"
      ]
     },
     "execution_count": 23,
     "metadata": {},
     "output_type": "execute_result"
    }
   ],
   "source": [
    "stamp = pd.Timestamp('2011-03-02 04:00')\n",
    "stamp_utc = stamp.tz_localize('utc'); stamp_utc\n",
    "stamp_utc.tz_convert('US/Eastern')\n",
    "stamp_utc.tz_convert('Asia/Seoul')"
   ]
  },
  {
   "cell_type": "markdown",
   "metadata": {},
   "source": [
    "- timezone 객체 생성시 시간대 지정"
   ]
  },
  {
   "cell_type": "code",
   "execution_count": 26,
   "metadata": {},
   "outputs": [
    {
     "data": {
      "text/plain": [
       "Timestamp('2011-03-12 04:00:00+0300', tz='Europe/Moscow')"
      ]
     },
     "execution_count": 26,
     "metadata": {},
     "output_type": "execute_result"
    }
   ],
   "source": [
    "stamp_moscow = pd.Timestamp('2011-03-12 04:00', tz='Europe/Moscow')\n",
    "stamp_moscow"
   ]
  },
  {
   "cell_type": "markdown",
   "metadata": {},
   "source": [
    "- UNIX epoch(1970년1월1일)부터 해당시간까지의 나노초\n",
    "    - 시간대 변환해도 유지됨\n",
    "    - 일종의 절대시간"
   ]
  },
  {
   "cell_type": "code",
   "execution_count": 28,
   "metadata": {},
   "outputs": [
    {
     "data": {
      "text/plain": [
       "1299038400000000000"
      ]
     },
     "execution_count": 28,
     "metadata": {},
     "output_type": "execute_result"
    }
   ],
   "source": [
    "stamp_utc.value"
   ]
  },
  {
   "cell_type": "code",
   "execution_count": 30,
   "metadata": {},
   "outputs": [
    {
     "data": {
      "text/plain": [
       "1299038400000000000"
      ]
     },
     "execution_count": 30,
     "metadata": {},
     "output_type": "execute_result"
    }
   ],
   "source": [
    "stamp_utc.tz_convert('US/Eastern').value"
   ]
  },
  {
   "cell_type": "markdown",
   "metadata": {},
   "source": [
    "- 일광절약시간제 고려한 시간계산\n",
    "    - 일광절약시간제\n",
    "    - DST 전환시점 고려"
   ]
  },
  {
   "cell_type": "code",
   "execution_count": 32,
   "metadata": {},
   "outputs": [
    {
     "data": {
      "text/plain": [
       "Timestamp('2012-03-12 01:30:00-0400', tz='US/Eastern')"
      ]
     },
     "execution_count": 32,
     "metadata": {},
     "output_type": "execute_result"
    }
   ],
   "source": [
    "# 30 minutes before DST transition\n",
    "from pandas.tseries.offsets import Hour\n",
    "stamp = pd.Timestamp('2012-03-12 01:30', tz='US/Eastern')\n",
    "stamp"
   ]
  },
  {
   "cell_type": "code",
   "execution_count": 34,
   "metadata": {},
   "outputs": [
    {
     "data": {
      "text/plain": [
       "Timestamp('2012-03-12 02:30:00-0400', tz='US/Eastern')"
      ]
     },
     "execution_count": 34,
     "metadata": {},
     "output_type": "execute_result"
    }
   ],
   "source": [
    "stamp + Hour()"
   ]
  },
  {
   "cell_type": "code",
   "execution_count": 36,
   "metadata": {},
   "outputs": [
    {
     "data": {
      "text/plain": [
       "Timestamp('2012-11-04 00:30:00-0400', tz='US/Eastern')"
      ]
     },
     "execution_count": 36,
     "metadata": {},
     "output_type": "execute_result"
    }
   ],
   "source": [
    "# 90 minute before DST transition\n",
    "stamp = pd.Timestamp('2012-11-04 00:30', tz='US/Eastern')\n",
    "stamp"
   ]
  },
  {
   "cell_type": "code",
   "execution_count": 38,
   "metadata": {},
   "outputs": [
    {
     "data": {
      "text/plain": [
       "Timestamp('2012-11-04 01:30:00-0500', tz='US/Eastern')"
      ]
     },
     "execution_count": 38,
     "metadata": {},
     "output_type": "execute_result"
    }
   ],
   "source": [
    "# 일광절약시간대가 해지되는 시간\n",
    "stamp + 2 * Hour() # 한시간이 늦춰짐 일광절약시간대!"
   ]
  },
  {
   "cell_type": "markdown",
   "metadata": {},
   "source": [
    "### 10.4.3: 다른 시간대 간의 연산"
   ]
  },
  {
   "cell_type": "code",
   "execution_count": 41,
   "metadata": {},
   "outputs": [],
   "source": [
    "# 다른 시간대를 갖는 두 시계열이 하나로 합쳐지면 UTC 시간!\n",
    "rng = pd.date_range('3/7/2012 9:30', periods=10, freq='B')\n",
    "ts = Series(np.random.randn(len(rng)), index=rng)"
   ]
  },
  {
   "cell_type": "code",
   "execution_count": 43,
   "metadata": {},
   "outputs": [
    {
     "data": {
      "text/plain": [
       "2012-03-07 09:30:00   -2.001637\n",
       "2012-03-08 09:30:00   -0.371843\n",
       "2012-03-09 09:30:00    1.669025\n",
       "2012-03-12 09:30:00   -0.438570\n",
       "2012-03-13 09:30:00   -0.539741\n",
       "2012-03-14 09:30:00    0.476985\n",
       "2012-03-15 09:30:00    3.248944\n",
       "Freq: B, dtype: float64"
      ]
     },
     "execution_count": 43,
     "metadata": {},
     "output_type": "execute_result"
    }
   ],
   "source": [
    "ts[:7]"
   ]
  },
  {
   "cell_type": "code",
   "execution_count": 47,
   "metadata": {},
   "outputs": [
    {
     "data": {
      "text/plain": [
       "DatetimeIndex(['2012-03-07 09:30:00+00:00', '2012-03-08 09:30:00+00:00',\n",
       "               '2012-03-09 09:30:00+00:00', '2012-03-12 09:30:00+00:00',\n",
       "               '2012-03-13 09:30:00+00:00', '2012-03-14 09:30:00+00:00',\n",
       "               '2012-03-15 09:30:00+00:00'],\n",
       "              dtype='datetime64[ns, Europe/London]', freq='B')"
      ]
     },
     "execution_count": 47,
     "metadata": {},
     "output_type": "execute_result"
    },
    {
     "data": {
      "text/plain": [
       "DatetimeIndex(['2012-03-09 13:30:00+04:00', '2012-03-12 13:30:00+04:00',\n",
       "               '2012-03-13 13:30:00+04:00', '2012-03-14 13:30:00+04:00',\n",
       "               '2012-03-15 13:30:00+04:00'],\n",
       "              dtype='datetime64[ns, Europe/Moscow]', freq='B')"
      ]
     },
     "execution_count": 47,
     "metadata": {},
     "output_type": "execute_result"
    },
    {
     "data": {
      "text/plain": [
       "DatetimeIndex(['2012-03-07 09:30:00+00:00', '2012-03-08 09:30:00+00:00',\n",
       "               '2012-03-09 09:30:00+00:00', '2012-03-12 09:30:00+00:00',\n",
       "               '2012-03-13 09:30:00+00:00', '2012-03-14 09:30:00+00:00',\n",
       "               '2012-03-15 09:30:00+00:00'],\n",
       "              dtype='datetime64[ns, UTC]', freq='B')"
      ]
     },
     "execution_count": 47,
     "metadata": {},
     "output_type": "execute_result"
    }
   ],
   "source": [
    "ts1 = ts[:7].tz_localize('Europe/London'); ts1.index\n",
    "ts2 = ts1[2:].tz_convert('Europe/Moscow'); ts2.index\n",
    "result = ts1 + ts2 # 표준시로 변환해서 연산됨\n",
    "result.index"
   ]
  },
  {
   "cell_type": "code",
   "execution_count": 49,
   "metadata": {},
   "outputs": [
    {
     "data": {
      "text/plain": [
       "2012-03-07 09:30:00+00:00   -2.001637\n",
       "2012-03-08 09:30:00+00:00   -0.371843\n",
       "2012-03-09 09:30:00+00:00    1.669025\n",
       "2012-03-12 09:30:00+00:00   -0.438570\n",
       "2012-03-13 09:30:00+00:00   -0.539741\n",
       "2012-03-14 09:30:00+00:00    0.476985\n",
       "2012-03-15 09:30:00+00:00    3.248944\n",
       "Freq: B, dtype: float64"
      ]
     },
     "execution_count": 49,
     "metadata": {},
     "output_type": "execute_result"
    },
    {
     "data": {
      "text/plain": [
       "2012-03-09 13:30:00+04:00    1.669025\n",
       "2012-03-12 13:30:00+04:00   -0.438570\n",
       "2012-03-13 13:30:00+04:00   -0.539741\n",
       "2012-03-14 13:30:00+04:00    0.476985\n",
       "2012-03-15 13:30:00+04:00    3.248944\n",
       "Freq: B, dtype: float64"
      ]
     },
     "execution_count": 49,
     "metadata": {},
     "output_type": "execute_result"
    },
    {
     "data": {
      "text/plain": [
       "2012-03-07 09:30:00+00:00         NaN\n",
       "2012-03-08 09:30:00+00:00         NaN\n",
       "2012-03-09 09:30:00+00:00    3.338051\n",
       "2012-03-12 09:30:00+00:00   -0.877139\n",
       "2012-03-13 09:30:00+00:00   -1.079483\n",
       "2012-03-14 09:30:00+00:00    0.953970\n",
       "2012-03-15 09:30:00+00:00    6.497888\n",
       "Freq: B, dtype: float64"
      ]
     },
     "execution_count": 49,
     "metadata": {},
     "output_type": "execute_result"
    }
   ],
   "source": [
    "ts1\n",
    "ts2\n",
    "result"
   ]
  },
  {
   "cell_type": "markdown",
   "metadata": {},
   "source": [
    "## 10.5: 기간과 기간연산(Periods and Periods Arithmethic)\n",
    "- 몇 일, 개월, 분기, 해"
   ]
  },
  {
   "cell_type": "code",
   "execution_count": null,
   "metadata": {
    "collapsed": true
   },
   "outputs": [],
   "source": []
  }
 ],
 "metadata": {
  "kernelspec": {
   "display_name": "Python 3",
   "language": "python",
   "name": "python3"
  },
  "language_info": {
   "codemirror_mode": {
    "name": "ipython",
    "version": 3
   },
   "file_extension": ".py",
   "mimetype": "text/x-python",
   "name": "python",
   "nbconvert_exporter": "python",
   "pygments_lexer": "ipython3",
   "version": "3.6.1"
  }
 },
 "nbformat": 4,
 "nbformat_minor": 2
}
