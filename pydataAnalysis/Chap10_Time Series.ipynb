{
 "cells": [
  {
   "cell_type": "markdown",
   "metadata": {},
   "source": [
    "# [시계열]"
   ]
  },
  {
   "cell_type": "markdown",
   "metadata": {},
   "source": [
    "- timestamp : 시간 내 특정순간\n",
    "- period : 1년, 1월간, 주간, 분기등\n",
    "- interval : 시작 ~ 끝\n",
    "- elasped(experiment) time : 이동시간, 사용시간 특정시작시간에 대한 상대적 시간 측정값.\n",
    "- epoch : reference time\n",
    "- datetime : date와 time\n",
    "- timedelta : 변화량\n",
    "- timezone : tzinfo의 구체화\n",
    "- https://docs.python.org/3/library/datetime.html"
   ]
  },
  {
   "cell_type": "code",
   "execution_count": 139,
   "metadata": {},
   "outputs": [],
   "source": [
    "from __future__ import division\n",
    "from pandas import Series, DataFrame\n",
    "import pandas as pd\n",
    "from numpy.random import randn\n",
    "import numpy as np\n",
    "pd.options.display.max_rows = 12\n",
    "np.set_printoptions(precision=4, suppress=True)\n",
    "import os\n",
    "import matplotlib.pyplot as plt\n",
    "np.random.seed(12345)\n",
    "plt.rc('figure', figsize=(10, 6))\n",
    "np.set_printoptions(precision=4)"
   ]
  },
  {
   "cell_type": "code",
   "execution_count": 140,
   "metadata": {
    "collapsed": true
   },
   "outputs": [],
   "source": [
    "pd.options.display.notebook_repr_html = False"
   ]
  },
  {
   "cell_type": "code",
   "execution_count": 141,
   "metadata": {
    "collapsed": true
   },
   "outputs": [],
   "source": [
    "%matplotlib inline"
   ]
  },
  {
   "cell_type": "code",
   "execution_count": 142,
   "metadata": {
    "collapsed": true
   },
   "outputs": [],
   "source": [
    "from IPython.core.interactiveshell import InteractiveShell\n",
    "InteractiveShell.ast_node_interactivity = 'all'"
   ]
  },
  {
   "cell_type": "code",
   "execution_count": 143,
   "metadata": {
    "collapsed": true
   },
   "outputs": [],
   "source": [
    "# TIME 관련 IMPORT\n",
    "import datetime"
   ]
  },
  {
   "cell_type": "markdown",
   "metadata": {},
   "source": [
    "## 10.1: 시계열 데이터 타입과 도구들"
   ]
  },
  {
   "cell_type": "code",
   "execution_count": 7,
   "metadata": {},
   "outputs": [
    {
     "data": {
      "text/plain": [
       "datetime.datetime(2017, 11, 18, 16, 3, 9, 694185)"
      ]
     },
     "execution_count": 7,
     "metadata": {},
     "output_type": "execute_result"
    }
   ],
   "source": [
    "# 현재시간 구하기\n",
    "from datetime import datetime\n",
    "now = datetime.now()\n",
    "now"
   ]
  },
  {
   "cell_type": "code",
   "execution_count": 9,
   "metadata": {},
   "outputs": [
    {
     "data": {
      "text/plain": [
       "(2017, 11, 6)"
      ]
     },
     "execution_count": 9,
     "metadata": {},
     "output_type": "execute_result"
    },
    {
     "data": {
      "text/plain": [
       "(21, 23, 38, 981805)"
      ]
     },
     "execution_count": 9,
     "metadata": {},
     "output_type": "execute_result"
    }
   ],
   "source": [
    "now.year, now.month, now.day\n",
    "now.hour, now.minute, now.second, now.microsecond"
   ]
  },
  {
   "cell_type": "code",
   "execution_count": 23,
   "metadata": {},
   "outputs": [
    {
     "data": {
      "text/plain": [
       "datetime.datetime(2017, 11, 6, 21, 26, 23, 451543)"
      ]
     },
     "execution_count": 23,
     "metadata": {},
     "output_type": "execute_result"
    },
    {
     "data": {
      "text/plain": [
       "datetime.datetime(2017, 11, 6, 21, 26, 23, 458550)"
      ]
     },
     "execution_count": 23,
     "metadata": {},
     "output_type": "execute_result"
    }
   ],
   "source": [
    "datetime.today() # now랑 비슷하나 timezone에 영향을 받음 local date time\n",
    "now = datetime.now()\n",
    "now"
   ]
  },
  {
   "cell_type": "code",
   "execution_count": 30,
   "metadata": {},
   "outputs": [
    {
     "data": {
      "text/plain": [
       "datetime.timedelta(10969, 82800)"
      ]
     },
     "execution_count": 30,
     "metadata": {},
     "output_type": "execute_result"
    },
    {
     "data": {
      "text/plain": [
       "10969"
      ]
     },
     "execution_count": 30,
     "metadata": {},
     "output_type": "execute_result"
    },
    {
     "data": {
      "text/plain": [
       "82800"
      ]
     },
     "execution_count": 30,
     "metadata": {},
     "output_type": "execute_result"
    },
    {
     "data": {
      "text/plain": [
       "0"
      ]
     },
     "execution_count": 30,
     "metadata": {},
     "output_type": "execute_result"
    }
   ],
   "source": [
    "# timedelta를 직접만듬\n",
    "delta = datetime(2017,11,6)-datetime(1987,10,25,1,0)\n",
    "delta\n",
    "delta.days\n",
    "delta.seconds\n",
    "delta.microseconds"
   ]
  },
  {
   "cell_type": "code",
   "execution_count": 32,
   "metadata": {},
   "outputs": [
    {
     "data": {
      "text/plain": [
       "datetime.datetime(2011, 1, 19, 0, 0)"
      ]
     },
     "execution_count": 32,
     "metadata": {},
     "output_type": "execute_result"
    }
   ],
   "source": [
    "# timedelta 사용\n",
    "from datetime import timedelta\n",
    "start = datetime(2011,1,7)\n",
    "start + timedelta(12)"
   ]
  },
  {
   "cell_type": "code",
   "execution_count": 34,
   "metadata": {},
   "outputs": [
    {
     "data": {
      "text/plain": [
       "datetime.datetime(2010, 12, 14, 0, 0)"
      ]
     },
     "execution_count": 34,
     "metadata": {},
     "output_type": "execute_result"
    }
   ],
   "source": [
    "start - 2 * timedelta(12)"
   ]
  },
  {
   "cell_type": "markdown",
   "metadata": {},
   "source": [
    "### 10.1.1: 날짜 <--> 문자열 변환"
   ]
  },
  {
   "cell_type": "markdown",
   "metadata": {},
   "source": [
    "- datetime.strftime('포맷규칙')\n",
    "- http://strftime.org/"
   ]
  },
  {
   "cell_type": "markdown",
   "metadata": {},
   "source": [
    "| Code | Meaning                                                                                                                                                                          | Example                  |\n",
    "|------|----------------------------------------------------------------------------------------------------------------------------------------------------------------------------------|--------------------------|\n",
    "| %a   | Weekday as locale’s abbreviated name.                                                                                                                                            | Mon                      |\n",
    "| %A   | Weekday as locale’s full name.                                                                                                                                                   | Monday                   |\n",
    "| %w   | Weekday as a decimal number, where 0 is Sunday and 6 is Saturday.                                                                                                                | 1                        |\n",
    "| %d   | Day of the month as a zero-padded decimal number.                                                                                                                                | 30                       |\n",
    "| %-d  | Day of the month as a decimal number. (Platform specific)                                                                                                                        | 30                       |\n",
    "| %b   | Month as locale’s abbreviated name.                                                                                                                                              | Sep                      |\n",
    "| %B   | Month as locale’s full name.                                                                                                                                                     | September                |\n",
    "| %m   | Month as a zero-padded decimal number.                                                                                                                                           | 09                       |\n",
    "| %-m  | Month as a decimal number. (Platform specific)                                                                                                                                   | 9                        |\n",
    "| %y   | Year without century as a zero-padded decimal number.                                                                                                                            | 13                       |\n",
    "| %Y   | Year with century as a decimal number.                                                                                                                                           | 2013                     |\n",
    "| %H   | Hour (24-hour clock) as a zero-padded decimal number.                                                                                                                            | 07                       |\n",
    "| %-H  | Hour (24-hour clock) as a decimal number. (Platform specific)                                                                                                                    | 7                        |\n",
    "| %I   | Hour (12-hour clock) as a zero-padded decimal number.                                                                                                                            | 07                       |\n",
    "| %-I  | Hour (12-hour clock) as a decimal number. (Platform specific)                                                                                                                    | 7                        |\n",
    "| %p   | Locale’s equivalent of either AM or PM.                                                                                                                                          | AM                       |\n",
    "| %M   | Minute as a zero-padded decimal number.                                                                                                                                          | 06                       |\n",
    "| %-M  | Minute as a decimal number. (Platform specific)                                                                                                                                  | 6                        |\n",
    "| %S   | Second as a zero-padded decimal number.                                                                                                                                          | 05                       |\n",
    "| %-S  | Second as a decimal number. (Platform specific)                                                                                                                                  | 5                        |\n",
    "| %f   | Microsecond as a decimal number, zero-padded on the left.                                                                                                                        | 000000                   |\n",
    "| %z   | UTC offset in the form +HHMM or -HHMM (empty string if the the object is naive).                                                                                                 |                          |\n",
    "| %Z   | Time zone name (empty string if the object is naive).                                                                                                                            |                          |\n",
    "| %j   | Day of the year as a zero-padded decimal number.                                                                                                                                 | 273                      |\n",
    "| %-j  | Day of the year as a decimal number. (Platform specific)                                                                                                                         | 273                      |\n",
    "| %U   | Week number of the year (Sunday as the first day of the week) as a zero padded decimal number. All days in a new year preceding the first Sunday are considered to be in week 0. | 39                       |\n",
    "| %W   | Week number of the year (Monday as the first day of the week) as a decimal number. All days in a new year preceding the first Monday are considered to be in week 0.             | 39                       |\n",
    "| %c   | Locale’s appropriate date and time representation.                                                                                                                               | Mon Sep 30 07:06:05 2013 |\n",
    "| %x   | Locale’s appropriate date representation.                                                                                                                                        | 09/30/13                 |\n",
    "| %X   | Locale’s appropriate time representation.                                                                                                                                        | 07:06:05                 |\n",
    "| %%   | A literal '%' character.                                                                                                                                                         | %                        |"
   ]
  },
  {
   "cell_type": "markdown",
   "metadata": {},
   "source": [
    "- datetime -> 문자열"
   ]
  },
  {
   "cell_type": "code",
   "execution_count": 36,
   "metadata": {},
   "outputs": [
    {
     "data": {
      "text/plain": [
       "'2017-11-06 00:00:00'"
      ]
     },
     "execution_count": 36,
     "metadata": {},
     "output_type": "execute_result"
    }
   ],
   "source": [
    "stamp = datetime(2017,11,6)\n",
    "str(stamp)"
   ]
  },
  {
   "cell_type": "code",
   "execution_count": 38,
   "metadata": {},
   "outputs": [
    {
     "data": {
      "text/plain": [
       "'2017-11-06'"
      ]
     },
     "execution_count": 38,
     "metadata": {},
     "output_type": "execute_result"
    }
   ],
   "source": [
    "# 캐스팅\n",
    "stamp.strftime('%Y-%m-%d')"
   ]
  },
  {
   "cell_type": "markdown",
   "metadata": {},
   "source": [
    "- 문자열 -> datetime"
   ]
  },
  {
   "cell_type": "code",
   "execution_count": 41,
   "metadata": {},
   "outputs": [
    {
     "data": {
      "text/plain": [
       "'10/25/2017'"
      ]
     },
     "execution_count": 41,
     "metadata": {},
     "output_type": "execute_result"
    }
   ],
   "source": [
    "value = '2017-10-25'\n",
    "datetime.strptime(value, '%Y-%m-%d').strftime(\"%m/%d/%Y\")"
   ]
  },
  {
   "cell_type": "code",
   "execution_count": 17,
   "metadata": {},
   "outputs": [
    {
     "data": {
      "text/plain": [
       "[datetime.datetime(2011, 7, 6, 0, 0), datetime.datetime(2011, 8, 6, 0, 0)]"
      ]
     },
     "execution_count": 17,
     "metadata": {},
     "output_type": "execute_result"
    }
   ],
   "source": [
    "datestrs = ['7/6/2011', '8/6/2011']\n",
    "[datetime.strptime(x, '%m/%d/%Y') for x in datestrs] # list"
   ]
  },
  {
   "cell_type": "markdown",
   "metadata": {},
   "source": [
    "- dateutil 패키지 대부분의 날짜 표현 방식 파싱가능"
   ]
  },
  {
   "cell_type": "code",
   "execution_count": 9,
   "metadata": {},
   "outputs": [
    {
     "data": {
      "text/plain": [
       "datetime.datetime(2011, 1, 3, 0, 0)"
      ]
     },
     "execution_count": 9,
     "metadata": {},
     "output_type": "execute_result"
    }
   ],
   "source": [
    "from dateutil.parser import parse\n",
    "parse('2011-01-03')"
   ]
  },
  {
   "cell_type": "code",
   "execution_count": 11,
   "metadata": {},
   "outputs": [
    {
     "data": {
      "text/plain": [
       "datetime.datetime(1997, 1, 31, 22, 45)"
      ]
     },
     "execution_count": 11,
     "metadata": {},
     "output_type": "execute_result"
    }
   ],
   "source": [
    "parse('Jan 31, 1997 10:45 PM')"
   ]
  },
  {
   "cell_type": "markdown",
   "metadata": {},
   "source": [
    "- 월이 앞에 오는 경우 dayfirst=True"
   ]
  },
  {
   "cell_type": "code",
   "execution_count": 15,
   "metadata": {},
   "outputs": [
    {
     "data": {
      "text/plain": [
       "datetime.datetime(2011, 12, 6, 0, 0)"
      ]
     },
     "execution_count": 15,
     "metadata": {},
     "output_type": "execute_result"
    }
   ],
   "source": [
    "parse('6/12/2011', dayfirst=True)"
   ]
  },
  {
   "cell_type": "markdown",
   "metadata": {},
   "source": [
    "- pandas.to_datetime() input값에 따라 return 형이 다름\n",
    "    - 단일날짜 : timestamp형으로 변환\n",
    "    - 날짜의 배열 : pandas.DatetimeIndex"
   ]
  },
  {
   "cell_type": "code",
   "execution_count": 20,
   "metadata": {},
   "outputs": [
    {
     "data": {
      "text/plain": [
       "Timestamp('2011-12-10 00:00:00')"
      ]
     },
     "execution_count": 20,
     "metadata": {},
     "output_type": "execute_result"
    },
    {
     "data": {
      "text/plain": [
       "['7/6/2011', '8/6/2011']"
      ]
     },
     "execution_count": 20,
     "metadata": {},
     "output_type": "execute_result"
    },
    {
     "data": {
      "text/plain": [
       "DatetimeIndex(['2011-07-06', '2011-08-06'], dtype='datetime64[ns]', freq=None)"
      ]
     },
     "execution_count": 20,
     "metadata": {},
     "output_type": "execute_result"
    }
   ],
   "source": [
    "pd.to_datetime('2011-12-10')\n",
    "datestrs\n",
    "pd.to_datetime(datestrs)"
   ]
  },
  {
   "cell_type": "markdown",
   "metadata": {},
   "source": [
    "- 누락된 날짜 처리"
   ]
  },
  {
   "cell_type": "code",
   "execution_count": 22,
   "metadata": {},
   "outputs": [
    {
     "data": {
      "text/plain": [
       "DatetimeIndex(['2011-07-06', '2011-08-06', 'NaT'], dtype='datetime64[ns]', freq=None)"
      ]
     },
     "execution_count": 22,
     "metadata": {},
     "output_type": "execute_result"
    }
   ],
   "source": [
    "idx = pd.to_datetime(datestrs + [None]) # NaT값이 됨.\n",
    "idx"
   ]
  },
  {
   "cell_type": "code",
   "execution_count": 24,
   "metadata": {},
   "outputs": [
    {
     "data": {
      "text/plain": [
       "NaT"
      ]
     },
     "execution_count": 24,
     "metadata": {},
     "output_type": "execute_result"
    }
   ],
   "source": [
    "idx[2]"
   ]
  },
  {
   "cell_type": "code",
   "execution_count": 26,
   "metadata": {},
   "outputs": [
    {
     "data": {
      "text/plain": [
       "array([False, False,  True], dtype=bool)"
      ]
     },
     "execution_count": 26,
     "metadata": {},
     "output_type": "execute_result"
    }
   ],
   "source": [
    "pd.isnull(idx)"
   ]
  },
  {
   "cell_type": "markdown",
   "metadata": {},
   "source": [
    "## 10.2: 시계열 기초"
   ]
  },
  {
   "cell_type": "markdown",
   "metadata": {},
   "source": [
    "- pandas 시간 데이터 타입\n",
    "    - timestamp : to_datetime, Timestamp\n",
    "    - DatetimeIndex : to_datetime, date_range, DatatimeIndex\n",
    "    - Period : Period\n",
    "    - PeriodIndex : period_range, PeriodIndex\n",
    "- 시계열 데이터\n",
    "    - 파이썬 문자열 또는 datetime 객체로 표현되는 Timestamp 인덱서의 Series 객체\n",
    "    - datetime 객체의 경우 Timestamp 타입으로 자동변환되나 정렬되지 않음"
   ]
  },
  {
   "cell_type": "code",
   "execution_count": 6,
   "metadata": {},
   "outputs": [
    {
     "data": {
      "text/plain": [
       "[datetime.datetime(2011, 1, 2, 0, 0),\n",
       " datetime.datetime(2011, 1, 5, 0, 0),\n",
       " datetime.datetime(2011, 1, 7, 0, 0),\n",
       " datetime.datetime(2011, 1, 8, 0, 0),\n",
       " datetime.datetime(2011, 1, 10, 0, 0),\n",
       " datetime.datetime(2011, 1, 1, 0, 0)]"
      ]
     },
     "execution_count": 6,
     "metadata": {},
     "output_type": "execute_result"
    },
    {
     "data": {
      "text/plain": [
       "2011-01-02    2\n",
       "2011-01-05    5\n",
       "2011-01-07    5\n",
       "2011-01-08    1\n",
       "2011-01-10    4\n",
       "2011-01-01    1\n",
       "dtype: int32"
      ]
     },
     "execution_count": 6,
     "metadata": {},
     "output_type": "execute_result"
    }
   ],
   "source": [
    "from datetime import datetime\n",
    "dates = [datetime(2011, 1, 2), datetime(2011, 1, 5), datetime(2011, 1, 7),\n",
    "         datetime(2011, 1, 8), datetime(2011, 1, 10), datetime(2011, 1, 1)]\n",
    "dates\n",
    "# index 인자로 입력된 datetime 리스트가 자동으로 DatetimeIndex 객체로 변환\n",
    "ts = Series(np.random.randint(6, size=6), index=dates)\n",
    "ts # 정렬 X"
   ]
  },
  {
   "cell_type": "code",
   "execution_count": 7,
   "metadata": {},
   "outputs": [
    {
     "data": {
      "text/plain": [
       "pandas.core.series.Series"
      ]
     },
     "execution_count": 7,
     "metadata": {},
     "output_type": "execute_result"
    },
    {
     "data": {
      "text/plain": [
       "DatetimeIndex(['2011-01-02', '2011-01-05', '2011-01-07', '2011-01-08',\n",
       "               '2011-01-10', '2011-01-01'],\n",
       "              dtype='datetime64[ns]', freq=None)"
      ]
     },
     "execution_count": 7,
     "metadata": {},
     "output_type": "execute_result"
    }
   ],
   "source": [
    "type(ts)\n",
    "ts.index"
   ]
  },
  {
   "cell_type": "code",
   "execution_count": 8,
   "metadata": {},
   "outputs": [
    {
     "data": {
      "text/plain": [
       "2011-01-02    2\n",
       "2011-01-05    5\n",
       "2011-01-07    5\n",
       "2011-01-08    1\n",
       "2011-01-10    4\n",
       "2011-01-01    1\n",
       "dtype: int32"
      ]
     },
     "execution_count": 8,
     "metadata": {},
     "output_type": "execute_result"
    },
    {
     "data": {
      "text/plain": [
       "2011-01-02    2\n",
       "2011-01-07    5\n",
       "2011-01-10    4\n",
       "dtype: int32"
      ]
     },
     "execution_count": 8,
     "metadata": {},
     "output_type": "execute_result"
    },
    {
     "data": {
      "text/plain": [
       "2011-01-01     NaN\n",
       "2011-01-02     4.0\n",
       "2011-01-05     NaN\n",
       "2011-01-07    10.0\n",
       "2011-01-08     NaN\n",
       "2011-01-10     8.0\n",
       "dtype: float64"
      ]
     },
     "execution_count": 8,
     "metadata": {},
     "output_type": "execute_result"
    }
   ],
   "source": [
    "ts\n",
    "ts[::2]\n",
    "ts + ts[::2]"
   ]
  },
  {
   "cell_type": "markdown",
   "metadata": {},
   "source": [
    "- DatetimeIndex 의 스칼라 값은 pandas의 Timestamp 객체"
   ]
  },
  {
   "cell_type": "code",
   "execution_count": 9,
   "metadata": {},
   "outputs": [
    {
     "data": {
      "text/plain": [
       "2017-11-1    0.316160\n",
       "2017-11-3   -1.379198\n",
       "2017-11-6    0.450554\n",
       "2017-3-1     0.092673\n",
       "2017-2-2     1.248133\n",
       "dtype: float64"
      ]
     },
     "execution_count": 9,
     "metadata": {},
     "output_type": "execute_result"
    },
    {
     "data": {
      "text/plain": [
       "pandas.core.indexes.base.Index"
      ]
     },
     "execution_count": 9,
     "metadata": {},
     "output_type": "execute_result"
    }
   ],
   "source": [
    "# Index 인자로 날짜 문자열의 리스트를 대입하는 경우\n",
    "da = ['2017-11-1','2017-11-3','2017-11-6','2017-3-1','2017-2-2']\n",
    "ts2 = Series(np.random.randn(5), index=da)\n",
    "ts2\n",
    "type(ts2.index)"
   ]
  },
  {
   "cell_type": "markdown",
   "metadata": {},
   "source": [
    "- timestamp의 정밀도 : 나노초(ns)"
   ]
  },
  {
   "cell_type": "code",
   "execution_count": 10,
   "metadata": {},
   "outputs": [
    {
     "data": {
      "text/plain": [
       "dtype('<M8[ns]')"
      ]
     },
     "execution_count": 10,
     "metadata": {},
     "output_type": "execute_result"
    }
   ],
   "source": [
    "ts.index.dtype\n",
    "# note: output changed from dtype('datetime64[ns]') to dtype('<M8[ns]')"
   ]
  },
  {
   "cell_type": "code",
   "execution_count": 11,
   "metadata": {},
   "outputs": [
    {
     "data": {
      "text/plain": [
       "Timestamp('2011-01-02 00:00:00')"
      ]
     },
     "execution_count": 11,
     "metadata": {},
     "output_type": "execute_result"
    }
   ],
   "source": [
    "stamp = ts.index[0]\n",
    "stamp"
   ]
  },
  {
   "cell_type": "markdown",
   "metadata": {},
   "source": [
    "### 10.2.1: 인덱싱, 선택, 부분선택 \n",
    "하나의 값 접근하기\n",
    "- timestamp 객체\n",
    "- 문자열(시계열데이터의 인덱스가 정렬되어 있지 않으면 Series 객체반환)\n",
    "- datetime 객체"
   ]
  },
  {
   "cell_type": "code",
   "execution_count": 12,
   "metadata": {},
   "outputs": [
    {
     "data": {
      "text/plain": [
       "2011-01-02    2\n",
       "2011-01-05    5\n",
       "2011-01-07    5\n",
       "2011-01-08    1\n",
       "2011-01-10    4\n",
       "2011-01-01    1\n",
       "dtype: int32"
      ]
     },
     "execution_count": 12,
     "metadata": {},
     "output_type": "execute_result"
    },
    {
     "data": {
      "text/plain": [
       "Timestamp('2011-01-07 00:00:00')"
      ]
     },
     "execution_count": 12,
     "metadata": {},
     "output_type": "execute_result"
    },
    {
     "data": {
      "text/plain": [
       "5"
      ]
     },
     "execution_count": 12,
     "metadata": {},
     "output_type": "execute_result"
    },
    {
     "data": {
      "text/plain": [
       "2011-01-10    4\n",
       "dtype: int32"
      ]
     },
     "execution_count": 12,
     "metadata": {},
     "output_type": "execute_result"
    },
    {
     "data": {
      "text/plain": [
       "2011-01-07    5\n",
       "dtype: int32"
      ]
     },
     "execution_count": 12,
     "metadata": {},
     "output_type": "execute_result"
    },
    {
     "data": {
      "text/plain": [
       "Series([], dtype: int32)"
      ]
     },
     "execution_count": 12,
     "metadata": {},
     "output_type": "execute_result"
    },
    {
     "data": {
      "text/plain": [
       "5"
      ]
     },
     "execution_count": 12,
     "metadata": {},
     "output_type": "execute_result"
    }
   ],
   "source": [
    "ts\n",
    "stamp = ts.index[2]\n",
    "stamp\n",
    "ts[stamp]\n",
    "\n",
    "# Series (정렬되어 있는 경우 scala value값이 나옴)\n",
    "ts['1/10/2011']\n",
    "ts['1-7/2011']\n",
    "ts['20100110']\n",
    "\n",
    "ts[datetime(2011,1,7)]"
   ]
  },
  {
   "cell_type": "markdown",
   "metadata": {},
   "source": [
    "- 년 또는 월만으로 해당 기간의 데이터 선택"
   ]
  },
  {
   "cell_type": "code",
   "execution_count": 13,
   "metadata": {},
   "outputs": [
    {
     "data": {
      "text/plain": [
       "2017-11-01    0.768101\n",
       "2017-11-02    1.248804\n",
       "2017-11-03    0.774191\n",
       "2017-11-04   -0.319657\n",
       "2017-11-05   -0.624964\n",
       "2017-11-06    1.078814\n",
       "                ...   \n",
       "2020-07-22    0.168113\n",
       "2020-07-23    0.241034\n",
       "2020-07-24   -0.061195\n",
       "2020-07-25    0.515580\n",
       "2020-07-26   -0.902991\n",
       "2020-07-27   -1.786625\n",
       "Freq: D, Length: 1000, dtype: float64"
      ]
     },
     "execution_count": 13,
     "metadata": {},
     "output_type": "execute_result"
    }
   ],
   "source": [
    "# date_range 하루씩 Freq : D(기본값) periods 1000개 만큼 만듬.\n",
    "longer_ts = Series(np.random.randn(1000),\n",
    "                  index=pd.date_range('11/1/2017', periods=1000))\n",
    "longer_ts"
   ]
  },
  {
   "cell_type": "code",
   "execution_count": 14,
   "metadata": {},
   "outputs": [
    {
     "data": {
      "text/plain": [
       "2017-11-01    0.768101\n",
       "2017-11-02    1.248804\n",
       "2017-11-03    0.774191\n",
       "2017-11-04   -0.319657\n",
       "2017-11-05   -0.624964\n",
       "2017-11-06    1.078814\n",
       "                ...   \n",
       "2017-12-26   -0.731743\n",
       "2017-12-27   -0.787226\n",
       "2017-12-28   -0.024116\n",
       "2017-12-29    1.462648\n",
       "2017-12-30   -1.651593\n",
       "2017-12-31    0.221755\n",
       "Freq: D, Length: 61, dtype: float64"
      ]
     },
     "execution_count": 14,
     "metadata": {},
     "output_type": "execute_result"
    }
   ],
   "source": [
    "longer_ts['2017']"
   ]
  },
  {
   "cell_type": "code",
   "execution_count": 15,
   "metadata": {},
   "outputs": [
    {
     "data": {
      "text/plain": [
       "2018-12-01    0.778029\n",
       "2018-12-02    1.094729\n",
       "2018-12-03    0.039997\n",
       "2018-12-04   -1.363180\n",
       "2018-12-05   -1.797116\n",
       "2018-12-06    0.252152\n",
       "                ...   \n",
       "2018-12-26   -1.123359\n",
       "2018-12-27    0.526940\n",
       "2018-12-28   -0.020369\n",
       "2018-12-29    1.249284\n",
       "2018-12-30    0.241511\n",
       "2018-12-31    0.098674\n",
       "Freq: D, Length: 31, dtype: float64"
      ]
     },
     "execution_count": 15,
     "metadata": {},
     "output_type": "execute_result"
    }
   ],
   "source": [
    "longer_ts['2018-12']"
   ]
  },
  {
   "cell_type": "markdown",
   "metadata": {},
   "source": [
    "- 날짜로 데이터 자르기\n",
    "        원본 시계열 데이터에 대한 뷰 생성"
   ]
  },
  {
   "cell_type": "code",
   "execution_count": 16,
   "metadata": {},
   "outputs": [
    {
     "data": {
      "text/plain": [
       "2011-01-02    2\n",
       "2011-01-05    5\n",
       "2011-01-07    5\n",
       "2011-01-08    1\n",
       "2011-01-10    4\n",
       "2011-01-01    1\n",
       "dtype: int32"
      ]
     },
     "execution_count": 16,
     "metadata": {},
     "output_type": "execute_result"
    },
    {
     "data": {
      "text/plain": [
       "2011-01-07    5\n",
       "2011-01-08    1\n",
       "2011-01-10    4\n",
       "2011-01-01    1\n",
       "dtype: int32"
      ]
     },
     "execution_count": 16,
     "metadata": {},
     "output_type": "execute_result"
    }
   ],
   "source": [
    "ts\n",
    "ts[datetime(2011,1,7):]"
   ]
  },
  {
   "cell_type": "code",
   "execution_count": 17,
   "metadata": {},
   "outputs": [
    {
     "data": {
      "text/plain": [
       "2011-01-07    5\n",
       "2011-01-08    1\n",
       "2011-01-10    4\n",
       "dtype: int32"
      ]
     },
     "execution_count": 17,
     "metadata": {},
     "output_type": "execute_result"
    }
   ],
   "source": [
    "ts['1/6/2011':'1/10/2011'] # 뒷 날짜가 포함됨"
   ]
  },
  {
   "cell_type": "markdown",
   "metadata": {},
   "source": [
    "- 시계열 데이터는 특정날짜 기준으로 앞, 뒤 버리기.\n",
    "    - 특정날짜는 포함됨."
   ]
  },
  {
   "cell_type": "code",
   "execution_count": 18,
   "metadata": {},
   "outputs": [
    {
     "data": {
      "text/plain": [
       "2011-01-02    2\n",
       "2011-01-05    5\n",
       "2011-01-07    5\n",
       "2011-01-08    1\n",
       "2011-01-10    4\n",
       "2011-01-01    1\n",
       "dtype: int32"
      ]
     },
     "execution_count": 18,
     "metadata": {},
     "output_type": "execute_result"
    },
    {
     "data": {
      "text/plain": [
       "2011-01-02    2\n",
       "2011-01-05    5\n",
       "2011-01-07    5\n",
       "2011-01-08    1\n",
       "dtype: int32"
      ]
     },
     "execution_count": 18,
     "metadata": {},
     "output_type": "execute_result"
    },
    {
     "data": {
      "text/plain": [
       "2011-01-08    1\n",
       "2011-01-10    4\n",
       "2011-01-01    1\n",
       "dtype: int32"
      ]
     },
     "execution_count": 18,
     "metadata": {},
     "output_type": "execute_result"
    }
   ],
   "source": [
    "ts\n",
    "ts.truncate(after='1/8/2011')\n",
    "ts.truncate(before='1/8/2011')"
   ]
  },
  {
   "cell_type": "markdown",
   "metadata": {},
   "source": [
    "- 시계열 데이터 접근(indexing): 데이터프레임에도 동일 적용.\n",
    "    - row 인덱스 적용"
   ]
  },
  {
   "cell_type": "code",
   "execution_count": 19,
   "metadata": {},
   "outputs": [
    {
     "data": {
      "text/plain": [
       "            Colorado  Texas  New York  Ohio\n",
       "2017-11-04        35     54        14     7\n",
       "2017-11-11        49      0         2     1\n",
       "2017-11-18        23     43        90     7\n",
       "2017-11-25        51     12        97    40"
      ]
     },
     "execution_count": 19,
     "metadata": {},
     "output_type": "execute_result"
    }
   ],
   "source": [
    "# freq='W-WED' 매주 수요일로 100개 만든다.\n",
    "dates = pd.date_range('1/1/2017', periods=100, freq='W-SAT') # 매주 토요일\n",
    "# dates\n",
    "long_df = DataFrame(np.random.randint(100, size=(100,4)),\n",
    "                   index=dates,\n",
    "                   columns=['Colorado','Texas','New York','Ohio'])\n",
    "long_df['11-2017']"
   ]
  },
  {
   "cell_type": "markdown",
   "metadata": {},
   "source": [
    "### 10.2.2: 중복된 색인을 갖는 시계열"
   ]
  },
  {
   "cell_type": "code",
   "execution_count": 20,
   "metadata": {},
   "outputs": [
    {
     "data": {
      "text/plain": [
       "DatetimeIndex(['2000-01-01', '2000-01-02', '2000-01-02', '2000-01-02',\n",
       "               '2000-01-03'],\n",
       "              dtype='datetime64[ns]', freq=None)"
      ]
     },
     "execution_count": 20,
     "metadata": {},
     "output_type": "execute_result"
    },
    {
     "data": {
      "text/plain": [
       "2000-01-01    0\n",
       "2000-01-02    1\n",
       "2000-01-02    2\n",
       "2000-01-02    3\n",
       "2000-01-03    4\n",
       "dtype: int32"
      ]
     },
     "execution_count": 20,
     "metadata": {},
     "output_type": "execute_result"
    }
   ],
   "source": [
    "dates = pd.DatetimeIndex(['1/1/2000','1/2/2000','1/2/2000','1/2/2000',\n",
    "                         '1/3/2000'])\n",
    "dates\n",
    "dup_ts = Series(np.arange(5), index=dates)\n",
    "dup_ts"
   ]
  },
  {
   "cell_type": "code",
   "execution_count": 21,
   "metadata": {},
   "outputs": [
    {
     "data": {
      "text/plain": [
       "False"
      ]
     },
     "execution_count": 21,
     "metadata": {},
     "output_type": "execute_result"
    }
   ],
   "source": [
    "# 시계열 데이터 인덱스의 유일여부 확인.\n",
    "dup_ts.index.is_unique"
   ]
  },
  {
   "cell_type": "code",
   "execution_count": 22,
   "metadata": {},
   "outputs": [
    {
     "data": {
      "text/plain": [
       "4"
      ]
     },
     "execution_count": 22,
     "metadata": {},
     "output_type": "execute_result"
    },
    {
     "data": {
      "text/plain": [
       "2000-01-02    1\n",
       "2000-01-02    2\n",
       "2000-01-02    3\n",
       "dtype: int32"
      ]
     },
     "execution_count": 22,
     "metadata": {},
     "output_type": "execute_result"
    }
   ],
   "source": [
    "## 시계열 데이터 접근\n",
    "# 인덱스가 유일 O > 스칼라\n",
    "# 인덱스가 유일 X > 시계열\n",
    "dup_ts['1/3/2000'] # 중복데이터가 아닌 경우\n",
    "dup_ts['1/2/2000'] # 중복데이터인 경우"
   ]
  },
  {
   "cell_type": "markdown",
   "metadata": {},
   "source": [
    "- Timestamp 인덱스로 그룹지어서 집계"
   ]
  },
  {
   "cell_type": "code",
   "execution_count": 23,
   "metadata": {},
   "outputs": [
    {
     "data": {
      "text/plain": [
       "2000-01-01    0\n",
       "2000-01-02    2\n",
       "2000-01-03    4\n",
       "dtype: int32"
      ]
     },
     "execution_count": 23,
     "metadata": {},
     "output_type": "execute_result"
    }
   ],
   "source": [
    "grouped = dup_ts.groupby(level=0)\n",
    "grouped.mean()"
   ]
  },
  {
   "cell_type": "code",
   "execution_count": 24,
   "metadata": {},
   "outputs": [
    {
     "data": {
      "text/plain": [
       "2000-01-01    1\n",
       "2000-01-02    3\n",
       "2000-01-03    1\n",
       "dtype: int64"
      ]
     },
     "execution_count": 24,
     "metadata": {},
     "output_type": "execute_result"
    },
    {
     "data": {
      "text/plain": [
       "5"
      ]
     },
     "execution_count": 24,
     "metadata": {},
     "output_type": "execute_result"
    }
   ],
   "source": [
    "grouped.count()\n",
    "dup_ts.count()"
   ]
  },
  {
   "cell_type": "markdown",
   "metadata": {},
   "source": [
    "## 10.3: 날짜범위, 빈도, 이동"
   ]
  },
  {
   "cell_type": "markdown",
   "metadata": {},
   "source": [
    "날짜범위빈도\n",
    "- 시간이 불규칙한 시계열 -> 고정빈도 시계열(1일,1주일씩 ...) 로 변환.\n",
    "    - resamle API가 좀 더 groupby처럼 변경됨\n",
    "    - asfreq()빈도가 변경된 시게열을 반환\n",
    "    - DateOffset object\n",
    "      https://pandas.pydata.org/pandas-docs/stable/timeseries.html#offset-aliases\n",
    "    - Frequency Strings(Offset aliase) "
   ]
  },
  {
   "cell_type": "code",
   "execution_count": 26,
   "metadata": {},
   "outputs": [
    {
     "data": {
      "text/plain": [
       "2011-01-02    2\n",
       "2011-01-05    5\n",
       "2011-01-07    5\n",
       "2011-01-08    1\n",
       "2011-01-10    4\n",
       "2011-01-01    1\n",
       "dtype: int32"
      ]
     },
     "execution_count": 26,
     "metadata": {},
     "output_type": "execute_result"
    }
   ],
   "source": [
    "ts"
   ]
  },
  {
   "cell_type": "code",
   "execution_count": 29,
   "metadata": {},
   "outputs": [
    {
     "data": {
      "text/plain": [
       "DatetimeIndexResampler [freq=<Day>, axis=0, closed=left, label=left, convention=start, base=0]"
      ]
     },
     "execution_count": 29,
     "metadata": {},
     "output_type": "execute_result"
    },
    {
     "data": {
      "text/plain": [
       "2011-01-01    1.0\n",
       "2011-01-02    2.0\n",
       "2011-01-03    NaN\n",
       "2011-01-04    NaN\n",
       "2011-01-05    5.0\n",
       "2011-01-06    NaN\n",
       "2011-01-07    5.0\n",
       "2011-01-08    1.0\n",
       "2011-01-09    NaN\n",
       "2011-01-10    4.0\n",
       "Freq: D, dtype: float64"
      ]
     },
     "execution_count": 29,
     "metadata": {},
     "output_type": "execute_result"
    }
   ],
   "source": [
    "ts.resample('D') # 객체반환으로 변경됨\n",
    "ts.resample('D').asfreq() # 일 빈도로 변환시켜 나타냄"
   ]
  },
  {
   "cell_type": "code",
   "execution_count": 32,
   "metadata": {},
   "outputs": [
    {
     "data": {
      "text/plain": [
       "2011-01-01    1.0\n",
       "2011-01-02    2.0\n",
       "2011-01-03    NaN\n",
       "2011-01-04    NaN\n",
       "2011-01-05    5.0\n",
       "2011-01-06    NaN\n",
       "2011-01-07    5.0\n",
       "2011-01-08    1.0\n",
       "2011-01-09    NaN\n",
       "2011-01-10    4.0\n",
       "Freq: D, dtype: float64"
      ]
     },
     "execution_count": 32,
     "metadata": {},
     "output_type": "execute_result"
    },
    {
     "data": {
      "text/plain": [
       "2011-01-01    3\n",
       "2011-01-04    5\n",
       "2011-01-07    6\n",
       "2011-01-10    4\n",
       "Freq: 3D, dtype: int32"
      ]
     },
     "execution_count": 32,
     "metadata": {},
     "output_type": "execute_result"
    }
   ],
   "source": [
    "ts.resample('D').sum()\n",
    "ts.resample('3D').sum() # 3일에 한번씩 sum(원래 범위를 벗어나지 않음)"
   ]
  },
  {
   "cell_type": "markdown",
   "metadata": {},
   "source": [
    "### 10.3.1: 날짜 범위 생성하기\n",
    "- pandas의 date_range() : 특정 빈도에 따라 지정된 길이 만큼 DatetimeIndex를 생성."
   ]
  },
  {
   "cell_type": "code",
   "execution_count": 36,
   "metadata": {},
   "outputs": [
    {
     "data": {
      "text/plain": [
       "DatetimeIndex(['2012-04-01', '2012-04-02', '2012-04-03', '2012-04-04',\n",
       "               '2012-04-05', '2012-04-06', '2012-04-07', '2012-04-08',\n",
       "               '2012-04-09', '2012-04-10', '2012-04-11', '2012-04-12',\n",
       "               '2012-04-13', '2012-04-14', '2012-04-15', '2012-04-16',\n",
       "               '2012-04-17', '2012-04-18', '2012-04-19', '2012-04-20',\n",
       "               '2012-04-21', '2012-04-22', '2012-04-23', '2012-04-24',\n",
       "               '2012-04-25', '2012-04-26', '2012-04-27', '2012-04-28',\n",
       "               '2012-04-29', '2012-04-30', '2012-05-01', '2012-05-02',\n",
       "               '2012-05-03', '2012-05-04', '2012-05-05', '2012-05-06',\n",
       "               '2012-05-07', '2012-05-08', '2012-05-09', '2012-05-10',\n",
       "               '2012-05-11', '2012-05-12', '2012-05-13', '2012-05-14',\n",
       "               '2012-05-15', '2012-05-16', '2012-05-17', '2012-05-18',\n",
       "               '2012-05-19', '2012-05-20', '2012-05-21', '2012-05-22',\n",
       "               '2012-05-23', '2012-05-24', '2012-05-25', '2012-05-26',\n",
       "               '2012-05-27', '2012-05-28', '2012-05-29', '2012-05-30',\n",
       "               '2012-05-31', '2012-06-01'],\n",
       "              dtype='datetime64[ns]', freq='D')"
      ]
     },
     "execution_count": 36,
     "metadata": {},
     "output_type": "execute_result"
    }
   ],
   "source": [
    "index = pd.date_range('4/1/2012', '6/1/2012') # default 빈도는 day!\n",
    "index "
   ]
  },
  {
   "cell_type": "code",
   "execution_count": 38,
   "metadata": {},
   "outputs": [
    {
     "data": {
      "text/plain": [
       "DatetimeIndex(['2012-04-01', '2012-04-02', '2012-04-03', '2012-04-04',\n",
       "               '2012-04-05', '2012-04-06', '2012-04-07', '2012-04-08',\n",
       "               '2012-04-09', '2012-04-10', '2012-04-11', '2012-04-12',\n",
       "               '2012-04-13', '2012-04-14', '2012-04-15', '2012-04-16',\n",
       "               '2012-04-17', '2012-04-18', '2012-04-19', '2012-04-20'],\n",
       "              dtype='datetime64[ns]', freq='D')"
      ]
     },
     "execution_count": 38,
     "metadata": {},
     "output_type": "execute_result"
    }
   ],
   "source": [
    "pd.date_range(start='4/1/2012', periods=20) # 시작일로부터 20일까지"
   ]
  },
  {
   "cell_type": "code",
   "execution_count": 40,
   "metadata": {},
   "outputs": [
    {
     "data": {
      "text/plain": [
       "DatetimeIndex(['2012-05-13', '2012-05-14', '2012-05-15', '2012-05-16',\n",
       "               '2012-05-17', '2012-05-18', '2012-05-19', '2012-05-20',\n",
       "               '2012-05-21', '2012-05-22', '2012-05-23', '2012-05-24',\n",
       "               '2012-05-25', '2012-05-26', '2012-05-27', '2012-05-28',\n",
       "               '2012-05-29', '2012-05-30', '2012-05-31', '2012-06-01'],\n",
       "              dtype='datetime64[ns]', freq='D')"
      ]
     },
     "execution_count": 40,
     "metadata": {},
     "output_type": "execute_result"
    }
   ],
   "source": [
    "pd.date_range(end='6/1/2012', periods=20) # 끝일로부터 20일전까지"
   ]
  },
  {
   "cell_type": "markdown",
   "metadata": {},
   "source": [
    "- 매월 마지막 영업일 포함"
   ]
  },
  {
   "cell_type": "code",
   "execution_count": 44,
   "metadata": {},
   "outputs": [
    {
     "data": {
      "text/plain": [
       "DatetimeIndex(['2017-01-02', '2017-02-01', '2017-03-01', '2017-04-03',\n",
       "               '2017-05-01', '2017-06-01', '2017-07-03', '2017-08-01',\n",
       "               '2017-09-01', '2017-10-02', '2017-11-01', '2017-12-01',\n",
       "               '2018-01-01'],\n",
       "              dtype='datetime64[ns]', freq='BMS')"
      ]
     },
     "execution_count": 44,
     "metadata": {},
     "output_type": "execute_result"
    },
    {
     "data": {
      "text/plain": [
       "DatetimeIndex(['2017-01-31', '2017-02-28', '2017-03-31', '2017-04-28',\n",
       "               '2017-05-31', '2017-06-30', '2017-07-31', '2017-08-31',\n",
       "               '2017-09-29', '2017-10-31', '2017-11-30', '2017-12-29'],\n",
       "              dtype='datetime64[ns]', freq='BM')"
      ]
     },
     "execution_count": 44,
     "metadata": {},
     "output_type": "execute_result"
    }
   ],
   "source": [
    "pd.date_range('1/1/2017', '1/1/2018', freq='BMS') # 매월 영업일 시작일\n",
    "pd.date_range('1/1/2017', '1/1/2018', freq='BM') # 매월 끝 영업일"
   ]
  },
  {
   "cell_type": "code",
   "execution_count": 47,
   "metadata": {},
   "outputs": [
    {
     "data": {
      "text/plain": [
       "DatetimeIndex(['2017-11-27 21:02:31', '2017-11-28 21:02:31',\n",
       "               '2017-11-29 21:02:31', '2017-11-30 21:02:31',\n",
       "               '2017-12-01 21:02:31'],\n",
       "              dtype='datetime64[ns]', freq='D')"
      ]
     },
     "execution_count": 47,
     "metadata": {},
     "output_type": "execute_result"
    }
   ],
   "source": [
    "pd.date_range('11/27/2017 21:02:31', periods=5) # 시,분,초 유지됨"
   ]
  },
  {
   "cell_type": "code",
   "execution_count": 49,
   "metadata": {},
   "outputs": [
    {
     "data": {
      "text/plain": [
       "DatetimeIndex(['2017-11-27', '2017-11-28', '2017-11-29', '2017-11-30',\n",
       "               '2017-12-01'],\n",
       "              dtype='datetime64[ns]', freq='D')"
      ]
     },
     "execution_count": 49,
     "metadata": {},
     "output_type": "execute_result"
    }
   ],
   "source": [
    "# 자정에 맞춰 타임스탬프 정규화(Normalization)\n",
    "## start, end 날짜를 자정으로 정규화한 후 date_range 실행\n",
    "pd.date_range('11/27/2017 21:02:31', periods=5, normalize=True)"
   ]
  },
  {
   "cell_type": "markdown",
   "metadata": {},
   "source": [
    "### 10.3.2: 빈도와 날짜 오프셋\n",
    "- 빈도 = 기본빈도(M(월별),H(시간별) 등) * 배수"
   ]
  },
  {
   "cell_type": "code",
   "execution_count": 51,
   "metadata": {},
   "outputs": [
    {
     "data": {
      "text/plain": [
       "<Hour>"
      ]
     },
     "execution_count": 51,
     "metadata": {},
     "output_type": "execute_result"
    }
   ],
   "source": [
    "from pandas.tseries.offsets import Hour, Minute\n",
    "hour = Hour()\n",
    "hour # 시간별 빈도 클래스 객체"
   ]
  },
  {
   "cell_type": "code",
   "execution_count": 53,
   "metadata": {},
   "outputs": [
    {
     "data": {
      "text/plain": [
       "<4 * Hours>"
      ]
     },
     "execution_count": 53,
     "metadata": {},
     "output_type": "execute_result"
    }
   ],
   "source": [
    "four_hours = Hour(4)\n",
    "four_hours"
   ]
  },
  {
   "cell_type": "code",
   "execution_count": 55,
   "metadata": {},
   "outputs": [
    {
     "data": {
      "text/plain": [
       "DatetimeIndex(['2000-01-01 00:00:00', '2000-01-01 05:00:00',\n",
       "               '2000-01-01 10:00:00', '2000-01-01 15:00:00',\n",
       "               '2000-01-01 20:00:00', '2000-01-02 01:00:00',\n",
       "               '2000-01-02 06:00:00', '2000-01-02 11:00:00',\n",
       "               '2000-01-02 16:00:00', '2000-01-02 21:00:00',\n",
       "               '2000-01-03 02:00:00', '2000-01-03 07:00:00',\n",
       "               '2000-01-03 12:00:00', '2000-01-03 17:00:00',\n",
       "               '2000-01-03 22:00:00'],\n",
       "              dtype='datetime64[ns]', freq='5H')"
      ]
     },
     "execution_count": 55,
     "metadata": {},
     "output_type": "execute_result"
    }
   ],
   "source": [
    "# 간단한 문자열의 형태로 사용시\n",
    "pd.date_range('1/1/2000', '1/3/2000 23:59', freq='5h') # 5시간마다 하나씩"
   ]
  },
  {
   "cell_type": "code",
   "execution_count": 58,
   "metadata": {},
   "outputs": [
    {
     "data": {
      "text/plain": [
       "<220 * Minutes>"
      ]
     },
     "execution_count": 58,
     "metadata": {},
     "output_type": "execute_result"
    }
   ],
   "source": [
    "# 여러 오프셋은 덧셈으로 합쳐질 수 있음\n",
    "Hour(3)+Minute(40)"
   ]
  },
  {
   "cell_type": "code",
   "execution_count": 61,
   "metadata": {},
   "outputs": [
    {
     "data": {
      "text/plain": [
       "DatetimeIndex(['2000-01-01 00:00:00', '2000-01-01 02:30:00',\n",
       "               '2000-01-01 05:00:00', '2000-01-01 07:30:00',\n",
       "               '2000-01-01 10:00:00', '2000-01-01 12:30:00',\n",
       "               '2000-01-01 15:00:00', '2000-01-01 17:30:00',\n",
       "               '2000-01-01 20:00:00', '2000-01-01 22:30:00'],\n",
       "              dtype='datetime64[ns]', freq='150T')"
      ]
     },
     "execution_count": 61,
     "metadata": {},
     "output_type": "execute_result"
    }
   ],
   "source": [
    "pd.date_range('1/1/2000', periods=10, freq='2h30min') # 2h30min마다"
   ]
  },
  {
   "cell_type": "markdown",
   "metadata": {},
   "source": [
    "- 앵커드 오프셋(Anchored Offset):\n",
    "    D,B,H,U,M외에 W-MON, Q-JAN과 같이 매주 월요일, 분기 2월부터 시작해서 다음 1월 끝, 영업일 기준시 쓰는 오프셋"
   ]
  },
  {
   "cell_type": "markdown",
   "metadata": {},
   "source": [
    "#### 월별 주차"
   ]
  },
  {
   "cell_type": "code",
   "execution_count": 66,
   "metadata": {},
   "outputs": [
    {
     "data": {
      "text/plain": [
       "[Timestamp('2017-01-20 00:00:00', freq='WOM-3FRI'),\n",
       " Timestamp('2017-02-17 00:00:00', freq='WOM-3FRI'),\n",
       " Timestamp('2017-03-17 00:00:00', freq='WOM-3FRI'),\n",
       " Timestamp('2017-04-21 00:00:00', freq='WOM-3FRI'),\n",
       " Timestamp('2017-05-19 00:00:00', freq='WOM-3FRI'),\n",
       " Timestamp('2017-06-16 00:00:00', freq='WOM-3FRI'),\n",
       " Timestamp('2017-07-21 00:00:00', freq='WOM-3FRI'),\n",
       " Timestamp('2017-08-18 00:00:00', freq='WOM-3FRI'),\n",
       " Timestamp('2017-09-15 00:00:00', freq='WOM-3FRI'),\n",
       " Timestamp('2017-10-20 00:00:00', freq='WOM-3FRI'),\n",
       " Timestamp('2017-11-17 00:00:00', freq='WOM-3FRI')]"
      ]
     },
     "execution_count": 66,
     "metadata": {},
     "output_type": "execute_result"
    },
    {
     "data": {
      "text/plain": [
       "DatetimeIndex(['2017-01-06', '2017-01-27', '2017-02-17', '2017-03-10',\n",
       "               '2017-03-31', '2017-04-21', '2017-05-12', '2017-06-02',\n",
       "               '2017-06-23', '2017-07-14', '2017-08-04', '2017-08-25',\n",
       "               '2017-09-15', '2017-10-06', '2017-10-27', '2017-11-17'],\n",
       "              dtype='datetime64[ns]', freq='3W-FRI')"
      ]
     },
     "execution_count": 66,
     "metadata": {},
     "output_type": "execute_result"
    },
    {
     "data": {
      "text/plain": [
       "DatetimeIndex(['2017-09-17', '2017-10-08', '2017-10-29', '2017-11-19',\n",
       "               '2017-12-10', '2017-12-31', '2018-01-21', '2018-02-11',\n",
       "               '2018-03-04', '2018-03-25'],\n",
       "              dtype='datetime64[ns]', freq='3W-SUN')"
      ]
     },
     "execution_count": 66,
     "metadata": {},
     "output_type": "execute_result"
    }
   ],
   "source": [
    "# 매월 셋째주 금요일\n",
    "rng = pd.date_range('1/1/2017','12/1/2017', freq='WOM-3FRI')\n",
    "list(rng)\n",
    "pd.date_range('1/1/2017','12/1/2017', freq='3W-FRI') # 매주 3주기간으로 금요일 뽑기.\n",
    "pd.date_range('2017-09-13', periods=10, freq='3W')\n",
    "# 9월 13일이 들어있는 일요일에서 3주간격으로 10개의 날짜를 뽑기."
   ]
  },
  {
   "cell_type": "markdown",
   "metadata": {},
   "source": [
    "### 10.3.3: 데이터 시프트(Shifting: Leading and Lagging)\n",
    "- 시프트 : 데이터를 시간 축에서 앞이나 뒤로 이동하는 것."
   ]
  },
  {
   "cell_type": "code",
   "execution_count": 69,
   "metadata": {},
   "outputs": [
    {
     "data": {
      "text/plain": [
       "2017-09-30    0.745231\n",
       "2017-10-31   -2.302692\n",
       "2017-11-30    1.072055\n",
       "2017-12-31    0.218818\n",
       "Freq: M, dtype: float64"
      ]
     },
     "execution_count": 69,
     "metadata": {},
     "output_type": "execute_result"
    }
   ],
   "source": [
    "ts = Series(np.random.randn(4),\n",
    "           index=pd.date_range('9/1/2017', periods=4, freq='M'))\n",
    "ts"
   ]
  },
  {
   "cell_type": "markdown",
   "metadata": {},
   "source": [
    "- 느슨한 시프트 \n",
    "    - 시간인덱스는 그대로, 데이터만 이동\n",
    "    - 데이터가 버려질 수 있음."
   ]
  },
  {
   "cell_type": "code",
   "execution_count": 71,
   "metadata": {},
   "outputs": [
    {
     "data": {
      "text/plain": [
       "2017-09-30    0.745231\n",
       "2017-10-31   -2.302692\n",
       "2017-11-30    1.072055\n",
       "2017-12-31    0.218818\n",
       "Freq: M, dtype: float64"
      ]
     },
     "execution_count": 71,
     "metadata": {},
     "output_type": "execute_result"
    },
    {
     "data": {
      "text/plain": [
       "2017-09-30         NaN\n",
       "2017-10-31         NaN\n",
       "2017-11-30    0.745231\n",
       "2017-12-31   -2.302692\n",
       "Freq: M, dtype: float64"
      ]
     },
     "execution_count": 71,
     "metadata": {},
     "output_type": "execute_result"
    },
    {
     "data": {
      "text/plain": [
       "2017-09-30    1.072055\n",
       "2017-10-31    0.218818\n",
       "2017-11-30         NaN\n",
       "2017-12-31         NaN\n",
       "Freq: M, dtype: float64"
      ]
     },
     "execution_count": 71,
     "metadata": {},
     "output_type": "execute_result"
    }
   ],
   "source": [
    "ts\n",
    "ts.shift(2)\n",
    "ts.shift(-2)"
   ]
  },
  {
   "cell_type": "markdown",
   "metadata": {},
   "source": [
    "- 시계열에서 퍼센트 계산"
   ]
  },
  {
   "cell_type": "code",
   "execution_count": 81,
   "metadata": {},
   "outputs": [
    {
     "data": {
      "text/plain": [
       "2017-09-30         NaN\n",
       "2017-10-31    0.745231\n",
       "2017-11-30   -2.302692\n",
       "2017-12-31    1.072055\n",
       "Freq: M, dtype: float64"
      ]
     },
     "execution_count": 81,
     "metadata": {},
     "output_type": "execute_result"
    },
    {
     "data": {
      "text/plain": [
       "2017-09-30         NaN\n",
       "2017-10-31   -4.089904\n",
       "2017-11-30   -1.465566\n",
       "2017-12-31   -0.795890\n",
       "Freq: M, dtype: float64"
      ]
     },
     "execution_count": 81,
     "metadata": {},
     "output_type": "execute_result"
    }
   ],
   "source": [
    "# 이전값보다 얼마나 늘었나 증가분 구하기\n",
    "ts.shift(1)\n",
    "ts / ts.shift(1) - 1"
   ]
  },
  {
   "cell_type": "code",
   "execution_count": 82,
   "metadata": {},
   "outputs": [
    {
     "data": {
      "text/plain": [
       "2017-09-30         NaN\n",
       "2017-10-31   -4.089904\n",
       "2017-11-30   -1.465566\n",
       "2017-12-31   -0.795890\n",
       "Freq: M, dtype: float64"
      ]
     },
     "execution_count": 82,
     "metadata": {},
     "output_type": "execute_result"
    },
    {
     "data": {
      "text/plain": [
       "2017-09-30         NaN\n",
       "2017-10-31         NaN\n",
       "2017-11-30    0.438555\n",
       "2017-12-31   -1.095027\n",
       "Freq: M, dtype: float64"
      ]
     },
     "execution_count": 82,
     "metadata": {},
     "output_type": "execute_result"
    }
   ],
   "source": [
    "ts.pct_change() # 퍼센트 증가분!\n",
    "ts.pct_change(2) # 2칸 시프트"
   ]
  },
  {
   "cell_type": "markdown",
   "metadata": {},
   "source": [
    "- freq 인자에 같은 빈도를 주면 인덱스가 변경됨\n",
    "but 데이터 개수는 변경되지 않음"
   ]
  },
  {
   "cell_type": "code",
   "execution_count": 84,
   "metadata": {},
   "outputs": [
    {
     "data": {
      "text/plain": [
       "2017-09-30    0.745231\n",
       "2017-10-31   -2.302692\n",
       "2017-11-30    1.072055\n",
       "2017-12-31    0.218818\n",
       "Freq: M, dtype: float64"
      ]
     },
     "execution_count": 84,
     "metadata": {},
     "output_type": "execute_result"
    },
    {
     "data": {
      "text/plain": [
       "2017-11-30    0.745231\n",
       "2017-12-31   -2.302692\n",
       "2018-01-31    1.072055\n",
       "2018-02-28    0.218818\n",
       "Freq: M, dtype: float64"
      ]
     },
     "execution_count": 84,
     "metadata": {},
     "output_type": "execute_result"
    }
   ],
   "source": [
    "ts\n",
    "ts.shift(2, freq='M') # 월말"
   ]
  },
  {
   "cell_type": "code",
   "execution_count": 87,
   "metadata": {},
   "outputs": [
    {
     "data": {
      "text/plain": [
       "2017-10-03    0.745231\n",
       "2017-11-03   -2.302692\n",
       "2017-12-03    1.072055\n",
       "2018-01-03    0.218818\n",
       "dtype: float64"
      ]
     },
     "execution_count": 87,
     "metadata": {},
     "output_type": "execute_result"
    },
    {
     "data": {
      "text/plain": [
       "2017-10-03    0.745231\n",
       "2017-11-03   -2.302692\n",
       "2017-12-03    1.072055\n",
       "2018-01-03    0.218818\n",
       "dtype: float64"
      ]
     },
     "execution_count": 87,
     "metadata": {},
     "output_type": "execute_result"
    }
   ],
   "source": [
    "ts.shift(3, freq='D') # 3day 뒤 index만 바뀜\n",
    "ts.shift(1, freq='3D') # 위와 같은 결과."
   ]
  },
  {
   "cell_type": "code",
   "execution_count": 90,
   "metadata": {},
   "outputs": [
    {
     "data": {
      "text/plain": [
       "2017-09-30 01:30:00    0.745231\n",
       "2017-10-31 01:30:00   -2.302692\n",
       "2017-11-30 01:30:00    1.072055\n",
       "2017-12-31 01:30:00    0.218818\n",
       "Freq: M, dtype: float64"
      ]
     },
     "execution_count": 90,
     "metadata": {},
     "output_type": "execute_result"
    }
   ],
   "source": [
    "ts.shift(1, freq='90T') # 90분 = 1시간 30분(1시30분?)"
   ]
  },
  {
   "cell_type": "markdown",
   "metadata": {},
   "source": [
    "#### 오프셋만큼 날짜 시프트하기."
   ]
  },
  {
   "cell_type": "code",
   "execution_count": 92,
   "metadata": {},
   "outputs": [
    {
     "data": {
      "text/plain": [
       "Timestamp('2011-11-20 00:00:00')"
      ]
     },
     "execution_count": 92,
     "metadata": {},
     "output_type": "execute_result"
    }
   ],
   "source": [
    "from pandas.tseries.offsets import Day, MonthEnd\n",
    "now = datetime(2011,11,17)\n",
    "now + 3 * Day() # 자동 형변환."
   ]
  },
  {
   "cell_type": "code",
   "execution_count": 94,
   "metadata": {},
   "outputs": [
    {
     "data": {
      "text/plain": [
       "Timestamp('2011-11-30 00:00:00')"
      ]
     },
     "execution_count": 94,
     "metadata": {},
     "output_type": "execute_result"
    }
   ],
   "source": [
    "now + MonthEnd()"
   ]
  },
  {
   "cell_type": "code",
   "execution_count": 96,
   "metadata": {},
   "outputs": [
    {
     "data": {
      "text/plain": [
       "Timestamp('2011-12-31 00:00:00')"
      ]
     },
     "execution_count": 96,
     "metadata": {},
     "output_type": "execute_result"
    }
   ],
   "source": [
    "now + MonthEnd(2) # 다음달의 마지막날"
   ]
  },
  {
   "cell_type": "markdown",
   "metadata": {},
   "source": [
    "- rollforward(), rollback() : 메서드를 활용해 명시적으로 각각 날짜를 앞으로 밀거나 당길수 있음."
   ]
  },
  {
   "cell_type": "code",
   "execution_count": 98,
   "metadata": {},
   "outputs": [
    {
     "data": {
      "text/plain": [
       "Timestamp('2011-11-30 00:00:00')"
      ]
     },
     "execution_count": 98,
     "metadata": {},
     "output_type": "execute_result"
    }
   ],
   "source": [
    "offset = MonthEnd()\n",
    "offset.rollforward(now) # 그 달의 마지막날로! (now + MonthEnd())"
   ]
  },
  {
   "cell_type": "code",
   "execution_count": 101,
   "metadata": {},
   "outputs": [
    {
     "data": {
      "text/plain": [
       "Timestamp('2011-10-31 00:00:00')"
      ]
     },
     "execution_count": 101,
     "metadata": {},
     "output_type": "execute_result"
    }
   ],
   "source": [
    "offset.rollback(now) # 그 전달의 마지막날 (now - MonthEnd())"
   ]
  },
  {
   "cell_type": "code",
   "execution_count": 104,
   "metadata": {},
   "outputs": [
    {
     "data": {
      "text/plain": [
       "2017-11-27   -1.020200\n",
       "2017-12-01    0.544978\n",
       "2017-12-05    0.654146\n",
       "2017-12-09    2.301466\n",
       "2017-12-13   -0.312340\n",
       "2017-12-17   -0.017415\n",
       "                ...   \n",
       "2018-01-22    0.671058\n",
       "2018-01-26    0.131795\n",
       "2018-01-30    1.051027\n",
       "2018-02-03    0.152935\n",
       "2018-02-07    0.196589\n",
       "2018-02-11    0.482493\n",
       "Freq: 4D, Length: 20, dtype: float64"
      ]
     },
     "execution_count": 104,
     "metadata": {},
     "output_type": "execute_result"
    },
    {
     "data": {
      "text/plain": [
       "2017-11-30   -1.020200\n",
       "2017-12-31    0.330114\n",
       "2018-01-31    0.464529\n",
       "2018-02-28    0.277339\n",
       "dtype: float64"
      ]
     },
     "execution_count": 104,
     "metadata": {},
     "output_type": "execute_result"
    }
   ],
   "source": [
    "# 4일에 한번씩 20개 날짜.\n",
    "ts = Series(np.random.randn(20),\n",
    "           index=pd.date_range('11/27/2017', periods=20, freq='4D'))\n",
    "ts\n",
    "# groupby에 함수를 주면 index에 적용됨\n",
    "# 말일날짜 기준으로 평균을 모음.\n",
    "ts.groupby(offset.rollforward).mean()"
   ]
  },
  {
   "cell_type": "code",
   "execution_count": 111,
   "metadata": {},
   "outputs": [
    {
     "data": {
      "text/plain": [
       "2017-11-30   -1.020200\n",
       "2017-12-31    0.330114\n",
       "2018-01-31    0.464529\n",
       "2018-02-28    0.277339\n",
       "Freq: M, dtype: float64"
      ]
     },
     "execution_count": 111,
     "metadata": {},
     "output_type": "execute_result"
    }
   ],
   "source": [
    "# ts.resample('M', how='mean') # 위와 같은 결과. (예전방식)\n",
    "ts.resample('M').mean() # 위와 같은 결과."
   ]
  },
  {
   "cell_type": "markdown",
   "metadata": {},
   "source": [
    "## 10.4: 시간대 다루기(Time Zone Handling)\n",
    "시간대\n",
    "- DST(일광절약시간, Day Saving Time 서머타임)\n",
    "- UTC(국제표준시, Coordinate Universal Time)\n",
    "    - pytz 패키지 : Olson 시간대 데이터베이스를 기준으로 한 역사적인 시간대와 현대적인 시간대를 모두 망라하고 있는 라이브러리"
   ]
  },
  {
   "cell_type": "code",
   "execution_count": 6,
   "metadata": {},
   "outputs": [
    {
     "data": {
      "text/plain": [
       "['US/Eastern', 'US/Hawaii', 'US/Mountain', 'US/Pacific', 'UTC']"
      ]
     },
     "execution_count": 6,
     "metadata": {},
     "output_type": "execute_result"
    }
   ],
   "source": [
    "import pytz\n",
    "pytz.common_timezones[-5:]"
   ]
  },
  {
   "cell_type": "code",
   "execution_count": 7,
   "metadata": {},
   "outputs": [
    {
     "data": {
      "text/plain": [
       "['Asia/Aden',\n",
       " 'Asia/Almaty',\n",
       " 'Asia/Amman',\n",
       " 'Asia/Anadyr',\n",
       " 'Asia/Aqtau',\n",
       " 'Asia/Aqtobe',\n",
       " 'Asia/Ashgabat',\n",
       " 'Asia/Atyrau',\n",
       " 'Asia/Baghdad',\n",
       " 'Asia/Bahrain']"
      ]
     },
     "execution_count": 7,
     "metadata": {},
     "output_type": "execute_result"
    },
    {
     "data": {
      "text/plain": [
       "['Asia/Seoul']"
      ]
     },
     "execution_count": 7,
     "metadata": {},
     "output_type": "execute_result"
    }
   ],
   "source": [
    "[x for x in pytz.common_timezones if x.startswith('Asia')][:10]\n",
    "[x for x in pytz.common_timezones if x.endswith('Seoul')]"
   ]
  },
  {
   "cell_type": "code",
   "execution_count": 8,
   "metadata": {},
   "outputs": [
    {
     "data": {
      "text/plain": [
       "<DstTzInfo 'US/Eastern' LMT-1 day, 19:04:00 STD>"
      ]
     },
     "execution_count": 8,
     "metadata": {},
     "output_type": "execute_result"
    }
   ],
   "source": [
    "# TimeZone 객체 생성 : 시간대 객체 생성\n",
    "tz = pytz.timezone('US/Eastern')\n",
    "tz"
   ]
  },
  {
   "cell_type": "markdown",
   "metadata": {},
   "source": [
    "### 10.4.1: 지역화와 변환\n",
    "- 명시하지 않은 시간대는 None"
   ]
  },
  {
   "cell_type": "code",
   "execution_count": 9,
   "metadata": {
    "collapsed": true
   },
   "outputs": [],
   "source": [
    "rng = pd.date_range('3/9/2012 9:30', periods=6, freq='D')\n",
    "ts = Series(np.random.randn(len(rng)), index=rng)"
   ]
  },
  {
   "cell_type": "code",
   "execution_count": 10,
   "metadata": {},
   "outputs": [
    {
     "name": "stdout",
     "output_type": "stream",
     "text": [
      "None\n"
     ]
    }
   ],
   "source": [
    "print(ts.index.tz)\n",
    "# print(ts)"
   ]
  },
  {
   "cell_type": "markdown",
   "metadata": {},
   "source": [
    "- 시간대 지정하여 날짜범위 생성"
   ]
  },
  {
   "cell_type": "code",
   "execution_count": 11,
   "metadata": {},
   "outputs": [
    {
     "data": {
      "text/plain": [
       "DatetimeIndex(['2012-03-09 09:30:00+00:00', '2012-03-10 09:30:00+00:00',\n",
       "               '2012-03-11 09:30:00+00:00', '2012-03-12 09:30:00+00:00',\n",
       "               '2012-03-13 09:30:00+00:00', '2012-03-14 09:30:00+00:00',\n",
       "               '2012-03-15 09:30:00+00:00', '2012-03-16 09:30:00+00:00',\n",
       "               '2012-03-17 09:30:00+00:00', '2012-03-18 09:30:00+00:00'],\n",
       "              dtype='datetime64[ns, UTC]', freq='D')"
      ]
     },
     "execution_count": 11,
     "metadata": {},
     "output_type": "execute_result"
    }
   ],
   "source": [
    "pd.date_range('3/9/2012 9:30', periods=10, freq='D', tz='UTC')"
   ]
  },
  {
   "cell_type": "markdown",
   "metadata": {},
   "source": [
    "- 지정한 시간대로 시계열 변경\n",
    "    - 시간대가 없는 시계열 : tz_localize()\n",
    "    - 시간대가 있는 시계열 : tz_convert()\n",
    "          시간대가 다른 시계열로 변환\n",
    "          tz_localize(), tz_convert() : DatatimeIndex의 인스턴스 메서드"
   ]
  },
  {
   "cell_type": "code",
   "execution_count": 12,
   "metadata": {},
   "outputs": [
    {
     "data": {
      "text/plain": [
       "2012-03-09 09:30:00   -0.204708\n",
       "2012-03-10 09:30:00    0.478943\n",
       "2012-03-11 09:30:00   -0.519439\n",
       "2012-03-12 09:30:00   -0.555730\n",
       "2012-03-13 09:30:00    1.965781\n",
       "2012-03-14 09:30:00    1.393406\n",
       "Freq: D, dtype: float64"
      ]
     },
     "execution_count": 12,
     "metadata": {},
     "output_type": "execute_result"
    },
    {
     "data": {
      "text/plain": [
       "2012-03-09 09:30:00+00:00   -0.204708\n",
       "2012-03-10 09:30:00+00:00    0.478943\n",
       "2012-03-11 09:30:00+00:00   -0.519439\n",
       "2012-03-12 09:30:00+00:00   -0.555730\n",
       "2012-03-13 09:30:00+00:00    1.965781\n",
       "2012-03-14 09:30:00+00:00    1.393406\n",
       "Freq: D, dtype: float64"
      ]
     },
     "execution_count": 12,
     "metadata": {},
     "output_type": "execute_result"
    }
   ],
   "source": [
    "ts\n",
    "ts_utc = ts.tz_localize('UTC') # 현지화함\n",
    "ts_utc # +00:00 타임존이 들어감."
   ]
  },
  {
   "cell_type": "code",
   "execution_count": 13,
   "metadata": {},
   "outputs": [
    {
     "data": {
      "text/plain": [
       "DatetimeIndex(['2012-03-09 09:30:00+00:00', '2012-03-10 09:30:00+00:00',\n",
       "               '2012-03-11 09:30:00+00:00', '2012-03-12 09:30:00+00:00',\n",
       "               '2012-03-13 09:30:00+00:00', '2012-03-14 09:30:00+00:00'],\n",
       "              dtype='datetime64[ns, UTC]', freq='D')"
      ]
     },
     "execution_count": 13,
     "metadata": {},
     "output_type": "execute_result"
    }
   ],
   "source": [
    "ts_utc.index"
   ]
  },
  {
   "cell_type": "code",
   "execution_count": 14,
   "metadata": {},
   "outputs": [
    {
     "data": {
      "text/plain": [
       "2012-03-09 04:30:00-05:00   -0.204708\n",
       "2012-03-10 04:30:00-05:00    0.478943\n",
       "2012-03-11 05:30:00-04:00   -0.519439\n",
       "2012-03-12 05:30:00-04:00   -0.555730\n",
       "2012-03-13 05:30:00-04:00    1.965781\n",
       "2012-03-14 05:30:00-04:00    1.393406\n",
       "Freq: D, dtype: float64"
      ]
     },
     "execution_count": 14,
     "metadata": {},
     "output_type": "execute_result"
    }
   ],
   "source": [
    "ts_utc.tz_convert('US/Eastern') # 미동부 표준시간으로 변경, 표준보다 5시간 느림"
   ]
  },
  {
   "cell_type": "code",
   "execution_count": 15,
   "metadata": {},
   "outputs": [
    {
     "data": {
      "text/plain": [
       "2012-03-09 09:30:00   -0.204708\n",
       "2012-03-10 09:30:00    0.478943\n",
       "2012-03-11 09:30:00   -0.519439\n",
       "2012-03-12 09:30:00   -0.555730\n",
       "2012-03-13 09:30:00    1.965781\n",
       "2012-03-14 09:30:00    1.393406\n",
       "Freq: D, dtype: float64"
      ]
     },
     "execution_count": 15,
     "metadata": {},
     "output_type": "execute_result"
    },
    {
     "data": {
      "text/plain": [
       "2012-03-09 14:30:00+00:00   -0.204708\n",
       "2012-03-10 14:30:00+00:00    0.478943\n",
       "2012-03-11 13:30:00+00:00   -0.519439\n",
       "2012-03-12 13:30:00+00:00   -0.555730\n",
       "2012-03-13 13:30:00+00:00    1.965781\n",
       "2012-03-14 13:30:00+00:00    1.393406\n",
       "Freq: D, dtype: float64"
      ]
     },
     "execution_count": 15,
     "metadata": {},
     "output_type": "execute_result"
    }
   ],
   "source": [
    "# ts 타임존이 없는 데이터\n",
    "ts\n",
    "ts_eastern = ts.tz_localize('US/Eastern')\n",
    "ts_eastern.tz_convert('UTC')"
   ]
  },
  {
   "cell_type": "code",
   "execution_count": 16,
   "metadata": {},
   "outputs": [
    {
     "data": {
      "text/plain": [
       "2012-03-09 15:30:00+01:00   -0.204708\n",
       "2012-03-10 15:30:00+01:00    0.478943\n",
       "2012-03-11 14:30:00+01:00   -0.519439\n",
       "2012-03-12 14:30:00+01:00   -0.555730\n",
       "2012-03-13 14:30:00+01:00    1.965781\n",
       "2012-03-14 14:30:00+01:00    1.393406\n",
       "Freq: D, dtype: float64"
      ]
     },
     "execution_count": 16,
     "metadata": {},
     "output_type": "execute_result"
    }
   ],
   "source": [
    "# 베를린 시간으로 변환 \n",
    "ts_eastern.tz_convert('Europe/Berlin')"
   ]
  },
  {
   "cell_type": "code",
   "execution_count": 17,
   "metadata": {},
   "outputs": [
    {
     "data": {
      "text/plain": [
       "DatetimeIndex(['2012-03-09 09:30:00+08:00', '2012-03-10 09:30:00+08:00',\n",
       "               '2012-03-11 09:30:00+08:00', '2012-03-12 09:30:00+08:00',\n",
       "               '2012-03-13 09:30:00+08:00', '2012-03-14 09:30:00+08:00'],\n",
       "              dtype='datetime64[ns, Asia/Shanghai]', freq='D')"
      ]
     },
     "execution_count": 17,
     "metadata": {},
     "output_type": "execute_result"
    }
   ],
   "source": [
    "ts.index.tz_localize('Asia/Shanghai')"
   ]
  },
  {
   "cell_type": "markdown",
   "metadata": {},
   "source": [
    "### 10.4.2: 시간대 고려해 TimeStamp 객체 다루기"
   ]
  },
  {
   "cell_type": "code",
   "execution_count": 23,
   "metadata": {},
   "outputs": [
    {
     "data": {
      "text/plain": [
       "Timestamp('2011-03-02 04:00:00+0000', tz='UTC')"
      ]
     },
     "execution_count": 23,
     "metadata": {},
     "output_type": "execute_result"
    },
    {
     "data": {
      "text/plain": [
       "Timestamp('2011-03-01 23:00:00-0500', tz='US/Eastern')"
      ]
     },
     "execution_count": 23,
     "metadata": {},
     "output_type": "execute_result"
    },
    {
     "data": {
      "text/plain": [
       "Timestamp('2011-03-02 13:00:00+0900', tz='Asia/Seoul')"
      ]
     },
     "execution_count": 23,
     "metadata": {},
     "output_type": "execute_result"
    }
   ],
   "source": [
    "stamp = pd.Timestamp('2011-03-02 04:00')\n",
    "stamp_utc = stamp.tz_localize('utc'); stamp_utc\n",
    "stamp_utc.tz_convert('US/Eastern')\n",
    "stamp_utc.tz_convert('Asia/Seoul')"
   ]
  },
  {
   "cell_type": "markdown",
   "metadata": {},
   "source": [
    "- timezone 객체 생성시 시간대 지정"
   ]
  },
  {
   "cell_type": "code",
   "execution_count": 26,
   "metadata": {},
   "outputs": [
    {
     "data": {
      "text/plain": [
       "Timestamp('2011-03-12 04:00:00+0300', tz='Europe/Moscow')"
      ]
     },
     "execution_count": 26,
     "metadata": {},
     "output_type": "execute_result"
    }
   ],
   "source": [
    "stamp_moscow = pd.Timestamp('2011-03-12 04:00', tz='Europe/Moscow')\n",
    "stamp_moscow"
   ]
  },
  {
   "cell_type": "markdown",
   "metadata": {},
   "source": [
    "- UNIX epoch(1970년1월1일)부터 해당시간까지의 나노초\n",
    "    - 시간대 변환해도 유지됨\n",
    "    - 일종의 절대시간"
   ]
  },
  {
   "cell_type": "code",
   "execution_count": 28,
   "metadata": {},
   "outputs": [
    {
     "data": {
      "text/plain": [
       "1299038400000000000"
      ]
     },
     "execution_count": 28,
     "metadata": {},
     "output_type": "execute_result"
    }
   ],
   "source": [
    "stamp_utc.value"
   ]
  },
  {
   "cell_type": "code",
   "execution_count": 30,
   "metadata": {},
   "outputs": [
    {
     "data": {
      "text/plain": [
       "1299038400000000000"
      ]
     },
     "execution_count": 30,
     "metadata": {},
     "output_type": "execute_result"
    }
   ],
   "source": [
    "stamp_utc.tz_convert('US/Eastern').value"
   ]
  },
  {
   "cell_type": "markdown",
   "metadata": {},
   "source": [
    "- 일광절약시간제 고려한 시간계산\n",
    "    - 일광절약시간제\n",
    "    - DST 전환시점 고려"
   ]
  },
  {
   "cell_type": "code",
   "execution_count": 32,
   "metadata": {},
   "outputs": [
    {
     "data": {
      "text/plain": [
       "Timestamp('2012-03-12 01:30:00-0400', tz='US/Eastern')"
      ]
     },
     "execution_count": 32,
     "metadata": {},
     "output_type": "execute_result"
    }
   ],
   "source": [
    "# 30 minutes before DST transition\n",
    "from pandas.tseries.offsets import Hour\n",
    "stamp = pd.Timestamp('2012-03-12 01:30', tz='US/Eastern')\n",
    "stamp"
   ]
  },
  {
   "cell_type": "code",
   "execution_count": 34,
   "metadata": {},
   "outputs": [
    {
     "data": {
      "text/plain": [
       "Timestamp('2012-03-12 02:30:00-0400', tz='US/Eastern')"
      ]
     },
     "execution_count": 34,
     "metadata": {},
     "output_type": "execute_result"
    }
   ],
   "source": [
    "stamp + Hour()"
   ]
  },
  {
   "cell_type": "code",
   "execution_count": 36,
   "metadata": {},
   "outputs": [
    {
     "data": {
      "text/plain": [
       "Timestamp('2012-11-04 00:30:00-0400', tz='US/Eastern')"
      ]
     },
     "execution_count": 36,
     "metadata": {},
     "output_type": "execute_result"
    }
   ],
   "source": [
    "# 90 minute before DST transition\n",
    "stamp = pd.Timestamp('2012-11-04 00:30', tz='US/Eastern')\n",
    "stamp"
   ]
  },
  {
   "cell_type": "code",
   "execution_count": 38,
   "metadata": {},
   "outputs": [
    {
     "data": {
      "text/plain": [
       "Timestamp('2012-11-04 01:30:00-0500', tz='US/Eastern')"
      ]
     },
     "execution_count": 38,
     "metadata": {},
     "output_type": "execute_result"
    }
   ],
   "source": [
    "# 일광절약시간대가 해지되는 시간\n",
    "stamp + 2 * Hour() # 한시간이 늦춰짐 일광절약시간대!"
   ]
  },
  {
   "cell_type": "markdown",
   "metadata": {},
   "source": [
    "### 10.4.3: 다른 시간대 간의 연산"
   ]
  },
  {
   "cell_type": "code",
   "execution_count": 41,
   "metadata": {
    "collapsed": true
   },
   "outputs": [],
   "source": [
    "# 다른 시간대를 갖는 두 시계열이 하나로 합쳐지면 UTC 시간!\n",
    "rng = pd.date_range('3/7/2012 9:30', periods=10, freq='B')\n",
    "ts = Series(np.random.randn(len(rng)), index=rng)"
   ]
  },
  {
   "cell_type": "code",
   "execution_count": 43,
   "metadata": {},
   "outputs": [
    {
     "data": {
      "text/plain": [
       "2012-03-07 09:30:00   -2.001637\n",
       "2012-03-08 09:30:00   -0.371843\n",
       "2012-03-09 09:30:00    1.669025\n",
       "2012-03-12 09:30:00   -0.438570\n",
       "2012-03-13 09:30:00   -0.539741\n",
       "2012-03-14 09:30:00    0.476985\n",
       "2012-03-15 09:30:00    3.248944\n",
       "Freq: B, dtype: float64"
      ]
     },
     "execution_count": 43,
     "metadata": {},
     "output_type": "execute_result"
    }
   ],
   "source": [
    "ts[:7]"
   ]
  },
  {
   "cell_type": "code",
   "execution_count": 47,
   "metadata": {},
   "outputs": [
    {
     "data": {
      "text/plain": [
       "DatetimeIndex(['2012-03-07 09:30:00+00:00', '2012-03-08 09:30:00+00:00',\n",
       "               '2012-03-09 09:30:00+00:00', '2012-03-12 09:30:00+00:00',\n",
       "               '2012-03-13 09:30:00+00:00', '2012-03-14 09:30:00+00:00',\n",
       "               '2012-03-15 09:30:00+00:00'],\n",
       "              dtype='datetime64[ns, Europe/London]', freq='B')"
      ]
     },
     "execution_count": 47,
     "metadata": {},
     "output_type": "execute_result"
    },
    {
     "data": {
      "text/plain": [
       "DatetimeIndex(['2012-03-09 13:30:00+04:00', '2012-03-12 13:30:00+04:00',\n",
       "               '2012-03-13 13:30:00+04:00', '2012-03-14 13:30:00+04:00',\n",
       "               '2012-03-15 13:30:00+04:00'],\n",
       "              dtype='datetime64[ns, Europe/Moscow]', freq='B')"
      ]
     },
     "execution_count": 47,
     "metadata": {},
     "output_type": "execute_result"
    },
    {
     "data": {
      "text/plain": [
       "DatetimeIndex(['2012-03-07 09:30:00+00:00', '2012-03-08 09:30:00+00:00',\n",
       "               '2012-03-09 09:30:00+00:00', '2012-03-12 09:30:00+00:00',\n",
       "               '2012-03-13 09:30:00+00:00', '2012-03-14 09:30:00+00:00',\n",
       "               '2012-03-15 09:30:00+00:00'],\n",
       "              dtype='datetime64[ns, UTC]', freq='B')"
      ]
     },
     "execution_count": 47,
     "metadata": {},
     "output_type": "execute_result"
    }
   ],
   "source": [
    "ts1 = ts[:7].tz_localize('Europe/London'); ts1.index\n",
    "ts2 = ts1[2:].tz_convert('Europe/Moscow'); ts2.index\n",
    "result = ts1 + ts2 # 표준시로 변환해서 연산됨\n",
    "result.index"
   ]
  },
  {
   "cell_type": "code",
   "execution_count": 49,
   "metadata": {},
   "outputs": [
    {
     "data": {
      "text/plain": [
       "2012-03-07 09:30:00+00:00   -2.001637\n",
       "2012-03-08 09:30:00+00:00   -0.371843\n",
       "2012-03-09 09:30:00+00:00    1.669025\n",
       "2012-03-12 09:30:00+00:00   -0.438570\n",
       "2012-03-13 09:30:00+00:00   -0.539741\n",
       "2012-03-14 09:30:00+00:00    0.476985\n",
       "2012-03-15 09:30:00+00:00    3.248944\n",
       "Freq: B, dtype: float64"
      ]
     },
     "execution_count": 49,
     "metadata": {},
     "output_type": "execute_result"
    },
    {
     "data": {
      "text/plain": [
       "2012-03-09 13:30:00+04:00    1.669025\n",
       "2012-03-12 13:30:00+04:00   -0.438570\n",
       "2012-03-13 13:30:00+04:00   -0.539741\n",
       "2012-03-14 13:30:00+04:00    0.476985\n",
       "2012-03-15 13:30:00+04:00    3.248944\n",
       "Freq: B, dtype: float64"
      ]
     },
     "execution_count": 49,
     "metadata": {},
     "output_type": "execute_result"
    },
    {
     "data": {
      "text/plain": [
       "2012-03-07 09:30:00+00:00         NaN\n",
       "2012-03-08 09:30:00+00:00         NaN\n",
       "2012-03-09 09:30:00+00:00    3.338051\n",
       "2012-03-12 09:30:00+00:00   -0.877139\n",
       "2012-03-13 09:30:00+00:00   -1.079483\n",
       "2012-03-14 09:30:00+00:00    0.953970\n",
       "2012-03-15 09:30:00+00:00    6.497888\n",
       "Freq: B, dtype: float64"
      ]
     },
     "execution_count": 49,
     "metadata": {},
     "output_type": "execute_result"
    }
   ],
   "source": [
    "ts1\n",
    "ts2\n",
    "result"
   ]
  },
  {
   "cell_type": "markdown",
   "metadata": {},
   "source": [
    "## 10.5: 기간과 기간연산(Periods and Period Arithmethic)\n",
    "- 몇 일, 개월, 분기, 해 : Period 클래스로 표현가능."
   ]
  },
  {
   "cell_type": "code",
   "execution_count": 8,
   "metadata": {},
   "outputs": [
    {
     "data": {
      "text/plain": [
       "Period('2017', 'A-DEC')"
      ]
     },
     "execution_count": 8,
     "metadata": {},
     "output_type": "execute_result"
    }
   ],
   "source": [
    "p = pd.Period(2017, freq='A-DEC') # 1년 데이터 annual\n",
    "p"
   ]
  },
  {
   "cell_type": "code",
   "execution_count": 11,
   "metadata": {},
   "outputs": [
    {
     "data": {
      "text/plain": [
       "Period('2022', 'A-DEC')"
      ]
     },
     "execution_count": 11,
     "metadata": {},
     "output_type": "execute_result"
    },
    {
     "data": {
      "text/plain": [
       "Period('2015', 'A-DEC')"
      ]
     },
     "execution_count": 11,
     "metadata": {},
     "output_type": "execute_result"
    }
   ],
   "source": [
    "p+5\n",
    "p-2"
   ]
  },
  {
   "cell_type": "code",
   "execution_count": 14,
   "metadata": {},
   "outputs": [
    {
     "data": {
      "text/plain": [
       "-4"
      ]
     },
     "execution_count": 14,
     "metadata": {},
     "output_type": "execute_result"
    }
   ],
   "source": [
    "pd.Period('2013', freq='A-DEC')-p # 두 기간의 차(년차)"
   ]
  },
  {
   "cell_type": "markdown",
   "metadata": {},
   "source": [
    "- pandas.period_range() : PeriodIndex 생성(일반적인 기간 범위)"
   ]
  },
  {
   "cell_type": "code",
   "execution_count": 16,
   "metadata": {},
   "outputs": [
    {
     "data": {
      "text/plain": [
       "PeriodIndex(['2017-01', '2017-02', '2017-03', '2017-04', '2017-05', '2017-06',\n",
       "             '2017-07', '2017-08', '2017-09', '2017-10', '2017-11'],\n",
       "            dtype='period[M]', freq='M')"
      ]
     },
     "execution_count": 16,
     "metadata": {},
     "output_type": "execute_result"
    }
   ],
   "source": [
    "# 월말 단위로.\n",
    "rng = pd.period_range('1/1/2017','11/30/2017', freq='M')\n",
    "rng"
   ]
  },
  {
   "cell_type": "code",
   "execution_count": 19,
   "metadata": {},
   "outputs": [
    {
     "data": {
      "text/plain": [
       "2017-01   -0.371843\n",
       "2017-02    1.669025\n",
       "2017-03   -0.438570\n",
       "2017-04   -0.539741\n",
       "2017-05    0.476985\n",
       "2017-06    3.248944\n",
       "2017-07   -1.021228\n",
       "2017-08   -0.577087\n",
       "2017-09    0.124121\n",
       "2017-10    0.302614\n",
       "2017-11    0.523772\n",
       "Freq: M, dtype: float64"
      ]
     },
     "execution_count": 19,
     "metadata": {},
     "output_type": "execute_result"
    }
   ],
   "source": [
    "Series(np.random.randn(11),index=rng)"
   ]
  },
  {
   "cell_type": "code",
   "execution_count": 21,
   "metadata": {},
   "outputs": [
    {
     "data": {
      "text/plain": [
       "PeriodIndex(['2011Q3', '2012Q2', '2013Q1'], dtype='period[Q-DEC]', freq='Q-DEC')"
      ]
     },
     "execution_count": 21,
     "metadata": {},
     "output_type": "execute_result"
    }
   ],
   "source": [
    "# Q-DEC 12월을 끝으로 하는 분기\n",
    "values = ['2011Q3','2012Q2','2013Q1']\n",
    "index = pd.PeriodIndex(values, freq='Q-DEC')\n",
    "index"
   ]
  },
  {
   "cell_type": "markdown",
   "metadata": {},
   "source": [
    "### 10.5.1: Period의 빈도변환(Period Frequency Conversion)\n",
    "- Period.asfreq() 메서드를 통해 다른 빈도로 변환.\n",
    "- 상위단계기간 => 하위단계기간"
   ]
  },
  {
   "cell_type": "code",
   "execution_count": 24,
   "metadata": {},
   "outputs": [
    {
     "data": {
      "text/plain": [
       "Period('2017-01', 'M')"
      ]
     },
     "execution_count": 24,
     "metadata": {},
     "output_type": "execute_result"
    },
    {
     "data": {
      "text/plain": [
       "Period('2017-12', 'M')"
      ]
     },
     "execution_count": 24,
     "metadata": {},
     "output_type": "execute_result"
    },
    {
     "data": {
      "text/plain": [
       "Period('2017-01-01', 'D')"
      ]
     },
     "execution_count": 24,
     "metadata": {},
     "output_type": "execute_result"
    },
    {
     "data": {
      "text/plain": [
       "Period('2017-12-31', 'D')"
      ]
     },
     "execution_count": 24,
     "metadata": {},
     "output_type": "execute_result"
    },
    {
     "data": {
      "text/plain": [
       "Period('2017-01-01 00:00', 'H')"
      ]
     },
     "execution_count": 24,
     "metadata": {},
     "output_type": "execute_result"
    },
    {
     "data": {
      "text/plain": [
       "Period('2017-12-31 23:00', 'H')"
      ]
     },
     "execution_count": 24,
     "metadata": {},
     "output_type": "execute_result"
    }
   ],
   "source": [
    "p = pd.Period('2017',freq='A-DEC') # 1년단위\n",
    "p.asfreq('M', how='start') # 월단위 start일자로 바꿈\n",
    "p.asfreq('M', how='end') # 월단위 end일자로 바꿈\n",
    "p.asfreq('D', how='start') # 일단위 start일자로 바꿈\n",
    "p.asfreq('D', how='end') # 일단위 end일자로 바꿈\n",
    "p.asfreq('H', how='start') # 시간단위 start일자로 바꿈\n",
    "p.asfreq('H', how='end') # 시간단위 end일자로 바꿈"
   ]
  },
  {
   "cell_type": "code",
   "execution_count": 26,
   "metadata": {},
   "outputs": [
    {
     "data": {
      "text/plain": [
       "Period('2016-07', 'M')"
      ]
     },
     "execution_count": 26,
     "metadata": {},
     "output_type": "execute_result"
    },
    {
     "data": {
      "text/plain": [
       "Period('2017-06', 'M')"
      ]
     },
     "execution_count": 26,
     "metadata": {},
     "output_type": "execute_result"
    }
   ],
   "source": [
    "p = pd.Period('2017', freq='A-JUN') # JUN 1년단위!(2016-07~2017-06)\n",
    "p.asfreq('M', 'start')\n",
    "p.asfreq('M', 'end')"
   ]
  },
  {
   "cell_type": "markdown",
   "metadata": {},
   "source": [
    "- 하위단계기간 => 상위단계기간(큰 범위로)\n",
    "- 상위기간은 하위기간이 어디 속했는지에 따라 결정"
   ]
  },
  {
   "cell_type": "code",
   "execution_count": 30,
   "metadata": {},
   "outputs": [
    {
     "data": {
      "text/plain": [
       "Period('2007-08', 'M')"
      ]
     },
     "execution_count": 30,
     "metadata": {},
     "output_type": "execute_result"
    },
    {
     "data": {
      "text/plain": [
       "Period('2008', 'A-JUN')"
      ]
     },
     "execution_count": 30,
     "metadata": {},
     "output_type": "execute_result"
    }
   ],
   "source": [
    "p = pd.Period('Aug-2007', 'M');p\n",
    "p.asfreq('A-JUN') # JUN 7월1일부터 12월31일 : 2007-07~2008-06 기간에 속하므로!(2008년임)"
   ]
  },
  {
   "cell_type": "markdown",
   "metadata": {},
   "source": [
    "- PeriodIndex 객체 다루기"
   ]
  },
  {
   "cell_type": "code",
   "execution_count": 33,
   "metadata": {},
   "outputs": [
    {
     "data": {
      "text/plain": [
       "2006   -2.370232\n",
       "2007   -1.860761\n",
       "2008   -0.860757\n",
       "2009    0.560145\n",
       "Freq: A-DEC, dtype: float64"
      ]
     },
     "execution_count": 33,
     "metadata": {},
     "output_type": "execute_result"
    }
   ],
   "source": [
    "# start, end, period \n",
    "rng = pd.period_range('2006', '2009', freq='A-DEC') \n",
    "ts = Series(np.random.randn(len(rng)), index=rng)\n",
    "ts"
   ]
  },
  {
   "cell_type": "code",
   "execution_count": 35,
   "metadata": {},
   "outputs": [
    {
     "data": {
      "text/plain": [
       "2006-01   -2.370232\n",
       "2007-01   -1.860761\n",
       "2008-01   -0.860757\n",
       "2009-01    0.560145\n",
       "Freq: M, dtype: float64"
      ]
     },
     "execution_count": 35,
     "metadata": {},
     "output_type": "execute_result"
    }
   ],
   "source": [
    "# 년간데이터를 월간데이터로 변경\n",
    "ts.asfreq('M', how='start')"
   ]
  },
  {
   "cell_type": "code",
   "execution_count": 38,
   "metadata": {},
   "outputs": [
    {
     "data": {
      "text/plain": [
       "2006-01-02   -2.370232\n",
       "2007-01-01   -1.860761\n",
       "2008-01-01   -0.860757\n",
       "2009-01-01    0.560145\n",
       "Freq: B, dtype: float64"
      ]
     },
     "execution_count": 38,
     "metadata": {},
     "output_type": "execute_result"
    }
   ],
   "source": [
    "ts.asfreq('B', how='start') # 날짜까지 출력됨(비즈니스 데이)"
   ]
  },
  {
   "cell_type": "markdown",
   "metadata": {},
   "source": [
    "### 10.5.2: 분기빈도(Quarterly period frequencies)\n",
    "- 회계연도의 끝에 따라 의미가 달라짐.\n",
    "- 12가지의 분기빈도 : Q-JAN  ~ Q-DEC"
   ]
  },
  {
   "cell_type": "code",
   "execution_count": 8,
   "metadata": {},
   "outputs": [
    {
     "data": {
      "text/plain": [
       "Period('2017Q3', 'Q-DEC')"
      ]
     },
     "execution_count": 8,
     "metadata": {},
     "output_type": "execute_result"
    },
    {
     "data": {
      "text/plain": [
       "Period('2017Q3', 'Q-JAN')"
      ]
     },
     "execution_count": 8,
     "metadata": {},
     "output_type": "execute_result"
    }
   ],
   "source": [
    "p = pd.Period('2017Q3', freq='Q-DEC') # 3달치\n",
    "p\n",
    "p2 = pd.Period('2017Q3', freq='q-jan')\n",
    "p2"
   ]
  },
  {
   "cell_type": "code",
   "execution_count": 13,
   "metadata": {},
   "outputs": [
    {
     "data": {
      "text/plain": [
       "Period('2017-07-01', 'D')"
      ]
     },
     "execution_count": 13,
     "metadata": {},
     "output_type": "execute_result"
    },
    {
     "data": {
      "text/plain": [
       "Period('2016-08-01', 'D')"
      ]
     },
     "execution_count": 13,
     "metadata": {},
     "output_type": "execute_result"
    }
   ],
   "source": [
    "p.asfreq('D', 'start')\n",
    "p2.asfreq('D', 'S') # 's' (2016)FMA/MJJ/ASO/ND|J(2017) \n",
    "# 2017년 1월에 끝나는 분기 2016 2월부터 시작 3개월씩"
   ]
  },
  {
   "cell_type": "code",
   "execution_count": 16,
   "metadata": {},
   "outputs": [
    {
     "data": {
      "text/plain": [
       "Period('2017-09-30', 'D')"
      ]
     },
     "execution_count": 16,
     "metadata": {},
     "output_type": "execute_result"
    },
    {
     "data": {
      "text/plain": [
       "Period('2016-10-31', 'D')"
      ]
     },
     "execution_count": 16,
     "metadata": {},
     "output_type": "execute_result"
    }
   ],
   "source": [
    "p.asfreq('D','end')\n",
    "p2.asfreq('D','e') # 3분기 마지막날!(2016년 A|S|O<10월>)"
   ]
  },
  {
   "cell_type": "markdown",
   "metadata": {},
   "source": [
    "- 2017년 3분기영업 마감일 오후4시"
   ]
  },
  {
   "cell_type": "code",
   "execution_count": 22,
   "metadata": {},
   "outputs": [
    {
     "data": {
      "text/plain": [
       "Period('2017Q3', 'Q-DEC')"
      ]
     },
     "execution_count": 22,
     "metadata": {},
     "output_type": "execute_result"
    },
    {
     "data": {
      "text/plain": [
       "Period('2017-09-29', 'B')"
      ]
     },
     "execution_count": 22,
     "metadata": {},
     "output_type": "execute_result"
    },
    {
     "data": {
      "text/plain": [
       "Period('2017-09-28 00:00', 'T')"
      ]
     },
     "execution_count": 22,
     "metadata": {},
     "output_type": "execute_result"
    }
   ],
   "source": [
    "p\n",
    "p.asfreq('B','e') # 영업일 마지막 마감일\n",
    "(p.asfreq('B','e')-1).asfreq('T','s') # 분으로 변환(도메인-1)"
   ]
  },
  {
   "cell_type": "code",
   "execution_count": 35,
   "metadata": {},
   "outputs": [
    {
     "data": {
      "text/plain": [
       "Period('2017-09-28 16:00', 'T')"
      ]
     },
     "execution_count": 35,
     "metadata": {},
     "output_type": "execute_result"
    }
   ],
   "source": [
    "p4pm = (p.asfreq('B','e')-1).asfreq('T','s') + 16 * 60\n",
    "p4pm"
   ]
  },
  {
   "cell_type": "code",
   "execution_count": 37,
   "metadata": {},
   "outputs": [
    {
     "data": {
      "text/plain": [
       "Timestamp('2017-09-28 16:00:00')"
      ]
     },
     "execution_count": 37,
     "metadata": {},
     "output_type": "execute_result"
    }
   ],
   "source": [
    "p4pm.to_timestamp()"
   ]
  },
  {
   "cell_type": "markdown",
   "metadata": {},
   "source": [
    "- pandas.period_range()를 이용한 분기범위 만들기."
   ]
  },
  {
   "cell_type": "code",
   "execution_count": 41,
   "metadata": {},
   "outputs": [
    {
     "data": {
      "text/plain": [
       "PeriodIndex(['2016Q3', '2016Q4', '2017Q1', '2017Q2', '2017Q3', '2017Q4'], dtype='period[Q-JAN]', freq='Q-JAN')"
      ]
     },
     "execution_count": 41,
     "metadata": {},
     "output_type": "execute_result"
    },
    {
     "data": {
      "text/plain": [
       "2016Q3    0\n",
       "2016Q4    1\n",
       "2017Q1    2\n",
       "2017Q2    3\n",
       "2017Q3    4\n",
       "2017Q4    5\n",
       "Freq: Q-JAN, dtype: int32"
      ]
     },
     "execution_count": 41,
     "metadata": {},
     "output_type": "execute_result"
    }
   ],
   "source": [
    "rng = pd.period_range('2016Q3','2017Q4', freq='q-jan') # 분기 끝이 1월\n",
    "rng\n",
    "ts = Series(np.arange(len(rng)), index=rng)\n",
    "ts"
   ]
  },
  {
   "cell_type": "code",
   "execution_count": 46,
   "metadata": {},
   "outputs": [
    {
     "data": {
      "text/plain": [
       "PeriodIndex(['2015-10-29 16:00', '2016-01-28 16:00', '2016-04-28 16:00',\n",
       "             '2016-07-28 16:00', '2016-10-28 16:00', '2017-01-30 16:00'],\n",
       "            dtype='period[T]', freq='T')"
      ]
     },
     "execution_count": 46,
     "metadata": {},
     "output_type": "execute_result"
    },
    {
     "data": {
      "text/plain": [
       "2015-10-29 16:00:00    0\n",
       "2016-01-28 16:00:00    1\n",
       "2016-04-28 16:00:00    2\n",
       "2016-07-28 16:00:00    3\n",
       "2016-10-28 16:00:00    4\n",
       "2017-01-30 16:00:00    5\n",
       "dtype: int32"
      ]
     },
     "execution_count": 46,
     "metadata": {},
     "output_type": "execute_result"
    }
   ],
   "source": [
    "# new_rng = rng.asfreq('B','e').asfreq('T','s') + 16 * 60\n",
    "new_rng = (rng.asfreq('B','e')-1).asfreq('T','s') + 16 * 60\n",
    "new_rng\n",
    "ts.index = new_rng.to_timestamp()\n",
    "ts"
   ]
  },
  {
   "cell_type": "markdown",
   "metadata": {},
   "source": [
    "### 10.5.3: 타임스탬프와 기간 서로 변환하기(Converting Timestamps to Periods[and back])\n",
    "- Timestamp <-> Period\n",
    "- to_period() <-> to_timestamp()"
   ]
  },
  {
   "cell_type": "code",
   "execution_count": 50,
   "metadata": {},
   "outputs": [
    {
     "data": {
      "text/plain": [
       "DatetimeIndex(['2000-01-31', '2000-02-29', '2000-03-31'], dtype='datetime64[ns]', freq='M')"
      ]
     },
     "execution_count": 50,
     "metadata": {},
     "output_type": "execute_result"
    },
    {
     "data": {
      "text/plain": [
       "2000-01-31    0.092908\n",
       "2000-02-29    0.281746\n",
       "2000-03-31    0.769023\n",
       "Freq: M, dtype: float64"
      ]
     },
     "execution_count": 50,
     "metadata": {},
     "output_type": "execute_result"
    }
   ],
   "source": [
    "rng = pd.date_range('1/1/2000',periods=3, freq='M')\n",
    "rng\n",
    "ts = Series(randn(3), index=rng)\n",
    "ts"
   ]
  },
  {
   "cell_type": "code",
   "execution_count": 52,
   "metadata": {},
   "outputs": [
    {
     "data": {
      "text/plain": [
       "2000-01    0.092908\n",
       "2000-02    0.281746\n",
       "2000-03    0.769023\n",
       "Freq: M, dtype: float64"
      ]
     },
     "execution_count": 52,
     "metadata": {},
     "output_type": "execute_result"
    }
   ],
   "source": [
    "# to_period() 에 의해 변환되는 빈도(freq) 추정됨\n",
    "pts = ts.to_period()\n",
    "pts"
   ]
  },
  {
   "cell_type": "code",
   "execution_count": 55,
   "metadata": {},
   "outputs": [
    {
     "data": {
      "text/plain": [
       "DatetimeIndex(['2000-01-29', '2000-01-30', '2000-01-31', '2000-02-01',\n",
       "               '2000-02-02', '2000-02-03'],\n",
       "              dtype='datetime64[ns]', freq='D')"
      ]
     },
     "execution_count": 55,
     "metadata": {},
     "output_type": "execute_result"
    },
    {
     "data": {
      "text/plain": [
       "2000-01-29    0.886429\n",
       "2000-01-30   -2.001637\n",
       "2000-01-31   -0.371843\n",
       "2000-02-01    1.669025\n",
       "2000-02-02   -0.438570\n",
       "2000-02-03   -0.539741\n",
       "Freq: D, dtype: float64"
      ]
     },
     "execution_count": 55,
     "metadata": {},
     "output_type": "execute_result"
    }
   ],
   "source": [
    "# 빈도를 지정할 수 있음(중복된 인덱스가 나올수 있음)\n",
    "rng = pd.date_range('1/29/2000', periods=6, freq='D')\n",
    "rng\n",
    "ts2 = Series(randn(6), index=rng)\n",
    "ts2"
   ]
  },
  {
   "cell_type": "code",
   "execution_count": 57,
   "metadata": {},
   "outputs": [
    {
     "data": {
      "text/plain": [
       "2000-01    0.092908\n",
       "2000-02    0.281746\n",
       "2000-03    0.769023\n",
       "Freq: M, dtype: float64"
      ]
     },
     "execution_count": 57,
     "metadata": {},
     "output_type": "execute_result"
    },
    {
     "data": {
      "text/plain": [
       "2000-01-31    0.092908\n",
       "2000-02-29    0.281746\n",
       "2000-03-31    0.769023\n",
       "Freq: M, dtype: float64"
      ]
     },
     "execution_count": 57,
     "metadata": {},
     "output_type": "execute_result"
    }
   ],
   "source": [
    "pts\n",
    "pts.to_timestamp(how='end')"
   ]
  },
  {
   "cell_type": "code",
   "execution_count": 61,
   "metadata": {},
   "outputs": [
    {
     "data": {
      "text/plain": [
       "2000-01    0.886429\n",
       "2000-01   -2.001637\n",
       "2000-01   -0.371843\n",
       "2000-02    1.669025\n",
       "2000-02   -0.438570\n",
       "2000-02   -0.539741\n",
       "Freq: M, dtype: float64"
      ]
     },
     "execution_count": 61,
     "metadata": {},
     "output_type": "execute_result"
    },
    {
     "data": {
      "text/plain": [
       "2000-01-31    0.886429\n",
       "2000-01-31   -2.001637\n",
       "2000-01-31   -0.371843\n",
       "2000-02-29    1.669025\n",
       "2000-02-29   -0.438570\n",
       "2000-02-29   -0.539741\n",
       "dtype: float64"
      ]
     },
     "execution_count": 61,
     "metadata": {},
     "output_type": "execute_result"
    }
   ],
   "source": [
    "ts2.to_period('M')\n",
    "ts2.to_period('M').to_timestamp(how='end')"
   ]
  },
  {
   "cell_type": "markdown",
   "metadata": {},
   "source": [
    "### 10.5.4: 배열을 이용해 PeriodIndex 생성하기(Creating a PeriodIndex from arrays)\n",
    "- 미시경제학 연도와 분기."
   ]
  },
  {
   "cell_type": "code",
   "execution_count": 63,
   "metadata": {},
   "outputs": [
    {
     "data": {
      "text/plain": [
       "     year  quarter   realgdp  realcons  realinv  realgovt  realdpi    cpi  \\\n",
       "0  1959.0      1.0  2710.349    1707.4  286.898   470.045   1886.9  28.98   \n",
       "1  1959.0      2.0  2778.801    1733.7  310.859   481.301   1919.7  29.15   \n",
       "2  1959.0      3.0  2775.488    1751.8  289.226   491.260   1916.4  29.35   \n",
       "3  1959.0      4.0  2785.204    1753.7  299.356   484.052   1931.3  29.37   \n",
       "4  1960.0      1.0  2847.699    1770.5  331.722   462.199   1955.5  29.54   \n",
       "5  1960.0      2.0  2834.390    1792.9  298.152   460.400   1966.1  29.55   \n",
       "6  1960.0      3.0  2839.022    1785.8  296.375   474.676   1967.8  29.75   \n",
       "7  1960.0      4.0  2802.616    1788.2  259.764   476.434   1966.6  29.84   \n",
       "8  1961.0      1.0  2819.264    1787.7  266.405   475.854   1984.5  29.81   \n",
       "9  1961.0      2.0  2872.005    1814.3  286.246   480.328   2014.4  29.92   \n",
       "\n",
       "      m1  tbilrate  unemp      pop  infl  realint  \n",
       "0  139.7      2.82    5.8  177.146  0.00     0.00  \n",
       "1  141.7      3.08    5.1  177.830  2.34     0.74  \n",
       "2  140.5      3.82    5.3  178.657  2.74     1.09  \n",
       "3  140.0      4.33    5.6  179.386  0.27     4.06  \n",
       "4  139.6      3.50    5.2  180.007  2.31     1.19  \n",
       "5  140.2      2.68    5.2  180.671  0.14     2.55  \n",
       "6  140.9      2.36    5.6  181.528  2.70    -0.34  \n",
       "7  141.1      2.29    6.3  182.287  1.21     1.08  \n",
       "8  142.1      2.37    6.8  182.992 -0.40     2.77  \n",
       "9  142.9      2.29    7.0  183.691  1.47     0.81  "
      ]
     },
     "execution_count": 63,
     "metadata": {},
     "output_type": "execute_result"
    }
   ],
   "source": [
    "data = pd.read_csv('./ch08/macrodata.csv')\n",
    "data.head(10)"
   ]
  },
  {
   "cell_type": "code",
   "execution_count": 66,
   "metadata": {},
   "outputs": [
    {
     "data": {
      "text/plain": [
       "PeriodIndex(['1959Q1', '1959Q2', '1959Q3', '1959Q4', '1960Q1', '1960Q2',\n",
       "             '1960Q3', '1960Q4', '1961Q1', '1961Q2',\n",
       "             ...\n",
       "             '2007Q2', '2007Q3', '2007Q4', '2008Q1', '2008Q2', '2008Q3',\n",
       "             '2008Q4', '2009Q1', '2009Q2', '2009Q3'],\n",
       "            dtype='period[Q-DEC]', length=203, freq='Q-DEC')"
      ]
     },
     "execution_count": 66,
     "metadata": {},
     "output_type": "execute_result"
    }
   ],
   "source": [
    "index = pd.PeriodIndex(year=data.year, quarter=data.quarter, freq='Q-DEC')\n",
    "index"
   ]
  },
  {
   "cell_type": "code",
   "execution_count": 71,
   "metadata": {},
   "outputs": [
    {
     "data": {
      "text/plain": [
       "          year  quarter   realgdp  realcons  realinv  realgovt  realdpi  \\\n",
       "1959Q1  1959.0      1.0  2710.349    1707.4  286.898   470.045   1886.9   \n",
       "1959Q2  1959.0      2.0  2778.801    1733.7  310.859   481.301   1919.7   \n",
       "1959Q3  1959.0      3.0  2775.488    1751.8  289.226   491.260   1916.4   \n",
       "1959Q4  1959.0      4.0  2785.204    1753.7  299.356   484.052   1931.3   \n",
       "1960Q1  1960.0      1.0  2847.699    1770.5  331.722   462.199   1955.5   \n",
       "\n",
       "          cpi     m1  tbilrate  unemp      pop  infl  realint  \n",
       "1959Q1  28.98  139.7      2.82    5.8  177.146  0.00     0.00  \n",
       "1959Q2  29.15  141.7      3.08    5.1  177.830  2.34     0.74  \n",
       "1959Q3  29.35  140.5      3.82    5.3  178.657  2.74     1.09  \n",
       "1959Q4  29.37  140.0      4.33    5.6  179.386  0.27     4.06  \n",
       "1960Q1  29.54  139.6      3.50    5.2  180.007  2.31     1.19  "
      ]
     },
     "execution_count": 71,
     "metadata": {},
     "output_type": "execute_result"
    },
    {
     "data": {
      "text/plain": [
       "1959Q1    0.00\n",
       "1959Q2    2.34\n",
       "1959Q3    2.74\n",
       "1959Q4    0.27\n",
       "1960Q1    2.31\n",
       "1960Q2    0.14\n",
       "          ... \n",
       "2008Q2    8.53\n",
       "2008Q3   -3.16\n",
       "2008Q4   -8.79\n",
       "2009Q1    0.94\n",
       "2009Q2    3.37\n",
       "2009Q3    3.56\n",
       "Freq: Q-DEC, Name: infl, Length: 203, dtype: float64"
      ]
     },
     "execution_count": 71,
     "metadata": {},
     "output_type": "execute_result"
    }
   ],
   "source": [
    "data[:5]\n",
    "# PeriodIndex 에 빈도값과 함께 전달하여 dataframe에 인덱스로 전달.\n",
    "data.index = index # index를 시계열 데이터로 만듬.\n",
    "data.infl"
   ]
  },
  {
   "cell_type": "markdown",
   "metadata": {},
   "source": [
    "## 10.6: 리샘플링과 빈도변환(Resampling and Frequency Conversion)"
   ]
  },
  {
   "cell_type": "markdown",
   "metadata": {},
   "source": [
    "- Resampling : 시계열의 빈도를 변경하는 작업.\n",
    "    - Downsampling(다운샘플링): 상위빈도 > 하위빈도순을 집계.\n",
    "        - 표본을 천천히 뽑겠다.\n",
    "        - 그룹집계\n",
    "    - Upsampling(업샘플링) : 하위빈도 > 상위빈도 순으로 집계.\n",
    "        - 보간(interpolation)\n",
    "    - sidesampling(사이드샘플링) : 같은분기끼리 등.\n",
    "- Resampling Method\n",
    "    - Series.resample()\n",
    "    - DataFrame.resample()\n",
    "    - DataFrameGroupby.resample()"
   ]
  },
  {
   "cell_type": "code",
   "execution_count": 79,
   "metadata": {},
   "outputs": [
    {
     "data": {
      "text/plain": [
       "2000-01-01   -2.949343\n",
       "2000-01-02    0.634634\n",
       "2000-01-03    0.124157\n",
       "2000-01-04    1.297622\n",
       "2000-01-05   -1.686933\n",
       "2000-01-06    1.089539\n",
       "                ...   \n",
       "2000-04-04   -0.902148\n",
       "2000-04-05    0.752769\n",
       "2000-04-06   -0.490509\n",
       "2000-04-07   -0.524672\n",
       "2000-04-08   -0.699196\n",
       "2000-04-09    0.352361\n",
       "Freq: D, Length: 100, dtype: float64"
      ]
     },
     "execution_count": 79,
     "metadata": {},
     "output_type": "execute_result"
    },
    {
     "data": {
      "text/plain": [
       "2000-01-31   -0.065619\n",
       "2000-02-29    0.116391\n",
       "2000-03-31   -0.044008\n",
       "2000-04-30   -0.162582\n",
       "Freq: M, dtype: float64"
      ]
     },
     "execution_count": 79,
     "metadata": {},
     "output_type": "execute_result"
    }
   ],
   "source": [
    "rng = pd.date_range('1/1/2000',periods=100, freq='D')\n",
    "ts = Series(randn(len(rng)), index=rng)\n",
    "ts\n",
    "ts.resample('M').mean() # Groupby "
   ]
  },
  {
   "cell_type": "code",
   "execution_count": 84,
   "metadata": {},
   "outputs": [
    {
     "data": {
      "text/plain": [
       "2000-01   -0.065619\n",
       "2000-02    0.116391\n",
       "2000-03   -0.044008\n",
       "2000-04   -0.162582\n",
       "Freq: M, dtype: float64"
      ]
     },
     "execution_count": 84,
     "metadata": {},
     "output_type": "execute_result"
    }
   ],
   "source": [
    "# ts.resample('M',  how='mean', kind='period') # 예전방법.\n",
    "ts.resample('M', kind='period').mean() # 최근방법"
   ]
  },
  {
   "cell_type": "markdown",
   "metadata": {},
   "source": [
    "[resampleing 메서드 인자]\n",
    "- freq: 리샘플링 빈도 문자열 or DataOffset(ex. 'M','5min',Second(15))\n",
    "- how: mean, ohlc, np.max 같은 집계된 함수나 함수의 배열(default: mean)\n",
    "- fill_method=None : 업샘플링시 사용할 보간방법(ffill, bfill)\n",
    "- closed='right': 다운샘플링시 간격을 어느쪽 포함시킬지 판단('right','left')\n",
    "- label='right': 다운 샘플링시 집계된 결과의 라벨\n",
    "- loffset=None: s나뉜 그룹의 라벨에 맞추기 위한 오프셋 ('-1s/Second(-1): 집계된 라벨을 1초앞으로 당김)\n",
    "- limit=None : 보간법 이용시 보간을 적용할 최대기간.\n",
    "- kind : 기간('period') 혹은 timestamp 별로 집계할 것인지 구분.\n",
    "- convention=None : 기간을 리샘플링할대 하위 빈도 기간에서 상위 빈도로 변환할때의 방식(start, end[default])"
   ]
  },
  {
   "cell_type": "markdown",
   "metadata": {},
   "source": [
    "### 10.6.1: 다운샘플링(Downsampling)\n",
    "- 샘플링(표본추출) 비율을 낮추는 작업\n",
    "- 고려사항\n",
    "    - 간격의 양끝 중 포함시킬쪽 판단 : closed='right?left'\n",
    "    - 집계하려는 구간의 레이블 간격의 시작으로 할지 끝으로 할지 판단 : label    "
   ]
  },
  {
   "cell_type": "code",
   "execution_count": 86,
   "metadata": {},
   "outputs": [
    {
     "data": {
      "text/plain": [
       "2000-01-01 00:00:00     0\n",
       "2000-01-01 00:01:00     1\n",
       "2000-01-01 00:02:00     2\n",
       "2000-01-01 00:03:00     3\n",
       "2000-01-01 00:04:00     4\n",
       "2000-01-01 00:05:00     5\n",
       "2000-01-01 00:06:00     6\n",
       "2000-01-01 00:07:00     7\n",
       "2000-01-01 00:08:00     8\n",
       "2000-01-01 00:09:00     9\n",
       "2000-01-01 00:10:00    10\n",
       "2000-01-01 00:11:00    11\n",
       "Freq: T, dtype: int32"
      ]
     },
     "execution_count": 86,
     "metadata": {},
     "output_type": "execute_result"
    }
   ],
   "source": [
    "rng = pd.date_range('1/1/2000', periods=12, freq='T')\n",
    "ts = Series(np.arange(12), index=rng)\n",
    "ts"
   ]
  },
  {
   "cell_type": "code",
   "execution_count": 88,
   "metadata": {},
   "outputs": [
    {
     "data": {
      "text/plain": [
       "2000-01-01 00:00:00    10\n",
       "2000-01-01 00:05:00    35\n",
       "2000-01-01 00:10:00    21\n",
       "Freq: 5T, dtype: int32"
      ]
     },
     "execution_count": 88,
     "metadata": {},
     "output_type": "execute_result"
    }
   ],
   "source": [
    "ts.resample('5min').sum() # 1분을 5분단위로 00, 05를 포함할지 안할지 : 00~04까지"
   ]
  },
  {
   "cell_type": "code",
   "execution_count": 90,
   "metadata": {},
   "outputs": [
    {
     "data": {
      "text/plain": [
       "2000-01-01 00:00:00    10\n",
       "2000-01-01 00:05:00    35\n",
       "2000-01-01 00:10:00    21\n",
       "Freq: 5T, dtype: int32"
      ]
     },
     "execution_count": 90,
     "metadata": {},
     "output_type": "execute_result"
    }
   ],
   "source": [
    "# close 포함\n",
    "ts.resample('5min', closed='left').sum()"
   ]
  },
  {
   "cell_type": "code",
   "execution_count": 92,
   "metadata": {},
   "outputs": [
    {
     "data": {
      "text/plain": [
       "2000-01-01 00:00:00    10\n",
       "2000-01-01 00:05:00    35\n",
       "2000-01-01 00:10:00    21\n",
       "Freq: 5T, dtype: int32"
      ]
     },
     "execution_count": 92,
     "metadata": {},
     "output_type": "execute_result"
    },
    {
     "data": {
      "text/plain": [
       "1999-12-31 23:55:00     0\n",
       "2000-01-01 00:00:00    15\n",
       "2000-01-01 00:05:00    40\n",
       "2000-01-01 00:10:00    11\n",
       "Freq: 5T, dtype: int32"
      ]
     },
     "execution_count": 92,
     "metadata": {},
     "output_type": "execute_result"
    },
    {
     "data": {
      "text/plain": [
       "2000-01-01 00:00:00     0\n",
       "2000-01-01 00:05:00    15\n",
       "2000-01-01 00:10:00    40\n",
       "2000-01-01 00:15:00    11\n",
       "Freq: 5T, dtype: int32"
      ]
     },
     "execution_count": 92,
     "metadata": {},
     "output_type": "execute_result"
    }
   ],
   "source": [
    "ts.resample('5min', closed='left', label='left').sum()\n",
    "ts.resample('5min', closed='right', label='left').sum()\n",
    "ts.resample('5min', closed='right', label='right').sum()"
   ]
  },
  {
   "cell_type": "code",
   "execution_count": 94,
   "metadata": {},
   "outputs": [
    {
     "data": {
      "text/plain": [
       "1999-12-31 23:59:59    10\n",
       "2000-01-01 00:04:59    35\n",
       "2000-01-01 00:09:59    21\n",
       "Freq: 5T, dtype: int32"
      ]
     },
     "execution_count": 94,
     "metadata": {},
     "output_type": "execute_result"
    }
   ],
   "source": [
    "# label offset\n",
    "ts.resample('5min', loffset='-1s').sum()"
   ]
  },
  {
   "cell_type": "markdown",
   "metadata": {},
   "source": [
    "#### OHLC(Open-High-Low-Close) 리샘플링\n",
    "- 시가-고가-저가-종가"
   ]
  },
  {
   "cell_type": "code",
   "execution_count": 96,
   "metadata": {},
   "outputs": [
    {
     "data": {
      "text/plain": [
       "                     open  high  low  close\n",
       "2000-01-01 00:00:00     0     4    0      4\n",
       "2000-01-01 00:05:00     5     9    5      9\n",
       "2000-01-01 00:10:00    10    11   10     11"
      ]
     },
     "execution_count": 96,
     "metadata": {},
     "output_type": "execute_result"
    }
   ],
   "source": [
    "#ts.resample('5min', how='ohlc')\n",
    "# note: output changed because of changed defaults\n",
    "ts.resample('5min').ohlc()"
   ]
  },
  {
   "cell_type": "markdown",
   "metadata": {},
   "source": [
    "#### GroupBy를 사용한 리샘플링\n",
    "- groupby의 lambda함수는 index를 연산함."
   ]
  },
  {
   "cell_type": "code",
   "execution_count": 100,
   "metadata": {},
   "outputs": [
    {
     "data": {
      "text/plain": [
       "2000-01-01     0\n",
       "2000-01-02     1\n",
       "2000-01-03     2\n",
       "2000-01-04     3\n",
       "2000-01-05     4\n",
       "2000-01-06     5\n",
       "              ..\n",
       "2000-04-04    94\n",
       "2000-04-05    95\n",
       "2000-04-06    96\n",
       "2000-04-07    97\n",
       "2000-04-08    98\n",
       "2000-04-09    99\n",
       "Freq: D, Length: 100, dtype: int32"
      ]
     },
     "execution_count": 100,
     "metadata": {},
     "output_type": "execute_result"
    },
    {
     "data": {
      "text/plain": [
       "1    15\n",
       "2    45\n",
       "3    75\n",
       "4    95\n",
       "dtype: int32"
      ]
     },
     "execution_count": 100,
     "metadata": {},
     "output_type": "execute_result"
    },
    {
     "data": {
      "text/plain": [
       "2000-01-31    15\n",
       "2000-02-29    45\n",
       "2000-03-31    75\n",
       "2000-04-30    95\n",
       "Freq: M, dtype: int32"
      ]
     },
     "execution_count": 100,
     "metadata": {},
     "output_type": "execute_result"
    }
   ],
   "source": [
    "rng = pd.date_range('1/1/2000', periods=100, freq='D')\n",
    "ts = Series(np.arange(100), index=rng)\n",
    "ts\n",
    "ts.groupby(lambda x:x.month).mean()\n",
    "ts.resample('M').mean()"
   ]
  },
  {
   "cell_type": "code",
   "execution_count": 111,
   "metadata": {},
   "outputs": [
    {
     "data": {
      "text/plain": [
       "0    47.5\n",
       "1    48.5\n",
       "2    49.5\n",
       "3    50.5\n",
       "4    51.5\n",
       "5    49.0\n",
       "6    50.0\n",
       "dtype: float64"
      ]
     },
     "execution_count": 111,
     "metadata": {},
     "output_type": "execute_result"
    },
    {
     "data": {
      "text/plain": [
       "2000-01-02     0.5\n",
       "2000-01-09     5.0\n",
       "2000-01-16    12.0\n",
       "2000-01-23    19.0\n",
       "2000-01-30    26.0\n",
       "2000-02-06    33.0\n",
       "              ... \n",
       "2000-03-05    61.0\n",
       "2000-03-12    68.0\n",
       "2000-03-19    75.0\n",
       "2000-03-26    82.0\n",
       "2000-04-02    89.0\n",
       "2000-04-09    96.0\n",
       "Freq: W-SUN, Length: 15, dtype: float64"
      ]
     },
     "execution_count": 111,
     "metadata": {},
     "output_type": "execute_result"
    }
   ],
   "source": [
    "ts.groupby(lambda x: x.weekday).mean()\n",
    "ts.resample('W').mean()"
   ]
  },
  {
   "cell_type": "markdown",
   "metadata": {},
   "source": [
    "### 10.6.2: 업샘플링과 보간(Upsampling and interpolation)"
   ]
  },
  {
   "cell_type": "code",
   "execution_count": 148,
   "metadata": {},
   "outputs": [
    {
     "data": {
      "text/plain": [
       "            Colorado     Texas  New York      Ohio\n",
       "2017-09-06 -0.204708  0.478943 -0.519439 -0.555730\n",
       "2017-09-13  1.965781  1.393406  0.092908  0.281746"
      ]
     },
     "execution_count": 148,
     "metadata": {},
     "output_type": "execute_result"
    }
   ],
   "source": [
    "frame = DataFrame(np.random.randn(2, 4),\n",
    "                  index=pd.date_range('9/1/2017', periods=2, freq='W-WED'),\n",
    "                  columns=['Colorado', 'Texas', 'New York', 'Ohio'])\n",
    "frame"
   ]
  },
  {
   "cell_type": "code",
   "execution_count": 149,
   "metadata": {},
   "outputs": [
    {
     "data": {
      "text/html": [
       "<style  type=\"text/css\" >\n",
       "</style>  \n",
       "<table id=\"T_96643138_f2c2_11e7_bfbc_24f5aad8bc28\" > \n",
       "<thead>    <tr> \n",
       "        <th class=\"blank level0\" ></th> \n",
       "        <th class=\"col_heading level0 col0\" >Colorado</th> \n",
       "        <th class=\"col_heading level0 col1\" >Texas</th> \n",
       "        <th class=\"col_heading level0 col2\" >New York</th> \n",
       "        <th class=\"col_heading level0 col3\" >Ohio</th> \n",
       "    </tr></thead> \n",
       "<tbody>    <tr> \n",
       "        <th id=\"T_96643138_f2c2_11e7_bfbc_24f5aad8bc28level0_row0\" class=\"row_heading level0 row0\" >2017-09-06 00:00:00</th> \n",
       "        <td id=\"T_96643138_f2c2_11e7_bfbc_24f5aad8bc28row0_col0\" class=\"data row0 col0\" >-0.204708</td> \n",
       "        <td id=\"T_96643138_f2c2_11e7_bfbc_24f5aad8bc28row0_col1\" class=\"data row0 col1\" >0.478943</td> \n",
       "        <td id=\"T_96643138_f2c2_11e7_bfbc_24f5aad8bc28row0_col2\" class=\"data row0 col2\" >-0.519439</td> \n",
       "        <td id=\"T_96643138_f2c2_11e7_bfbc_24f5aad8bc28row0_col3\" class=\"data row0 col3\" >-0.55573</td> \n",
       "    </tr>    <tr> \n",
       "        <th id=\"T_96643138_f2c2_11e7_bfbc_24f5aad8bc28level0_row1\" class=\"row_heading level0 row1\" >2017-09-13 00:00:00</th> \n",
       "        <td id=\"T_96643138_f2c2_11e7_bfbc_24f5aad8bc28row1_col0\" class=\"data row1 col0\" >1.96578</td> \n",
       "        <td id=\"T_96643138_f2c2_11e7_bfbc_24f5aad8bc28row1_col1\" class=\"data row1 col1\" >1.39341</td> \n",
       "        <td id=\"T_96643138_f2c2_11e7_bfbc_24f5aad8bc28row1_col2\" class=\"data row1 col2\" >0.0929079</td> \n",
       "        <td id=\"T_96643138_f2c2_11e7_bfbc_24f5aad8bc28row1_col3\" class=\"data row1 col3\" >0.281746</td> \n",
       "    </tr></tbody> \n",
       "</table> "
      ],
      "text/plain": [
       "<pandas.io.formats.style.Styler at 0x29cb8e83438>"
      ]
     },
     "execution_count": 149,
     "metadata": {},
     "output_type": "execute_result"
    }
   ],
   "source": [
    "frame.style"
   ]
  },
  {
   "cell_type": "code",
   "execution_count": 150,
   "metadata": {},
   "outputs": [
    {
     "data": {
      "text/plain": [
       "            Colorado     Texas  New York      Ohio\n",
       "2017-09-06 -0.204708  0.478943 -0.519439 -0.555730\n",
       "2017-09-07       NaN       NaN       NaN       NaN\n",
       "2017-09-08       NaN       NaN       NaN       NaN\n",
       "2017-09-09       NaN       NaN       NaN       NaN\n",
       "2017-09-10       NaN       NaN       NaN       NaN\n",
       "2017-09-11       NaN       NaN       NaN       NaN\n",
       "2017-09-12       NaN       NaN       NaN       NaN\n",
       "2017-09-13  1.965781  1.393406  0.092908  0.281746"
      ]
     },
     "execution_count": 150,
     "metadata": {},
     "output_type": "execute_result"
    }
   ],
   "source": [
    "# 누락값 발생 (주간을 일간으로 바꿀때)\n",
    "df_daily = frame.resample('D').asfreq()\n",
    "df_daily"
   ]
  },
  {
   "cell_type": "markdown",
   "metadata": {},
   "source": [
    "- 보간\n",
    "    - ffill() 이전값으로 채우기.\n",
    "    - bfill() 이후값으로 채우기."
   ]
  },
  {
   "cell_type": "code",
   "execution_count": 144,
   "metadata": {},
   "outputs": [
    {
     "data": {
      "text/plain": [
       "            Colorado     Texas  New York      Ohio\n",
       "2017-09-06  0.769023  1.246435  1.007189 -1.296221\n",
       "2017-09-07  0.769023  1.246435  1.007189 -1.296221\n",
       "2017-09-08  0.769023  1.246435  1.007189 -1.296221\n",
       "2017-09-09  0.769023  1.246435  1.007189 -1.296221\n",
       "2017-09-10  0.769023  1.246435  1.007189 -1.296221\n",
       "2017-09-11  0.769023  1.246435  1.007189 -1.296221\n",
       "2017-09-12  0.769023  1.246435  1.007189 -1.296221\n",
       "2017-09-13  0.274992  0.228913  1.352917  0.886429"
      ]
     },
     "execution_count": 144,
     "metadata": {},
     "output_type": "execute_result"
    }
   ],
   "source": [
    "# 보간 :NAN 값 채우기.\n",
    "frame.resample('D').ffill()"
   ]
  },
  {
   "cell_type": "code",
   "execution_count": 152,
   "metadata": {},
   "outputs": [
    {
     "data": {
      "text/plain": [
       "            Colorado     Texas  New York      Ohio\n",
       "2017-09-06 -0.204708  0.478943 -0.519439 -0.555730\n",
       "2017-09-07 -0.204708  0.478943 -0.519439 -0.555730\n",
       "2017-09-08 -0.204708  0.478943 -0.519439 -0.555730\n",
       "2017-09-09 -0.204708  0.478943 -0.519439 -0.555730\n",
       "2017-09-10 -0.204708  0.478943 -0.519439 -0.555730\n",
       "2017-09-11 -0.204708  0.478943 -0.519439 -0.555730\n",
       "2017-09-12 -0.204708  0.478943 -0.519439 -0.555730\n",
       "2017-09-13  1.965781  1.393406  0.092908  0.281746"
      ]
     },
     "execution_count": 152,
     "metadata": {},
     "output_type": "execute_result"
    }
   ],
   "source": [
    "frame.resample('D', limit=2).ffill()"
   ]
  },
  {
   "cell_type": "code",
   "execution_count": 154,
   "metadata": {},
   "outputs": [
    {
     "data": {
      "text/plain": [
       "            Colorado  Texas  New York  Ohio\n",
       "2017-09-07       NaN    NaN       NaN   NaN\n",
       "2017-09-14       NaN    NaN       NaN   NaN"
      ]
     },
     "execution_count": 154,
     "metadata": {},
     "output_type": "execute_result"
    },
    {
     "data": {
      "text/plain": [
       "            Colorado     Texas  New York      Ohio\n",
       "2017-09-07 -0.204708  0.478943 -0.519439 -0.555730\n",
       "2017-09-14  1.965781  1.393406  0.092908  0.281746"
      ]
     },
     "execution_count": 154,
     "metadata": {},
     "output_type": "execute_result"
    },
    {
     "data": {
      "text/plain": [
       "            Colorado     Texas  New York      Ohio\n",
       "2017-09-07  1.965781  1.393406  0.092908  0.281746\n",
       "2017-09-14       NaN       NaN       NaN       NaN"
      ]
     },
     "execution_count": 154,
     "metadata": {},
     "output_type": "execute_result"
    }
   ],
   "source": [
    "frame.resample('W-THU').asfreq()\n",
    "frame.resample('W-THU').ffill()\n",
    "frame.resample('W-THU').bfill()"
   ]
  },
  {
   "cell_type": "markdown",
   "metadata": {},
   "source": [
    "### 10.6.3: 기간 리샘플링(Resampling with periods)"
   ]
  },
  {
   "cell_type": "code",
   "execution_count": 158,
   "metadata": {},
   "outputs": [
    {
     "data": {
      "text/plain": [
       "         Colorado     Texas  New York      Ohio\n",
       "2000-01  1.349726  1.350300 -0.386653  0.865990\n",
       "2000-02  1.747234 -1.410246 -0.378242 -0.345821\n",
       "2000-03  0.380062  0.188995  1.323298 -2.264589\n",
       "2000-04 -0.914979 -0.478964  1.047184  0.923948\n",
       "2000-05 -0.114150  0.405802  0.288452 -0.434788"
      ]
     },
     "execution_count": 158,
     "metadata": {},
     "output_type": "execute_result"
    },
    {
     "data": {
      "text/html": [
       "<style  type=\"text/css\" >\n",
       "</style>  \n",
       "<table id=\"T_8bc26668_f2c3_11e7_8175_24f5aad8bc28\" > \n",
       "<thead>    <tr> \n",
       "        <th class=\"blank level0\" ></th> \n",
       "        <th class=\"col_heading level0 col0\" >Colorado</th> \n",
       "        <th class=\"col_heading level0 col1\" >Texas</th> \n",
       "        <th class=\"col_heading level0 col2\" >New York</th> \n",
       "        <th class=\"col_heading level0 col3\" >Ohio</th> \n",
       "    </tr></thead> \n",
       "<tbody>    <tr> \n",
       "        <th id=\"T_8bc26668_f2c3_11e7_8175_24f5aad8bc28level0_row0\" class=\"row_heading level0 row0\" >2000-01</th> \n",
       "        <td id=\"T_8bc26668_f2c3_11e7_8175_24f5aad8bc28row0_col0\" class=\"data row0 col0\" >1.34973</td> \n",
       "        <td id=\"T_8bc26668_f2c3_11e7_8175_24f5aad8bc28row0_col1\" class=\"data row0 col1\" >1.3503</td> \n",
       "        <td id=\"T_8bc26668_f2c3_11e7_8175_24f5aad8bc28row0_col2\" class=\"data row0 col2\" >-0.386653</td> \n",
       "        <td id=\"T_8bc26668_f2c3_11e7_8175_24f5aad8bc28row0_col3\" class=\"data row0 col3\" >0.86599</td> \n",
       "    </tr>    <tr> \n",
       "        <th id=\"T_8bc26668_f2c3_11e7_8175_24f5aad8bc28level0_row1\" class=\"row_heading level0 row1\" >2000-02</th> \n",
       "        <td id=\"T_8bc26668_f2c3_11e7_8175_24f5aad8bc28row1_col0\" class=\"data row1 col0\" >1.74723</td> \n",
       "        <td id=\"T_8bc26668_f2c3_11e7_8175_24f5aad8bc28row1_col1\" class=\"data row1 col1\" >-1.41025</td> \n",
       "        <td id=\"T_8bc26668_f2c3_11e7_8175_24f5aad8bc28row1_col2\" class=\"data row1 col2\" >-0.378242</td> \n",
       "        <td id=\"T_8bc26668_f2c3_11e7_8175_24f5aad8bc28row1_col3\" class=\"data row1 col3\" >-0.345821</td> \n",
       "    </tr>    <tr> \n",
       "        <th id=\"T_8bc26668_f2c3_11e7_8175_24f5aad8bc28level0_row2\" class=\"row_heading level0 row2\" >2000-03</th> \n",
       "        <td id=\"T_8bc26668_f2c3_11e7_8175_24f5aad8bc28row2_col0\" class=\"data row2 col0\" >0.380062</td> \n",
       "        <td id=\"T_8bc26668_f2c3_11e7_8175_24f5aad8bc28row2_col1\" class=\"data row2 col1\" >0.188995</td> \n",
       "        <td id=\"T_8bc26668_f2c3_11e7_8175_24f5aad8bc28row2_col2\" class=\"data row2 col2\" >1.3233</td> \n",
       "        <td id=\"T_8bc26668_f2c3_11e7_8175_24f5aad8bc28row2_col3\" class=\"data row2 col3\" >-2.26459</td> \n",
       "    </tr>    <tr> \n",
       "        <th id=\"T_8bc26668_f2c3_11e7_8175_24f5aad8bc28level0_row3\" class=\"row_heading level0 row3\" >2000-04</th> \n",
       "        <td id=\"T_8bc26668_f2c3_11e7_8175_24f5aad8bc28row3_col0\" class=\"data row3 col0\" >-0.914979</td> \n",
       "        <td id=\"T_8bc26668_f2c3_11e7_8175_24f5aad8bc28row3_col1\" class=\"data row3 col1\" >-0.478964</td> \n",
       "        <td id=\"T_8bc26668_f2c3_11e7_8175_24f5aad8bc28row3_col2\" class=\"data row3 col2\" >1.04718</td> \n",
       "        <td id=\"T_8bc26668_f2c3_11e7_8175_24f5aad8bc28row3_col3\" class=\"data row3 col3\" >0.923948</td> \n",
       "    </tr>    <tr> \n",
       "        <th id=\"T_8bc26668_f2c3_11e7_8175_24f5aad8bc28level0_row4\" class=\"row_heading level0 row4\" >2000-05</th> \n",
       "        <td id=\"T_8bc26668_f2c3_11e7_8175_24f5aad8bc28row4_col0\" class=\"data row4 col0\" >-0.11415</td> \n",
       "        <td id=\"T_8bc26668_f2c3_11e7_8175_24f5aad8bc28row4_col1\" class=\"data row4 col1\" >0.405802</td> \n",
       "        <td id=\"T_8bc26668_f2c3_11e7_8175_24f5aad8bc28row4_col2\" class=\"data row4 col2\" >0.288452</td> \n",
       "        <td id=\"T_8bc26668_f2c3_11e7_8175_24f5aad8bc28row4_col3\" class=\"data row4 col3\" >-0.434788</td> \n",
       "    </tr>    <tr> \n",
       "        <th id=\"T_8bc26668_f2c3_11e7_8175_24f5aad8bc28level0_row5\" class=\"row_heading level0 row5\" >2000-06</th> \n",
       "        <td id=\"T_8bc26668_f2c3_11e7_8175_24f5aad8bc28row5_col0\" class=\"data row5 col0\" >0.358756</td> \n",
       "        <td id=\"T_8bc26668_f2c3_11e7_8175_24f5aad8bc28row5_col1\" class=\"data row5 col1\" >-0.388245</td> \n",
       "        <td id=\"T_8bc26668_f2c3_11e7_8175_24f5aad8bc28row5_col2\" class=\"data row5 col2\" >2.12875</td> \n",
       "        <td id=\"T_8bc26668_f2c3_11e7_8175_24f5aad8bc28row5_col3\" class=\"data row5 col3\" >1.4096</td> \n",
       "    </tr>    <tr> \n",
       "        <th id=\"T_8bc26668_f2c3_11e7_8175_24f5aad8bc28level0_row6\" class=\"row_heading level0 row6\" >2000-07</th> \n",
       "        <td id=\"T_8bc26668_f2c3_11e7_8175_24f5aad8bc28row6_col0\" class=\"data row6 col0\" >-0.105434</td> \n",
       "        <td id=\"T_8bc26668_f2c3_11e7_8175_24f5aad8bc28row6_col1\" class=\"data row6 col1\" >0.700428</td> \n",
       "        <td id=\"T_8bc26668_f2c3_11e7_8175_24f5aad8bc28row6_col2\" class=\"data row6 col2\" >2.09285</td> \n",
       "        <td id=\"T_8bc26668_f2c3_11e7_8175_24f5aad8bc28row6_col3\" class=\"data row6 col3\" >-0.136972</td> \n",
       "    </tr>    <tr> \n",
       "        <th id=\"T_8bc26668_f2c3_11e7_8175_24f5aad8bc28level0_row7\" class=\"row_heading level0 row7\" >2000-08</th> \n",
       "        <td id=\"T_8bc26668_f2c3_11e7_8175_24f5aad8bc28row7_col0\" class=\"data row7 col0\" >-0.930489</td> \n",
       "        <td id=\"T_8bc26668_f2c3_11e7_8175_24f5aad8bc28row7_col1\" class=\"data row7 col1\" >0.327497</td> \n",
       "        <td id=\"T_8bc26668_f2c3_11e7_8175_24f5aad8bc28row7_col2\" class=\"data row7 col2\" >1.30301</td> \n",
       "        <td id=\"T_8bc26668_f2c3_11e7_8175_24f5aad8bc28row7_col3\" class=\"data row7 col3\" >-1.4094</td> \n",
       "    </tr>    <tr> \n",
       "        <th id=\"T_8bc26668_f2c3_11e7_8175_24f5aad8bc28level0_row8\" class=\"row_heading level0 row8\" >2000-09</th> \n",
       "        <td id=\"T_8bc26668_f2c3_11e7_8175_24f5aad8bc28row8_col0\" class=\"data row8 col0\" >-0.144126</td> \n",
       "        <td id=\"T_8bc26668_f2c3_11e7_8175_24f5aad8bc28row8_col1\" class=\"data row8 col1\" >-0.716414</td> \n",
       "        <td id=\"T_8bc26668_f2c3_11e7_8175_24f5aad8bc28row8_col2\" class=\"data row8 col2\" >0.103614</td> \n",
       "        <td id=\"T_8bc26668_f2c3_11e7_8175_24f5aad8bc28row8_col3\" class=\"data row8 col3\" >-1.49572</td> \n",
       "    </tr>    <tr> \n",
       "        <th id=\"T_8bc26668_f2c3_11e7_8175_24f5aad8bc28level0_row9\" class=\"row_heading level0 row9\" >2000-10</th> \n",
       "        <td id=\"T_8bc26668_f2c3_11e7_8175_24f5aad8bc28row9_col0\" class=\"data row9 col0\" >-1.17489</td> \n",
       "        <td id=\"T_8bc26668_f2c3_11e7_8175_24f5aad8bc28row9_col1\" class=\"data row9 col1\" >2.614</td> \n",
       "        <td id=\"T_8bc26668_f2c3_11e7_8175_24f5aad8bc28row9_col2\" class=\"data row9 col2\" >-0.689307</td> \n",
       "        <td id=\"T_8bc26668_f2c3_11e7_8175_24f5aad8bc28row9_col3\" class=\"data row9 col3\" >-0.751653</td> \n",
       "    </tr>    <tr> \n",
       "        <th id=\"T_8bc26668_f2c3_11e7_8175_24f5aad8bc28level0_row10\" class=\"row_heading level0 row10\" >2000-11</th> \n",
       "        <td id=\"T_8bc26668_f2c3_11e7_8175_24f5aad8bc28row10_col0\" class=\"data row10 col0\" >0.636281</td> \n",
       "        <td id=\"T_8bc26668_f2c3_11e7_8175_24f5aad8bc28row10_col1\" class=\"data row10 col1\" >-1.15764</td> \n",
       "        <td id=\"T_8bc26668_f2c3_11e7_8175_24f5aad8bc28row10_col2\" class=\"data row10 col2\" >0.61468</td> \n",
       "        <td id=\"T_8bc26668_f2c3_11e7_8175_24f5aad8bc28row10_col3\" class=\"data row10 col3\" >1.02139</td> \n",
       "    </tr>    <tr> \n",
       "        <th id=\"T_8bc26668_f2c3_11e7_8175_24f5aad8bc28level0_row11\" class=\"row_heading level0 row11\" >2000-12</th> \n",
       "        <td id=\"T_8bc26668_f2c3_11e7_8175_24f5aad8bc28row11_col0\" class=\"data row11 col0\" >0.668272</td> \n",
       "        <td id=\"T_8bc26668_f2c3_11e7_8175_24f5aad8bc28row11_col1\" class=\"data row11 col1\" >-0.809535</td> \n",
       "        <td id=\"T_8bc26668_f2c3_11e7_8175_24f5aad8bc28row11_col2\" class=\"data row11 col2\" >-0.908125</td> \n",
       "        <td id=\"T_8bc26668_f2c3_11e7_8175_24f5aad8bc28row11_col3\" class=\"data row11 col3\" >1.51229</td> \n",
       "    </tr>    <tr> \n",
       "        <th id=\"T_8bc26668_f2c3_11e7_8175_24f5aad8bc28level0_row12\" class=\"row_heading level0 row12\" >2001-01</th> \n",
       "        <td id=\"T_8bc26668_f2c3_11e7_8175_24f5aad8bc28row12_col0\" class=\"data row12 col0\" >0.0951174</td> \n",
       "        <td id=\"T_8bc26668_f2c3_11e7_8175_24f5aad8bc28row12_col1\" class=\"data row12 col1\" >1.18467</td> \n",
       "        <td id=\"T_8bc26668_f2c3_11e7_8175_24f5aad8bc28row12_col2\" class=\"data row12 col2\" >0.637033</td> \n",
       "        <td id=\"T_8bc26668_f2c3_11e7_8175_24f5aad8bc28row12_col3\" class=\"data row12 col3\" >-0.539275</td> \n",
       "    </tr>    <tr> \n",
       "        <th id=\"T_8bc26668_f2c3_11e7_8175_24f5aad8bc28level0_row13\" class=\"row_heading level0 row13\" >2001-02</th> \n",
       "        <td id=\"T_8bc26668_f2c3_11e7_8175_24f5aad8bc28row13_col0\" class=\"data row13 col0\" >-0.055101</td> \n",
       "        <td id=\"T_8bc26668_f2c3_11e7_8175_24f5aad8bc28row13_col1\" class=\"data row13 col1\" >-1.13593</td> \n",
       "        <td id=\"T_8bc26668_f2c3_11e7_8175_24f5aad8bc28row13_col2\" class=\"data row13 col2\" >-0.170506</td> \n",
       "        <td id=\"T_8bc26668_f2c3_11e7_8175_24f5aad8bc28row13_col3\" class=\"data row13 col3\" >-1.15809</td> \n",
       "    </tr>    <tr> \n",
       "        <th id=\"T_8bc26668_f2c3_11e7_8175_24f5aad8bc28level0_row14\" class=\"row_heading level0 row14\" >2001-03</th> \n",
       "        <td id=\"T_8bc26668_f2c3_11e7_8175_24f5aad8bc28row14_col0\" class=\"data row14 col0\" >1.1046</td> \n",
       "        <td id=\"T_8bc26668_f2c3_11e7_8175_24f5aad8bc28row14_col1\" class=\"data row14 col1\" >0.634238</td> \n",
       "        <td id=\"T_8bc26668_f2c3_11e7_8175_24f5aad8bc28row14_col2\" class=\"data row14 col2\" >1.25968</td> \n",
       "        <td id=\"T_8bc26668_f2c3_11e7_8175_24f5aad8bc28row14_col3\" class=\"data row14 col3\" >0.964931</td> \n",
       "    </tr>    <tr> \n",
       "        <th id=\"T_8bc26668_f2c3_11e7_8175_24f5aad8bc28level0_row15\" class=\"row_heading level0 row15\" >2001-04</th> \n",
       "        <td id=\"T_8bc26668_f2c3_11e7_8175_24f5aad8bc28row15_col0\" class=\"data row15 col0\" >-0.434446</td> \n",
       "        <td id=\"T_8bc26668_f2c3_11e7_8175_24f5aad8bc28row15_col1\" class=\"data row15 col1\" >-0.879603</td> \n",
       "        <td id=\"T_8bc26668_f2c3_11e7_8175_24f5aad8bc28row15_col2\" class=\"data row15 col2\" >-0.694838</td> \n",
       "        <td id=\"T_8bc26668_f2c3_11e7_8175_24f5aad8bc28row15_col3\" class=\"data row15 col3\" >1.22637</td> \n",
       "    </tr>    <tr> \n",
       "        <th id=\"T_8bc26668_f2c3_11e7_8175_24f5aad8bc28level0_row16\" class=\"row_heading level0 row16\" >2001-05</th> \n",
       "        <td id=\"T_8bc26668_f2c3_11e7_8175_24f5aad8bc28row16_col0\" class=\"data row16 col0\" >0.457279</td> \n",
       "        <td id=\"T_8bc26668_f2c3_11e7_8175_24f5aad8bc28row16_col1\" class=\"data row16 col1\" >0.115699</td> \n",
       "        <td id=\"T_8bc26668_f2c3_11e7_8175_24f5aad8bc28row16_col2\" class=\"data row16 col2\" >1.01404</td> \n",
       "        <td id=\"T_8bc26668_f2c3_11e7_8175_24f5aad8bc28row16_col3\" class=\"data row16 col3\" >-1.13501</td> \n",
       "    </tr>    <tr> \n",
       "        <th id=\"T_8bc26668_f2c3_11e7_8175_24f5aad8bc28level0_row17\" class=\"row_heading level0 row17\" >2001-06</th> \n",
       "        <td id=\"T_8bc26668_f2c3_11e7_8175_24f5aad8bc28row17_col0\" class=\"data row17 col0\" >-0.263371</td> \n",
       "        <td id=\"T_8bc26668_f2c3_11e7_8175_24f5aad8bc28row17_col1\" class=\"data row17 col1\" >1.30643</td> \n",
       "        <td id=\"T_8bc26668_f2c3_11e7_8175_24f5aad8bc28row17_col2\" class=\"data row17 col2\" >-1.61084</td> \n",
       "        <td id=\"T_8bc26668_f2c3_11e7_8175_24f5aad8bc28row17_col3\" class=\"data row17 col3\" >-1.02662</td> \n",
       "    </tr>    <tr> \n",
       "        <th id=\"T_8bc26668_f2c3_11e7_8175_24f5aad8bc28level0_row18\" class=\"row_heading level0 row18\" >2001-07</th> \n",
       "        <td id=\"T_8bc26668_f2c3_11e7_8175_24f5aad8bc28row18_col0\" class=\"data row18 col0\" >1.24157</td> \n",
       "        <td id=\"T_8bc26668_f2c3_11e7_8175_24f5aad8bc28row18_col1\" class=\"data row18 col1\" >-0.15676</td> \n",
       "        <td id=\"T_8bc26668_f2c3_11e7_8175_24f5aad8bc28row18_col2\" class=\"data row18 col2\" >-2.4491</td> \n",
       "        <td id=\"T_8bc26668_f2c3_11e7_8175_24f5aad8bc28row18_col3\" class=\"data row18 col3\" >-1.03395</td> \n",
       "    </tr>    <tr> \n",
       "        <th id=\"T_8bc26668_f2c3_11e7_8175_24f5aad8bc28level0_row19\" class=\"row_heading level0 row19\" >2001-08</th> \n",
       "        <td id=\"T_8bc26668_f2c3_11e7_8175_24f5aad8bc28row19_col0\" class=\"data row19 col0\" >1.59953</td> \n",
       "        <td id=\"T_8bc26668_f2c3_11e7_8175_24f5aad8bc28row19_col1\" class=\"data row19 col1\" >0.474071</td> \n",
       "        <td id=\"T_8bc26668_f2c3_11e7_8175_24f5aad8bc28row19_col2\" class=\"data row19 col2\" >0.151326</td> \n",
       "        <td id=\"T_8bc26668_f2c3_11e7_8175_24f5aad8bc28row19_col3\" class=\"data row19 col3\" >-0.542173</td> \n",
       "    </tr>    <tr> \n",
       "        <th id=\"T_8bc26668_f2c3_11e7_8175_24f5aad8bc28level0_row20\" class=\"row_heading level0 row20\" >2001-09</th> \n",
       "        <td id=\"T_8bc26668_f2c3_11e7_8175_24f5aad8bc28row20_col0\" class=\"data row20 col0\" >-0.475496</td> \n",
       "        <td id=\"T_8bc26668_f2c3_11e7_8175_24f5aad8bc28row20_col1\" class=\"data row20 col1\" >0.106403</td> \n",
       "        <td id=\"T_8bc26668_f2c3_11e7_8175_24f5aad8bc28row20_col2\" class=\"data row20 col2\" >-1.30823</td> \n",
       "        <td id=\"T_8bc26668_f2c3_11e7_8175_24f5aad8bc28row20_col3\" class=\"data row20 col3\" >2.17318</td> \n",
       "    </tr>    <tr> \n",
       "        <th id=\"T_8bc26668_f2c3_11e7_8175_24f5aad8bc28level0_row21\" class=\"row_heading level0 row21\" >2001-10</th> \n",
       "        <td id=\"T_8bc26668_f2c3_11e7_8175_24f5aad8bc28row21_col0\" class=\"data row21 col0\" >0.564561</td> \n",
       "        <td id=\"T_8bc26668_f2c3_11e7_8175_24f5aad8bc28row21_col1\" class=\"data row21 col1\" >-0.190481</td> \n",
       "        <td id=\"T_8bc26668_f2c3_11e7_8175_24f5aad8bc28row21_col2\" class=\"data row21 col2\" >-0.916934</td> \n",
       "        <td id=\"T_8bc26668_f2c3_11e7_8175_24f5aad8bc28row21_col3\" class=\"data row21 col3\" >-0.975814</td> \n",
       "    </tr>    <tr> \n",
       "        <th id=\"T_8bc26668_f2c3_11e7_8175_24f5aad8bc28level0_row22\" class=\"row_heading level0 row22\" >2001-11</th> \n",
       "        <td id=\"T_8bc26668_f2c3_11e7_8175_24f5aad8bc28row22_col0\" class=\"data row22 col0\" >2.2123</td> \n",
       "        <td id=\"T_8bc26668_f2c3_11e7_8175_24f5aad8bc28row22_col1\" class=\"data row22 col1\" >0.0739307</td> \n",
       "        <td id=\"T_8bc26668_f2c3_11e7_8175_24f5aad8bc28row22_col2\" class=\"data row22 col2\" >1.81859</td> \n",
       "        <td id=\"T_8bc26668_f2c3_11e7_8175_24f5aad8bc28row22_col3\" class=\"data row22 col3\" >-1.58153</td> \n",
       "    </tr>    <tr> \n",
       "        <th id=\"T_8bc26668_f2c3_11e7_8175_24f5aad8bc28level0_row23\" class=\"row_heading level0 row23\" >2001-12</th> \n",
       "        <td id=\"T_8bc26668_f2c3_11e7_8175_24f5aad8bc28row23_col0\" class=\"data row23 col0\" >-0.774363</td> \n",
       "        <td id=\"T_8bc26668_f2c3_11e7_8175_24f5aad8bc28row23_col1\" class=\"data row23 col1\" >0.552936</td> \n",
       "        <td id=\"T_8bc26668_f2c3_11e7_8175_24f5aad8bc28row23_col2\" class=\"data row23 col2\" >0.106061</td> \n",
       "        <td id=\"T_8bc26668_f2c3_11e7_8175_24f5aad8bc28row23_col3\" class=\"data row23 col3\" >3.92753</td> \n",
       "    </tr></tbody> \n",
       "</table> "
      ],
      "text/plain": [
       "<pandas.io.formats.style.Styler at 0x29cb8eb1eb8>"
      ]
     },
     "execution_count": 158,
     "metadata": {},
     "output_type": "execute_result"
    }
   ],
   "source": [
    "frame = DataFrame(np.random.randn(24, 4),\n",
    "                  index=pd.period_range('1-2000', '12-2001', freq='M'),\n",
    "                  columns=['Colorado', 'Texas', 'New York', 'Ohio'])\n",
    "frame[:5]\n",
    "frame.style"
   ]
  },
  {
   "cell_type": "code",
   "execution_count": 161,
   "metadata": {},
   "outputs": [
    {
     "data": {
      "text/html": [
       "<style  type=\"text/css\" >\n",
       "</style>  \n",
       "<table id=\"T_13a8837a_f2c4_11e7_b210_24f5aad8bc28\" > \n",
       "<thead>    <tr> \n",
       "        <th class=\"blank level0\" ></th> \n",
       "        <th class=\"col_heading level0 col0\" >Colorado</th> \n",
       "        <th class=\"col_heading level0 col1\" >Texas</th> \n",
       "        <th class=\"col_heading level0 col2\" >New York</th> \n",
       "        <th class=\"col_heading level0 col3\" >Ohio</th> \n",
       "    </tr></thead> \n",
       "<tbody>    <tr> \n",
       "        <th id=\"T_13a8837a_f2c4_11e7_b210_24f5aad8bc28level0_row0\" class=\"row_heading level0 row0\" >2000</th> \n",
       "        <td id=\"T_13a8837a_f2c4_11e7_b210_24f5aad8bc28row0_col0\" class=\"data row0 col0\" >0.146355</td> \n",
       "        <td id=\"T_13a8837a_f2c4_11e7_b210_24f5aad8bc28row0_col1\" class=\"data row0 col1\" >0.0521644</td> \n",
       "        <td id=\"T_13a8837a_f2c4_11e7_b210_24f5aad8bc28row0_col2\" class=\"data row0 col2\" >0.544959</td> \n",
       "        <td id=\"T_13a8837a_f2c4_11e7_b210_24f5aad8bc28row0_col3\" class=\"data row0 col3\" >-0.0921433</td> \n",
       "    </tr>    <tr> \n",
       "        <th id=\"T_13a8837a_f2c4_11e7_b210_24f5aad8bc28level0_row1\" class=\"row_heading level0 row1\" >2001</th> \n",
       "        <td id=\"T_13a8837a_f2c4_11e7_b210_24f5aad8bc28row1_col0\" class=\"data row1 col0\" >0.439349</td> \n",
       "        <td id=\"T_13a8837a_f2c4_11e7_b210_24f5aad8bc28row1_col1\" class=\"data row1 col1\" >0.1738</td> \n",
       "        <td id=\"T_13a8837a_f2c4_11e7_b210_24f5aad8bc28row1_col2\" class=\"data row1 col2\" >-0.180309</td> \n",
       "        <td id=\"T_13a8837a_f2c4_11e7_b210_24f5aad8bc28row1_col3\" class=\"data row1 col3\" >0.0249635</td> \n",
       "    </tr></tbody> \n",
       "</table> "
      ],
      "text/plain": [
       "<pandas.io.formats.style.Styler at 0x29cb8eb1be0>"
      ]
     },
     "execution_count": 161,
     "metadata": {},
     "output_type": "execute_result"
    }
   ],
   "source": [
    "annual_frame = frame.resample('A').mean()\n",
    "annual_frame.style"
   ]
  },
  {
   "cell_type": "code",
   "execution_count": 165,
   "metadata": {},
   "outputs": [
    {
     "data": {
      "text/plain": [
       "        Colorado     Texas  New York      Ohio\n",
       "2000Q1  0.146355  0.052164  0.544959 -0.092143\n",
       "2000Q2  0.146355  0.052164  0.544959 -0.092143\n",
       "2000Q3  0.146355  0.052164  0.544959 -0.092143\n",
       "2000Q4  0.146355  0.052164  0.544959 -0.092143\n",
       "2001Q1  0.439349  0.173800 -0.180309  0.024963\n",
       "2001Q2  0.439349  0.173800 -0.180309  0.024963\n",
       "2001Q3  0.439349  0.173800 -0.180309  0.024963\n",
       "2001Q4  0.439349  0.173800 -0.180309  0.024963"
      ]
     },
     "execution_count": 165,
     "metadata": {},
     "output_type": "execute_result"
    }
   ],
   "source": [
    "# Q-DEC : 분기말 기준 12월!\n",
    "annual_frame.resample('Q-DEC').ffill()"
   ]
  },
  {
   "cell_type": "code",
   "execution_count": 168,
   "metadata": {},
   "outputs": [
    {
     "data": {
      "text/plain": [
       "        Colorado     Texas  New York      Ohio\n",
       "2000Q1  0.146355  0.052164  0.544959 -0.092143\n",
       "2000Q2  0.146355  0.052164  0.544959 -0.092143\n",
       "2000Q3  0.146355  0.052164  0.544959 -0.092143\n",
       "2000Q4  0.146355  0.052164  0.544959 -0.092143\n",
       "2001Q1  0.439349  0.173800 -0.180309  0.024963\n",
       "2001Q2  0.439349  0.173800 -0.180309  0.024963\n",
       "2001Q3  0.439349  0.173800 -0.180309  0.024963\n",
       "2001Q4  0.439349  0.173800 -0.180309  0.024963"
      ]
     },
     "execution_count": 168,
     "metadata": {},
     "output_type": "execute_result"
    }
   ],
   "source": [
    "# 빈도에서 구간의 끝을 어느쪽에 두어야할지 미리 결정을 내려야만 하므로 convention인자로 end? start 구분\n",
    "annual_frame.resample('Q-DEC', convention='start').ffill()"
   ]
  },
  {
   "cell_type": "code",
   "execution_count": 171,
   "metadata": {},
   "outputs": [
    {
     "data": {
      "text/plain": [
       "        Colorado     Texas  New York      Ohio\n",
       "2000Q4  0.146355  0.052164  0.544959 -0.092143\n",
       "2001Q1  0.146355  0.052164  0.544959 -0.092143\n",
       "2001Q2  0.146355  0.052164  0.544959 -0.092143\n",
       "2001Q3  0.146355  0.052164  0.544959 -0.092143\n",
       "2001Q4  0.439349  0.173800 -0.180309  0.024963\n",
       "2002Q1  0.439349  0.173800 -0.180309  0.024963\n",
       "2002Q2  0.439349  0.173800 -0.180309  0.024963\n",
       "2002Q3  0.439349  0.173800 -0.180309  0.024963"
      ]
     },
     "execution_count": 171,
     "metadata": {},
     "output_type": "execute_result"
    }
   ],
   "source": [
    "annual_frame.resample('Q-MAR').ffill() # \n",
    "# 예외케이스임 : 업샘플링은 대상빈도가 반드시 원본빈도의 상위기간이어야 하는 조건 만족안할때 \n",
    "# ( 주로 연간, 분기, 주간빈도에서 발생 )\n",
    "# Q-MAR : A-MAR, A-JUN, A-SEP, A-DEC로만 이루어짐"
   ]
  },
  {
   "cell_type": "markdown",
   "metadata": {},
   "source": [
    "## 10.7: 시계열 그래프(Time series plotting)"
   ]
  },
  {
   "cell_type": "code",
   "execution_count": 174,
   "metadata": {},
   "outputs": [
    {
     "name": "stdout",
     "output_type": "stream",
     "text": [
      "<class 'pandas.core.frame.DataFrame'>\n",
      "DatetimeIndex: 2292 entries, 2003-01-02 to 2011-10-14\n",
      "Freq: B\n",
      "Data columns (total 3 columns):\n",
      "AAPL    2292 non-null float64\n",
      "MSFT    2292 non-null float64\n",
      "XOM     2292 non-null float64\n",
      "dtypes: float64(3)\n",
      "memory usage: 71.6 KB\n"
     ]
    },
    {
     "data": {
      "text/plain": [
       "            AAPL   MSFT    XOM\n",
       "2003-01-02  7.40  21.11  29.22\n",
       "2003-01-03  7.45  21.14  29.24\n",
       "2003-01-06  7.45  21.52  29.96\n",
       "2003-01-07  7.43  21.93  28.95\n",
       "2003-01-08  7.28  21.31  28.83"
      ]
     },
     "execution_count": 174,
     "metadata": {},
     "output_type": "execute_result"
    }
   ],
   "source": [
    "# 주가데이터 예시\n",
    "close_px_all = pd.read_csv('./ch09/stock_px.csv', parse_dates=True, index_col=0)\n",
    "close_px = close_px_all[['AAPL', 'MSFT', 'XOM']]\n",
    "close_px = close_px.resample('B').ffill() # business day ffill(이전값으로채움)\n",
    "close_px.info()\n",
    "close_px.head()"
   ]
  },
  {
   "cell_type": "code",
   "execution_count": 176,
   "metadata": {},
   "outputs": [
    {
     "data": {
      "text/plain": [
       "<matplotlib.axes._subplots.AxesSubplot at 0x29cb9062cf8>"
      ]
     },
     "execution_count": 176,
     "metadata": {},
     "output_type": "execute_result"
    },
    {
     "data": {
      "image/png": "[encoded data removed]",
      "text/plain": [
       "<matplotlib.figure.Figure at 0x29cb8ed6080>"
      ]
     },
     "metadata": {},
     "output_type": "display_data"
    }
   ],
   "source": [
    "close_px['AAPL'].plot()"
   ]
  },
  {
   "cell_type": "code",
   "execution_count": 179,
   "metadata": {},
   "outputs": [
    {
     "data": {
      "image/png": "[encoded data removed]",
      "text/plain": [
       "<matplotlib.figure.Figure at 0x29cb9223ef0>"
      ]
     },
     "metadata": {},
     "output_type": "display_data"
    },
    {
     "data": {
      "image/png": "[encoded data removed]",
      "text/plain": [
       "<matplotlib.figure.Figure at 0x29cb9223cf8>"
      ]
     },
     "metadata": {},
     "output_type": "display_data"
    }
   ],
   "source": [
    "import matplotlib\n",
    "matplotlib.style.use('seaborn-whitegrid')\n",
    "plt.rc('figure', figsize=(12, 4))\n",
    "close_px.loc['2009'].plot();\n",
    "close_px.loc['2010'].plot();"
   ]
  },
  {
   "cell_type": "code",
   "execution_count": 181,
   "metadata": {},
   "outputs": [
    {
     "data": {
      "text/plain": [
       "<matplotlib.axes._subplots.AxesSubplot at 0x29cba92d518>"
      ]
     },
     "execution_count": 181,
     "metadata": {},
     "output_type": "execute_result"
    },
    {
     "data": {
      "image/png": "[encoded data removed]",
      "text/plain": [
       "<matplotlib.figure.Figure at 0x29cba9c6a20>"
      ]
     },
     "metadata": {},
     "output_type": "display_data"
    }
   ],
   "source": [
    "close_px['AAPL'].loc['01-2011':'03-2011'].plot()"
   ]
  },
  {
   "cell_type": "code",
   "execution_count": 185,
   "metadata": {},
   "outputs": [
    {
     "data": {
      "text/plain": [
       "<matplotlib.axes._subplots.AxesSubplot at 0x29cb923dac8>"
      ]
     },
     "execution_count": 185,
     "metadata": {},
     "output_type": "execute_result"
    },
    {
     "data": {
      "image/png": "[encoded data removed]",
      "text/plain": [
       "<matplotlib.figure.Figure at 0x29cba74b438>"
      ]
     },
     "metadata": {},
     "output_type": "display_data"
    }
   ],
   "source": [
    "# 분기별 평균 주가 \n",
    "appl_q = close_px['AAPL'].resample('Q-DEC').ffill()\n",
    "appl_q.loc['2009':].plot()"
   ]
  },
  {
   "cell_type": "markdown",
   "metadata": {},
   "source": [
    "## 10.8 이동창 기능(Moving window functions)\n",
    "- 범위를 가지고 이동하면서 계산"
   ]
  },
  {
   "cell_type": "code",
   "execution_count": null,
   "metadata": {
    "collapsed": true
   },
   "outputs": [],
   "source": []
  },
  {
   "cell_type": "code",
   "execution_count": null,
   "metadata": {
    "collapsed": true
   },
   "outputs": [],
   "source": []
  }
 ],
 "metadata": {
  "kernelspec": {
   "display_name": "Python 3",
   "language": "python",
   "name": "python3"
  },
  "language_info": {
   "codemirror_mode": {
    "name": "ipython",
    "version": 3
   },
   "file_extension": ".py",
   "mimetype": "text/x-python",
   "name": "python",
   "nbconvert_exporter": "python",
   "pygments_lexer": "ipython3",
   "version": "3.6.1"
  }
 },
 "nbformat": 4,
 "nbformat_minor": 2
}
