{
 "cells": [
  {
   "cell_type": "markdown",
   "metadata": {},
   "source": [
    "# [금융,경제 데이터 애플리케이션]"
   ]
  },
  {
   "cell_type": "markdown",
   "metadata": {},
   "source": [
    "- Cross Section(크로스섹션) : 시간상 고정된 위치에서 존재하는 데이터를 나타내기 위한 방법.[예시: S&P 500 지수의 모든 주식 종목의 종가] "
   ]
  },
  {
   "cell_type": "code",
   "execution_count": 1,
   "metadata": {
    "collapsed": true
   },
   "outputs": [],
   "source": [
    "from __future__ import division\n",
    "from pandas import Series, DataFrame\n",
    "import pandas as pd\n",
    "from numpy.random import randn\n",
    "import numpy as np\n",
    "pd.options.display.max_rows = 12\n",
    "np.set_printoptions(precision=4, suppress=True)\n",
    "import os\n",
    "import matplotlib.pyplot as plt\n",
    "np.random.seed(12345)\n",
    "plt.rc('figure', figsize=(12, 4))\n",
    "np.set_printoptions(precision=4)\n",
    "from pandas_datareader import data as web\n",
    "import fix_yahoo_finance as yf\n",
    "\n",
    "pd.options.display.notebook_repr_html = False\n",
    "\n",
    "%matplotlib inline\n",
    "\n",
    "from IPython.core.interactiveshell import InteractiveShell\n",
    "InteractiveShell.ast_node_interactivity = 'all'"
   ]
  },
  {
   "cell_type": "markdown",
   "metadata": {},
   "source": [
    "## 11.1: 데이터 준비(Data munging topics)"
   ]
  },
  {
   "cell_type": "markdown",
   "metadata": {},
   "source": [
    "### 11.1.1: 시계열과 크로스 섹션 정렬(Time series and cross-section alignment)"
   ]
  },
  {
   "cell_type": "code",
   "execution_count": 2,
   "metadata": {
    "collapsed": true
   },
   "outputs": [],
   "source": [
    "close_px = pd.read_csv('./ch11/stock_px.csv', parse_dates=True, index_col=0)\n",
    "volume = pd.read_csv('./ch11/volume.csv', parse_dates=True, index_col=0)\n",
    "prices = close_px.loc['2011-09-05':'2011-09-14',['AAPL','JNJ','SPX','XOM']]\n",
    "volume = volume.loc['2011-09-05':'2011-09-12',['AAPL','JNJ','SPX','XOM']]"
   ]
  },
  {
   "cell_type": "code",
   "execution_count": 4,
   "metadata": {},
   "outputs": [
    {
     "data": {
      "text/plain": [
       "              AAPL    JNJ      SPX    XOM\n",
       "2011-09-06  379.74  64.64  1165.24  71.15\n",
       "2011-09-07  383.93  65.43  1198.62  73.65\n",
       "2011-09-08  384.14  64.95  1185.90  72.82\n",
       "2011-09-09  377.48  63.64  1154.23  71.01\n",
       "2011-09-12  379.94  63.59  1162.27  71.84\n",
       "2011-09-13  384.62  63.61  1172.87  71.65\n",
       "2011-09-14  389.30  63.73  1188.68  72.64"
      ]
     },
     "execution_count": 4,
     "metadata": {},
     "output_type": "execute_result"
    },
    {
     "data": {
      "text/plain": [
       "                  AAPL         JNJ           SPX         XOM\n",
       "2011-09-06  18173500.0  15848300.0  5.103980e+09  25416300.0\n",
       "2011-09-07  12492000.0  10759700.0  4.441040e+09  23108400.0\n",
       "2011-09-08  14839800.0  15551500.0  4.465170e+09  22434800.0\n",
       "2011-09-09  20171900.0  17008200.0  4.586370e+09  27969100.0\n",
       "2011-09-12  16697300.0  13448200.0  5.168550e+09  26205800.0"
      ]
     },
     "execution_count": 4,
     "metadata": {},
     "output_type": "execute_result"
    }
   ],
   "source": [
    "prices\n",
    "volume"
   ]
  },
  {
   "cell_type": "code",
   "execution_count": 5,
   "metadata": {},
   "outputs": [
    {
     "data": {
      "text/plain": [
       "                    AAPL           JNJ           SPX           XOM\n",
       "2011-09-06  6.901205e+09  1.024434e+09  5.947362e+12  1.808370e+09\n",
       "2011-09-07  4.796054e+09  7.040072e+08  5.323119e+12  1.701934e+09\n",
       "2011-09-08  5.700561e+09  1.010070e+09  5.295245e+12  1.633702e+09\n",
       "2011-09-09  7.614489e+09  1.082402e+09  5.293726e+12  1.986086e+09\n",
       "2011-09-12  6.343972e+09  8.551710e+08  6.007251e+12  1.882625e+09\n",
       "2011-09-13           NaN           NaN           NaN           NaN\n",
       "2011-09-14           NaN           NaN           NaN           NaN"
      ]
     },
     "execution_count": 5,
     "metadata": {},
     "output_type": "execute_result"
    }
   ],
   "source": [
    "# 거래량 \n",
    "prices * volume"
   ]
  },
  {
   "cell_type": "code",
   "execution_count": 6,
   "metadata": {},
   "outputs": [
    {
     "data": {
      "text/plain": [
       "AAPL     380.655181\n",
       "JNJ       64.394769\n",
       "SPX     1172.588832\n",
       "XOM       72.024288\n",
       "dtype: float64"
      ]
     },
     "execution_count": 6,
     "metadata": {},
     "output_type": "execute_result"
    }
   ],
   "source": [
    "# 단일 거래에 대한, 거래된 한주당 평균 주가.\n",
    "vwap = (prices * volume).sum() / volume.sum()\n",
    "vwap"
   ]
  },
  {
   "cell_type": "code",
   "execution_count": 7,
   "metadata": {},
   "outputs": [
    {
     "data": {
      "text/plain": [
       "AAPL     380.655181\n",
       "JNJ       64.394769\n",
       "SPX     1172.588832\n",
       "XOM       72.024288\n",
       "dtype: float64"
      ]
     },
     "execution_count": 7,
     "metadata": {},
     "output_type": "execute_result"
    }
   ],
   "source": [
    "vwap.dropna()"
   ]
  },
  {
   "cell_type": "code",
   "execution_count": 8,
   "metadata": {},
   "outputs": [
    {
     "data": {
      "text/plain": [
       "(              AAPL    JNJ      SPX    XOM\n",
       " 2011-09-06  379.74  64.64  1165.24  71.15\n",
       " 2011-09-07  383.93  65.43  1198.62  73.65\n",
       " 2011-09-08  384.14  64.95  1185.90  72.82\n",
       " 2011-09-09  377.48  63.64  1154.23  71.01\n",
       " 2011-09-12  379.94  63.59  1162.27  71.84,\n",
       "                   AAPL         JNJ           SPX         XOM\n",
       " 2011-09-06  18173500.0  15848300.0  5.103980e+09  25416300.0\n",
       " 2011-09-07  12492000.0  10759700.0  4.441040e+09  23108400.0\n",
       " 2011-09-08  14839800.0  15551500.0  4.465170e+09  22434800.0\n",
       " 2011-09-09  20171900.0  17008200.0  4.586370e+09  27969100.0\n",
       " 2011-09-12  16697300.0  13448200.0  5.168550e+09  26205800.0)"
      ]
     },
     "execution_count": 8,
     "metadata": {},
     "output_type": "execute_result"
    }
   ],
   "source": [
    "# SPX는 발행주식(volume)이 없으므로 명시적으로 배제가능 > 데이터 정렬시 df의 align\n",
    "# align : 새롭게 색인된 두 객체의 튜플을 반환.\n",
    "prices.align(volume, join='inner')"
   ]
  },
  {
   "cell_type": "code",
   "execution_count": 9,
   "metadata": {},
   "outputs": [
    {
     "data": {
      "text/plain": [
       "   one  three  two\n",
       "a  0.0    1.0  NaN\n",
       "b  1.0    NaN  1.0\n",
       "c  2.0    2.0  2.0\n",
       "d  NaN    NaN  0.0\n",
       "e  NaN    NaN  3.0\n",
       "f  NaN    0.0  NaN"
      ]
     },
     "execution_count": 9,
     "metadata": {},
     "output_type": "execute_result"
    }
   ],
   "source": [
    "s1 = Series(range(3), index=['a','b','c'])\n",
    "s2 = Series(range(4), index=['d','b','c','e'])\n",
    "s3 = Series(range(3), index=['f','a','c'])\n",
    "DataFrame({'one':s1, 'two': s2, 'three': s3})"
   ]
  },
  {
   "cell_type": "code",
   "execution_count": 10,
   "metadata": {},
   "outputs": [
    {
     "data": {
      "text/plain": [
       "   one  three  two\n",
       "f  NaN    0.0  NaN\n",
       "a  0.0    1.0  NaN\n",
       "c  2.0    2.0  2.0\n",
       "e  NaN    NaN  3.0"
      ]
     },
     "execution_count": 10,
     "metadata": {},
     "output_type": "execute_result"
    }
   ],
   "source": [
    "DataFrame({'one':s1, 'two':s2, 'three':s3}, index=list('face'))"
   ]
  },
  {
   "cell_type": "markdown",
   "metadata": {},
   "source": [
    "### 11.1.2: 다른빈도를 가지는 시계열 연산(Operations with time series of different frequencies)"
   ]
  },
  {
   "cell_type": "code",
   "execution_count": 11,
   "metadata": {},
   "outputs": [
    {
     "data": {
      "text/plain": [
       "2012-06-13   -0.204708\n",
       "2012-06-20    0.478943\n",
       "2012-06-27   -0.519439\n",
       "Freq: W-WED, dtype: float64"
      ]
     },
     "execution_count": 11,
     "metadata": {},
     "output_type": "execute_result"
    }
   ],
   "source": [
    "ts1 = Series(np.random.randn(3),\n",
    "            index=pd.date_range('2012-06-13', periods=3, freq='W-WED'))\n",
    "ts1"
   ]
  },
  {
   "cell_type": "code",
   "execution_count": 12,
   "metadata": {},
   "outputs": [
    {
     "data": {
      "text/plain": [
       "DatetimeIndexResampler [freq=<BusinessDay>, axis=0, closed=left, label=left, convention=start, base=0]"
      ]
     },
     "execution_count": 12,
     "metadata": {},
     "output_type": "execute_result"
    },
    {
     "data": {
      "text/plain": [
       "2012-06-13   -0.204708\n",
       "2012-06-14   -0.204708\n",
       "2012-06-15   -0.204708\n",
       "2012-06-18   -0.204708\n",
       "2012-06-19   -0.204708\n",
       "2012-06-20    0.478943\n",
       "2012-06-21    0.478943\n",
       "2012-06-22    0.478943\n",
       "2012-06-25    0.478943\n",
       "2012-06-26    0.478943\n",
       "2012-06-27   -0.519439\n",
       "Freq: B, dtype: float64"
      ]
     },
     "execution_count": 12,
     "metadata": {},
     "output_type": "execute_result"
    }
   ],
   "source": [
    "ts1.resample('B')\n",
    "ts1.resample('B').ffill()"
   ]
  },
  {
   "cell_type": "code",
   "execution_count": 13,
   "metadata": {},
   "outputs": [
    {
     "data": {
      "text/plain": [
       "2012-06-12   -0.555730\n",
       "2012-06-17    1.965781\n",
       "2012-06-18    1.393406\n",
       "2012-06-21    0.092908\n",
       "2012-06-22    0.281746\n",
       "2012-06-29    0.769023\n",
       "dtype: float64"
      ]
     },
     "execution_count": 13,
     "metadata": {},
     "output_type": "execute_result"
    }
   ],
   "source": [
    "dates = pd.DatetimeIndex(['2012-6-12', '2012-6-17', '2012-6-18',\n",
    "                          '2012-6-21', '2012-6-22', '2012-6-29'])\n",
    "ts2 = Series(np.random.randn(6), index=dates)\n",
    "ts2"
   ]
  },
  {
   "cell_type": "code",
   "execution_count": 14,
   "metadata": {},
   "outputs": [
    {
     "data": {
      "text/plain": [
       "2012-06-12         NaN\n",
       "2012-06-17   -0.204708\n",
       "2012-06-18   -0.204708\n",
       "2012-06-21    0.478943\n",
       "2012-06-22    0.478943\n",
       "2012-06-29   -0.519439\n",
       "dtype: float64"
      ]
     },
     "execution_count": 14,
     "metadata": {},
     "output_type": "execute_result"
    },
    {
     "data": {
      "text/plain": [
       "2012-06-12         NaN\n",
       "2012-06-17    1.761073\n",
       "2012-06-18    1.188698\n",
       "2012-06-21    0.571851\n",
       "2012-06-22    0.760689\n",
       "2012-06-29    0.249584\n",
       "dtype: float64"
      ]
     },
     "execution_count": 14,
     "metadata": {},
     "output_type": "execute_result"
    }
   ],
   "source": [
    "# ts2로 다시 인덱싱 하겠음.\n",
    "ts1.reindex(ts2.index, method='ffill')\n",
    "ts2 + ts1.reindex(ts2.index, method='ffill')"
   ]
  },
  {
   "cell_type": "markdown",
   "metadata": {},
   "source": [
    "#### 타임스탬프 대신 Period 사용하기.(Using periods instead of timestamps)"
   ]
  },
  {
   "cell_type": "code",
   "execution_count": 15,
   "metadata": {},
   "outputs": [
    {
     "data": {
      "text/plain": [
       "1984Q2    1.78\n",
       "1984Q3    1.94\n",
       "1984Q4    2.08\n",
       "1985Q1    2.01\n",
       "1985Q2    2.15\n",
       "1985Q3    2.31\n",
       "1985Q4    2.46\n",
       "Freq: Q-SEP, dtype: float64"
      ]
     },
     "execution_count": 15,
     "metadata": {},
     "output_type": "execute_result"
    },
    {
     "data": {
      "text/plain": [
       "1982    0.025\n",
       "1983    0.045\n",
       "1984    0.037\n",
       "1985    0.040\n",
       "Freq: A-DEC, dtype: float64"
      ]
     },
     "execution_count": 15,
     "metadata": {},
     "output_type": "execute_result"
    }
   ],
   "source": [
    "gdp = Series([1.78, 1.94, 2.08, 2.01, 2.15, 2.31, 2.46],\n",
    "             index=pd.period_range('1984Q2', periods=7, freq='Q-SEP'))\n",
    "infl = Series([0.025, 0.045, 0.037, 0.04],\n",
    "              index=pd.period_range('1982', periods=4, freq='A-DEC'))\n",
    "gdp\n",
    "infl"
   ]
  },
  {
   "cell_type": "code",
   "execution_count": 16,
   "metadata": {},
   "outputs": [
    {
     "data": {
      "text/plain": [
       "1983Q1    0.025\n",
       "1984Q1    0.045\n",
       "1985Q1    0.037\n",
       "1986Q1    0.040\n",
       "Freq: Q-SEP, dtype: float64"
      ]
     },
     "execution_count": 16,
     "metadata": {},
     "output_type": "execute_result"
    }
   ],
   "source": [
    "infl_q = infl.asfreq('Q-SEP', how='end')\n",
    "infl_q"
   ]
  },
  {
   "cell_type": "code",
   "execution_count": 17,
   "metadata": {},
   "outputs": [
    {
     "data": {
      "text/plain": [
       "1984Q2    0.045\n",
       "1984Q3    0.045\n",
       "1984Q4    0.045\n",
       "1985Q1    0.037\n",
       "1985Q2    0.037\n",
       "1985Q3    0.037\n",
       "1985Q4    0.037\n",
       "Freq: Q-SEP, dtype: float64"
      ]
     },
     "execution_count": 17,
     "metadata": {},
     "output_type": "execute_result"
    },
    {
     "data": {
      "text/plain": [
       "1983Q1    0.025\n",
       "1984Q1    0.045\n",
       "1985Q1    0.037\n",
       "1986Q1    0.040\n",
       "Freq: Q-SEP, dtype: float64"
      ]
     },
     "execution_count": 17,
     "metadata": {},
     "output_type": "execute_result"
    }
   ],
   "source": [
    "infl_q.reindex(gdp.index, method='ffill')\n",
    "infl_q"
   ]
  },
  {
   "cell_type": "markdown",
   "metadata": {},
   "source": [
    "### 11.3: 일별시간과 현재 최신데이터 선택하기(Time of day and \"as of\" data selection)."
   ]
  },
  {
   "cell_type": "code",
   "execution_count": 20,
   "metadata": {},
   "outputs": [
    {
     "data": {
      "text/plain": [
       "2012-06-01 09:30:00       0.0\n",
       "2012-06-01 09:31:00       1.0\n",
       "2012-06-01 09:32:00       2.0\n",
       "2012-06-01 09:33:00       3.0\n",
       "2012-06-01 09:34:00       4.0\n",
       "2012-06-01 09:35:00       5.0\n",
       "                        ...  \n",
       "2012-06-06 15:54:00    1554.0\n",
       "2012-06-06 15:55:00    1555.0\n",
       "2012-06-06 15:56:00    1556.0\n",
       "2012-06-06 15:57:00    1557.0\n",
       "2012-06-06 15:58:00    1558.0\n",
       "2012-06-06 15:59:00    1559.0\n",
       "Length: 1560, dtype: float64"
      ]
     },
     "execution_count": 20,
     "metadata": {},
     "output_type": "execute_result"
    }
   ],
   "source": [
    "# 주식장의 범위와 시계열을 생성.\n",
    "rng = pd.date_range('2012-06-01 09:30', '2012-06-01 15:59', freq='T')\n",
    "# 5일간 09:30에서 15:59의 시계열을 생성.\n",
    "rng = rng.append([rng + pd.offsets.BDay(i) for i in range(1,4)])\n",
    "ts = Series(np.arange(len(rng), dtype=float), index=rng)\n",
    "ts"
   ]
  },
  {
   "cell_type": "code",
   "execution_count": 23,
   "metadata": {},
   "outputs": [
    {
     "data": {
      "text/plain": [
       "2012-06-01 10:00:00      30.0\n",
       "2012-06-04 10:00:00     420.0\n",
       "2012-06-05 10:00:00     810.0\n",
       "2012-06-06 10:00:00    1200.0\n",
       "dtype: float64"
      ]
     },
     "execution_count": 23,
     "metadata": {},
     "output_type": "execute_result"
    }
   ],
   "source": [
    "# 시간대의 값 추출.\n",
    "from datetime import time\n",
    "ts[time(10, 0)] # 10시"
   ]
  },
  {
   "cell_type": "code",
   "execution_count": 27,
   "metadata": {},
   "outputs": [
    {
     "data": {
      "text/plain": [
       "2012-06-01 10:00:00      30.0\n",
       "2012-06-01 10:01:00      31.0\n",
       "2012-06-04 10:00:00     420.0\n",
       "2012-06-04 10:01:00     421.0\n",
       "2012-06-05 10:00:00     810.0\n",
       "2012-06-05 10:01:00     811.0\n",
       "2012-06-06 10:00:00    1200.0\n",
       "2012-06-06 10:01:00    1201.0\n",
       "dtype: float64"
      ]
     },
     "execution_count": 27,
     "metadata": {},
     "output_type": "execute_result"
    }
   ],
   "source": [
    "# 두 시간사이의 값.\n",
    "ts.between_time(time(10,0), time(10,1)) # 10시~10시 1분"
   ]
  },
  {
   "cell_type": "code",
   "execution_count": 29,
   "metadata": {
    "collapsed": true
   },
   "outputs": [],
   "source": [
    "np.random.seed(12346)"
   ]
  },
  {
   "cell_type": "code",
   "execution_count": 31,
   "metadata": {},
   "outputs": [
    {
     "data": {
      "text/plain": [
       "2012-06-01 09:50:00    20.0\n",
       "2012-06-01 09:51:00    21.0\n",
       "2012-06-01 09:52:00    22.0\n",
       "2012-06-01 09:53:00    23.0\n",
       "2012-06-01 09:54:00     NaN\n",
       "2012-06-01 09:55:00    25.0\n",
       "2012-06-01 09:56:00     NaN\n",
       "2012-06-01 09:57:00     NaN\n",
       "2012-06-01 09:58:00     NaN\n",
       "2012-06-01 09:59:00     NaN\n",
       "2012-06-01 10:00:00     NaN\n",
       "dtype: float64"
      ]
     },
     "execution_count": 31,
     "metadata": {},
     "output_type": "execute_result"
    }
   ],
   "source": [
    "# 정확히 오전 10시에 데이터가 존재하지 않는 경우의 시간 조히ㅚ.\n",
    "indexer = np.sort(np.random.permutation(len(ts))[700:])\n",
    "irr_ts = ts.copy()\n",
    "irr_ts[indexer] = np.nan\n",
    "irr_ts['2012-06-01 09:50':'2012-06-01 10:00']"
   ]
  },
  {
   "cell_type": "code",
   "execution_count": 33,
   "metadata": {},
   "outputs": [
    {
     "data": {
      "text/plain": [
       "2012-06-01 10:00:00      25.0\n",
       "2012-06-04 10:00:00     418.0\n",
       "2012-06-05 10:00:00     809.0\n",
       "2012-06-06 10:00:00    1200.0\n",
       "Freq: B, dtype: float64"
      ]
     },
     "execution_count": 33,
     "metadata": {},
     "output_type": "execute_result"
    }
   ],
   "source": [
    "# asof에 타임스팸프 배열을 넘기면 해당 시점 혹은 직전의 유효한 값이 담긴 배열을 얻을 수 있음.\n",
    "# 매일 오전 10시의 날짜범위를 만들고 asof로 매서드를 넘기면 해당시점에 정확한 값이 없어도,\n",
    "# 가장 최근의 유효한 값이 담긴 배열을 얻을 수 있음.\n",
    "selection = pd.date_range('2012-06-01 10:00', periods=4, freq='B')\n",
    "irr_ts.asof(selection)"
   ]
  },
  {
   "cell_type": "markdown",
   "metadata": {},
   "source": [
    "### 11.4: 데이터와 함께 나누기(Splicing together data sources)\n",
    "- 1) 어떤 데이터 원본(단일 시계열이나 시계열 모음)을 특정 시점의 데이터로 변환.\n",
    "- 2) 다른 시계열을 사용해서 단일 시계열의 시작, 중간 혹은 끝부분에 누락된 값 채워넣기.\n",
    "- 3) 데이터를 국가 혹은 자산지표 등의 기준으로 분류하여 대체하기."
   ]
  },
  {
   "cell_type": "code",
   "execution_count": 40,
   "metadata": {
    "scrolled": true
   },
   "outputs": [
    {
     "data": {
      "text/plain": [
       "              a    b    c\n",
       "2012-06-12  1.0  1.0  1.0\n",
       "2012-06-13  1.0  1.0  1.0\n",
       "2012-06-14  1.0  1.0  1.0\n",
       "2012-06-15  1.0  1.0  1.0\n",
       "2012-06-16  1.0  1.0  1.0\n",
       "2012-06-17  1.0  1.0  1.0"
      ]
     },
     "execution_count": 40,
     "metadata": {},
     "output_type": "execute_result"
    },
    {
     "data": {
      "text/plain": [
       "              a    b    c\n",
       "2012-06-13  2.0  2.0  2.0\n",
       "2012-06-14  2.0  2.0  2.0\n",
       "2012-06-15  2.0  2.0  2.0\n",
       "2012-06-16  2.0  2.0  2.0\n",
       "2012-06-17  2.0  2.0  2.0\n",
       "2012-06-18  2.0  2.0  2.0"
      ]
     },
     "execution_count": 40,
     "metadata": {},
     "output_type": "execute_result"
    },
    {
     "data": {
      "text/plain": [
       "              a    b    c\n",
       "2012-06-12  1.0  1.0  1.0\n",
       "2012-06-13  1.0  1.0  1.0\n",
       "2012-06-14  1.0  1.0  1.0\n",
       "2012-06-15  2.0  2.0  2.0\n",
       "2012-06-16  2.0  2.0  2.0\n",
       "2012-06-17  2.0  2.0  2.0\n",
       "2012-06-18  2.0  2.0  2.0"
      ]
     },
     "execution_count": 40,
     "metadata": {},
     "output_type": "execute_result"
    }
   ],
   "source": [
    "# 1) 2개의 TimeSeries나 DataFrame 객체를 pandas.concat을 이용 \n",
    "# > 한 묶음의 시계열의 데이터 -> 하나의 시계열\n",
    "data1 = DataFrame(np.ones((6,3), dtype=float),\n",
    "                  columns=['a','b','c'],\n",
    "                  index=pd.date_range('6/12/2012', periods=6))\n",
    "data2 = DataFrame(np.ones((6,3), dtype=float)*2,\n",
    "                  columns=['a','b','c'],\n",
    "                  index=pd.date_range('6/13/2012', periods=6))\n",
    "spliced = pd.concat([data1.loc[:'2012-06-14'], data2.loc['2012-06-15':]])\n",
    "data1\n",
    "data2\n",
    "spliced"
   ]
  },
  {
   "cell_type": "code",
   "execution_count": 43,
   "metadata": {},
   "outputs": [
    {
     "data": {
      "text/plain": [
       "              a    b    c    d\n",
       "2012-06-12  1.0  1.0  1.0  NaN\n",
       "2012-06-13  1.0  1.0  1.0  NaN\n",
       "2012-06-14  1.0  1.0  1.0  NaN\n",
       "2012-06-15  2.0  2.0  2.0  2.0\n",
       "2012-06-16  2.0  2.0  2.0  2.0\n",
       "2012-06-17  2.0  2.0  2.0  2.0\n",
       "2012-06-18  2.0  2.0  2.0  2.0"
      ]
     },
     "execution_count": 43,
     "metadata": {},
     "output_type": "execute_result"
    }
   ],
   "source": [
    "# data2에만 데이터가 있고, data1은 없는 경우.\n",
    "data2 = DataFrame(np.ones((6, 4), dtype=float) * 2,\n",
    "                  columns=['a', 'b', 'c', 'd'],\n",
    "                  index=pd.date_range('6/13/2012', periods=6))\n",
    "spliced = pd.concat([data1.loc[:'2012-06-14'], data2.loc['2012-06-15':]])\n",
    "spliced"
   ]
  },
  {
   "cell_type": "code",
   "execution_count": 45,
   "metadata": {},
   "outputs": [
    {
     "data": {
      "text/plain": [
       "              a    b    c    d\n",
       "2012-06-12  1.0  1.0  1.0  NaN\n",
       "2012-06-13  1.0  1.0  1.0  2.0\n",
       "2012-06-14  1.0  1.0  1.0  2.0\n",
       "2012-06-15  2.0  2.0  2.0  2.0\n",
       "2012-06-16  2.0  2.0  2.0  2.0\n",
       "2012-06-17  2.0  2.0  2.0  2.0\n",
       "2012-06-18  2.0  2.0  2.0  2.0"
      ]
     },
     "execution_count": 45,
     "metadata": {},
     "output_type": "execute_result"
    }
   ],
   "source": [
    "# combine_first로 d 이전 컬럼내역을 채울 수 있음\n",
    "spliced_filled = spliced.combine_first(data2)\n",
    "spliced_filled"
   ]
  },
  {
   "cell_type": "code",
   "execution_count": 47,
   "metadata": {
    "collapsed": true
   },
   "outputs": [],
   "source": [
    "spliced.update(data2, overwrite=False) # 누락된값 갱신 : overwrite=False"
   ]
  },
  {
   "cell_type": "code",
   "execution_count": 49,
   "metadata": {},
   "outputs": [
    {
     "data": {
      "text/plain": [
       "              a    b    c    d\n",
       "2012-06-12  1.0  1.0  1.0  NaN\n",
       "2012-06-13  1.0  1.0  1.0  2.0\n",
       "2012-06-14  1.0  1.0  1.0  2.0\n",
       "2012-06-15  2.0  2.0  2.0  2.0\n",
       "2012-06-16  2.0  2.0  2.0  2.0\n",
       "2012-06-17  2.0  2.0  2.0  2.0\n",
       "2012-06-18  2.0  2.0  2.0  2.0"
      ]
     },
     "execution_count": 49,
     "metadata": {},
     "output_type": "execute_result"
    }
   ],
   "source": [
    "spliced"
   ]
  },
  {
   "cell_type": "code",
   "execution_count": 51,
   "metadata": {},
   "outputs": [
    {
     "data": {
      "text/plain": [
       "              a    b    c    d\n",
       "2012-06-12  1.0  1.0  1.0  NaN\n",
       "2012-06-13  1.0  1.0  1.0  2.0\n",
       "2012-06-14  1.0  1.0  1.0  2.0\n",
       "2012-06-15  1.0  2.0  1.0  2.0\n",
       "2012-06-16  1.0  2.0  1.0  2.0\n",
       "2012-06-17  1.0  2.0  1.0  2.0\n",
       "2012-06-18  NaN  2.0  NaN  2.0"
      ]
     },
     "execution_count": 51,
     "metadata": {},
     "output_type": "execute_result"
    }
   ],
   "source": [
    "cp_spliced = spliced.copy()\n",
    "cp_spliced[['a','c']] = data1[['a','c']] # 컬럼 일부 치환.\n",
    "cp_spliced"
   ]
  },
  {
   "cell_type": "markdown",
   "metadata": {},
   "source": [
    "### 11.1.5: 수익지수와 누적수익(Return indexes and cumulative returns)"
   ]
  },
  {
   "cell_type": "code",
   "execution_count": 59,
   "metadata": {},
   "outputs": [
    {
     "data": {
      "text/plain": [
       "Date\n",
       "2018-04-02    166.679993\n",
       "2018-04-03    168.389999\n",
       "2018-04-04    171.610001\n",
       "2018-04-05    172.800003\n",
       "2018-04-06    168.380005\n",
       "Name: Adj Close, dtype: float64"
      ]
     },
     "execution_count": 59,
     "metadata": {},
     "output_type": "execute_result"
    }
   ],
   "source": [
    "# 2011년~2012년 애플사의 주식 : 수익지수와 누적수익 알아보기.\n",
    "from pandas_datareader import data as web\n",
    "price = web.get_data_yahoo('AAPL', '2011-01-01')['Adj Close']\n",
    "price[-5:]"
   ]
  },
  {
   "cell_type": "code",
   "execution_count": 61,
   "metadata": {},
   "outputs": [
    {
     "data": {
      "text/plain": [
       "0.072400201130253361"
      ]
     },
     "execution_count": 61,
     "metadata": {},
     "output_type": "execute_result"
    }
   ],
   "source": [
    "# 애플은 배당이 없었기 때문에 그냥 주가 변화율로 누적수익률을 계산.\n",
    "price['2011-10-03'] / price['2011-03-01'] - 1"
   ]
  },
  {
   "cell_type": "code",
   "execution_count": 74,
   "metadata": {},
   "outputs": [
    {
     "data": {
      "text/plain": [
       "Date\n",
       "2010-12-31    1.000000\n",
       "2011-01-03    1.021732\n",
       "2011-01-04    1.027065\n",
       "2011-01-05    1.035466\n",
       "2011-01-06    1.034629\n",
       "2011-01-07    1.042039\n",
       "                ...   \n",
       "2018-03-29    5.378571\n",
       "2018-04-02    5.343308\n",
       "2018-04-03    5.398126\n",
       "2018-04-04    5.501350\n",
       "2018-04-05    5.539499\n",
       "2018-04-06    5.397805\n",
       "Name: Adj Close, Length: 1828, dtype: float64"
      ]
     },
     "execution_count": 74,
     "metadata": {},
     "output_type": "execute_result"
    }
   ],
   "source": [
    "# 배당금 지급 주식시에는 재투자 수익 제외 > cumprod 사용으로 수익지수 계산\n",
    "returns = price.pct_change()\n",
    "ret_index = (1+returns).cumprod()\n",
    "ret_index[0] = 1 # 처음값 1\n",
    "ret_index"
   ]
  },
  {
   "cell_type": "code",
   "execution_count": 75,
   "metadata": {},
   "outputs": [
    {
     "data": {
      "text/plain": [
       "Date\n",
       "2012-01-31    0.127111\n",
       "2012-02-29    0.188311\n",
       "2012-03-30    0.105283\n",
       "2012-04-30   -0.025969\n",
       "2012-05-31   -0.010702\n",
       "2012-06-29    0.010853\n",
       "2012-07-31    0.045822\n",
       "2012-08-31    0.122801\n",
       "2012-09-28    0.002796\n",
       "2012-10-31   -0.107600\n",
       "2012-11-30    0.015453\n",
       "2012-12-31   -0.090743\n",
       "Freq: BM, Name: Adj Close, dtype: float64"
      ]
     },
     "execution_count": 75,
     "metadata": {},
     "output_type": "execute_result"
    },
    {
     "data": {
      "text/plain": [
       "Date\n",
       "2013-01-31   -0.144089\n",
       "2013-02-28    0.010033\n",
       "2013-03-29    0.002855\n",
       "2013-04-30    0.000271\n",
       "2013-05-31    0.064703\n",
       "2013-06-28   -0.118293\n",
       "2013-07-31    0.141225\n",
       "2013-08-30    0.128473\n",
       "2013-09-30   -0.021489\n",
       "2013-10-31    0.096382\n",
       "2013-11-29    0.108898\n",
       "2013-12-31    0.008902\n",
       "Freq: BM, Name: Adj Close, dtype: float64"
      ]
     },
     "execution_count": 75,
     "metadata": {},
     "output_type": "execute_result"
    },
    {
     "data": {
      "text/plain": [
       "Date\n",
       "2014-01-31   -0.107697\n",
       "2014-02-28    0.096906\n",
       "2014-03-31    0.019953\n",
       "2014-04-30    0.099396\n",
       "2014-05-30    0.116113\n",
       "2014-06-30    0.027662\n",
       "2014-07-31    0.028731\n",
       "2014-08-29    0.077509\n",
       "2014-09-30   -0.017073\n",
       "2014-10-31    0.071960\n",
       "2014-11-28    0.105979\n",
       "2014-12-31   -0.071891\n",
       "Freq: BM, Name: Adj Close, dtype: float64"
      ]
     },
     "execution_count": 75,
     "metadata": {},
     "output_type": "execute_result"
    },
    {
     "data": {
      "text/plain": [
       "Date\n",
       "2015-01-30    0.061424\n",
       "2015-02-27    0.100777\n",
       "2015-03-31   -0.031372\n",
       "2015-04-30    0.005786\n",
       "2015-05-29    0.045339\n",
       "2015-06-30   -0.037227\n",
       "2015-07-31   -0.032927\n",
       "2015-08-31   -0.066196\n",
       "2015-09-30   -0.021816\n",
       "2015-10-30    0.083409\n",
       "2015-11-30   -0.005804\n",
       "2015-12-31   -0.110228\n",
       "Freq: BM, Name: Adj Close, dtype: float64"
      ]
     },
     "execution_count": 75,
     "metadata": {},
     "output_type": "execute_result"
    },
    {
     "data": {
      "text/plain": [
       "Date\n",
       "2016-01-29   -0.075242\n",
       "2016-02-29   -0.001287\n",
       "2016-03-31    0.127211\n",
       "2016-04-29   -0.139921\n",
       "2016-05-31    0.071773\n",
       "2016-06-30   -0.042660\n",
       "2016-07-29    0.090063\n",
       "2016-08-31    0.023652\n",
       "2016-09-30    0.065504\n",
       "2016-10-31    0.004334\n",
       "2016-11-30   -0.021601\n",
       "2016-12-30    0.047955\n",
       "Freq: BM, Name: Adj Close, dtype: float64"
      ]
     },
     "execution_count": 75,
     "metadata": {},
     "output_type": "execute_result"
    },
    {
     "data": {
      "text/plain": [
       "Date\n",
       "2017-01-31    0.047746\n",
       "2017-02-28    0.133778\n",
       "2017-03-31    0.048690\n",
       "2017-04-28   -0.000070\n",
       "2017-05-31    0.067808\n",
       "2017-06-30   -0.057214\n",
       "2017-07-31    0.032704\n",
       "2017-08-31    0.106999\n",
       "2017-09-29   -0.060244\n",
       "2017-10-31    0.096808\n",
       "2017-11-30    0.020278\n",
       "2017-12-29   -0.015246\n",
       "Freq: BM, Name: Adj Close, dtype: float64"
      ]
     },
     "execution_count": 75,
     "metadata": {},
     "output_type": "execute_result"
    },
    {
     "data": {
      "text/plain": [
       "Date\n",
       "2018-01-31   -0.010636\n",
       "2018-02-28    0.068185\n",
       "2018-03-30   -0.058051\n",
       "2018-04-30    0.003576\n",
       "Freq: BM, Name: Adj Close, dtype: float64"
      ]
     },
     "execution_count": 75,
     "metadata": {},
     "output_type": "execute_result"
    }
   ],
   "source": [
    "# 구한 수로 특정기간동안의 누적수익 계산 가능.\n",
    "m_returns = ret_index.resample('BM').last().pct_change()\n",
    "m_returns['2012']\n",
    "m_returns['2013']\n",
    "m_returns['2014']\n",
    "m_returns['2015']\n",
    "m_returns['2016']\n",
    "m_returns['2017']\n",
    "m_returns['2018']"
   ]
  },
  {
   "cell_type": "code",
   "execution_count": 76,
   "metadata": {},
   "outputs": [
    {
     "data": {
      "text/plain": [
       "Date\n",
       "2012-01    0.127111\n",
       "2012-02    0.188311\n",
       "2012-03    0.105283\n",
       "2012-04   -0.025969\n",
       "2012-05   -0.010702\n",
       "2012-06    0.010853\n",
       "2012-07    0.045822\n",
       "2012-08    0.122801\n",
       "2012-09    0.002796\n",
       "2012-10   -0.107600\n",
       "2012-11    0.015453\n",
       "2012-12   -0.090743\n",
       "Freq: M, Name: Adj Close, dtype: float64"
      ]
     },
     "execution_count": 76,
     "metadata": {},
     "output_type": "execute_result"
    },
    {
     "data": {
      "text/plain": [
       "Date\n",
       "2013-01   -0.144089\n",
       "2013-02    0.010033\n",
       "2013-03    0.002855\n",
       "2013-04    0.000271\n",
       "2013-05    0.064703\n",
       "2013-06   -0.118293\n",
       "2013-07    0.141225\n",
       "2013-08    0.128473\n",
       "2013-09   -0.021489\n",
       "2013-10    0.096382\n",
       "2013-11    0.108898\n",
       "2013-12    0.008902\n",
       "Freq: M, Name: Adj Close, dtype: float64"
      ]
     },
     "execution_count": 76,
     "metadata": {},
     "output_type": "execute_result"
    },
    {
     "data": {
      "text/plain": [
       "Date\n",
       "2014-01   -0.107697\n",
       "2014-02    0.096906\n",
       "2014-03    0.019953\n",
       "2014-04    0.099396\n",
       "2014-05    0.116113\n",
       "2014-06    0.027662\n",
       "2014-07    0.028731\n",
       "2014-08    0.077509\n",
       "2014-09   -0.017073\n",
       "2014-10    0.071960\n",
       "2014-11    0.105979\n",
       "2014-12   -0.071891\n",
       "Freq: M, Name: Adj Close, dtype: float64"
      ]
     },
     "execution_count": 76,
     "metadata": {},
     "output_type": "execute_result"
    },
    {
     "data": {
      "text/plain": [
       "Date\n",
       "2015-01    0.061424\n",
       "2015-02    0.100777\n",
       "2015-03   -0.031372\n",
       "2015-04    0.005786\n",
       "2015-05    0.045339\n",
       "2015-06   -0.037227\n",
       "2015-07   -0.032927\n",
       "2015-08   -0.066196\n",
       "2015-09   -0.021816\n",
       "2015-10    0.083409\n",
       "2015-11   -0.005804\n",
       "2015-12   -0.110228\n",
       "Freq: M, Name: Adj Close, dtype: float64"
      ]
     },
     "execution_count": 76,
     "metadata": {},
     "output_type": "execute_result"
    },
    {
     "data": {
      "text/plain": [
       "Date\n",
       "2016-01   -0.075242\n",
       "2016-02   -0.001287\n",
       "2016-03    0.127211\n",
       "2016-04   -0.139921\n",
       "2016-05    0.071773\n",
       "2016-06   -0.042660\n",
       "2016-07    0.090063\n",
       "2016-08    0.023652\n",
       "2016-09    0.065504\n",
       "2016-10    0.004334\n",
       "2016-11   -0.021601\n",
       "2016-12    0.047955\n",
       "Freq: M, Name: Adj Close, dtype: float64"
      ]
     },
     "execution_count": 76,
     "metadata": {},
     "output_type": "execute_result"
    },
    {
     "data": {
      "text/plain": [
       "Date\n",
       "2017-01    0.047746\n",
       "2017-02    0.133778\n",
       "2017-03    0.048690\n",
       "2017-04   -0.000070\n",
       "2017-05    0.067808\n",
       "2017-06   -0.057214\n",
       "2017-07    0.032704\n",
       "2017-08    0.106999\n",
       "2017-09   -0.060244\n",
       "2017-10    0.096808\n",
       "2017-11    0.020278\n",
       "2017-12   -0.015246\n",
       "Freq: M, Name: Adj Close, dtype: float64"
      ]
     },
     "execution_count": 76,
     "metadata": {},
     "output_type": "execute_result"
    },
    {
     "data": {
      "text/plain": [
       "Date\n",
       "2018-01   -0.010636\n",
       "2018-02    0.068185\n",
       "2018-03   -0.058051\n",
       "2018-04    0.003576\n",
       "Freq: M, Name: Adj Close, dtype: float64"
      ]
     },
     "execution_count": 76,
     "metadata": {},
     "output_type": "execute_result"
    }
   ],
   "source": [
    "# 구한 수로 특정기간동안의 누적수익 계산 가능.\n",
    "m_rets = (1+returns).resample('M',kind='period').prod()-1 \n",
    "m_rets['2012']\n",
    "m_rets['2013']\n",
    "m_rets['2014']\n",
    "m_rets['2015']\n",
    "m_rets['2016']\n",
    "m_rets['2017']\n",
    "m_rets['2018']"
   ]
  },
  {
   "cell_type": "code",
   "execution_count": 78,
   "metadata": {
    "collapsed": true
   },
   "outputs": [],
   "source": [
    "# 배당일과 배당비율을 안다면 일별 총 수익에 다음처럼 더하면 됨.\n",
    "# returns[dividend_dates] += dividend_pcts"
   ]
  },
  {
   "cell_type": "markdown",
   "metadata": {},
   "source": [
    "## 11.2: 그룹변환과 분석(Group transforms and analysis)"
   ]
  },
  {
   "cell_type": "code",
   "execution_count": 16,
   "metadata": {
    "collapsed": true
   },
   "outputs": [],
   "source": [
    "pd.options.display.max_rows = 100\n",
    "pd.options.display.max_columns = 10\n",
    "np.random.seed(12345)"
   ]
  },
  {
   "cell_type": "code",
   "execution_count": 17,
   "metadata": {
    "collapsed": true
   },
   "outputs": [],
   "source": [
    "# 임의로 1000개 주식종목 생성.\n",
    "import random; random.seed(0)\n",
    "import string\n",
    "N = 1000\n",
    "def rands(n):\n",
    "    choices = string.ascii_uppercase\n",
    "    return ''.join([random.choice(choices) for _ in range(n)])\n",
    "tickers = np.array([rands(5) for _ in range(N)])"
   ]
  },
  {
   "cell_type": "code",
   "execution_count": 18,
   "metadata": {},
   "outputs": [
    {
     "data": {
      "text/plain": [
       "       Momentum  ShortInterest     Value\n",
       "MYNBI  0.028976      -0.024918  0.076191\n",
       "QPMZJ  0.032395      -0.015345  0.078342\n",
       "PLSGQ  0.027403      -0.024058  0.071243\n",
       "EJEYD  0.027221      -0.029151  0.083144\n",
       "TZIRW  0.039829      -0.020694  0.081413\n",
       "ZTEJD  0.036967      -0.018330  0.073309\n",
       "XCVKP  0.030465      -0.017557  0.077497\n",
       "RDLNK  0.031409      -0.020890  0.080608\n",
       "TUGRP  0.033845      -0.009388  0.088542\n",
       "OQIBZ  0.036232      -0.019694  0.075145\n",
       "RACXM  0.035036      -0.015579  0.076903\n",
       "WZVUA  0.023519      -0.023043  0.076366\n",
       "TPKHX  0.031375      -0.020360  0.086108\n",
       "KWCGS  0.031145      -0.017280  0.082518\n",
       "HHZEZ  0.036765      -0.018381  0.073061\n",
       "ROCCK  0.034432      -0.028417  0.081024\n",
       "QPDJR  0.019992      -0.017366  0.083019\n",
       "JWDRK  0.028141      -0.010706  0.082728\n",
       "RGZTR  0.038345      -0.022742  0.081177\n",
       "SJOCT  0.027807      -0.021397  0.080559\n",
       "ZMKSH  0.027301      -0.020106  0.073742\n",
       "JFGFB  0.032385      -0.021440  0.065253\n",
       "TVIPC  0.046245      -0.019554  0.083173\n",
       "CVYEE  0.024894      -0.017386  0.080621\n",
       "BCWRV  0.027115      -0.017136  0.086488\n",
       "MWQIQ  0.030621      -0.028802  0.071565\n",
       "ZHGVS  0.031513      -0.014359  0.085448\n",
       "NSIOP  0.032619      -0.012157  0.090304\n",
       "VUWZL  0.030005      -0.021711  0.078794\n",
       "CKTDP  0.036719      -0.020049  0.075261\n",
       "SUKGH  0.026432      -0.019735  0.083381\n",
       "AXIDW  0.025844      -0.020210  0.076733\n",
       "HLZFK  0.018149      -0.028472  0.076739\n",
       "NBDZE  0.020696      -0.021812  0.082644\n",
       "WHBSU  0.025696      -0.014363  0.081789\n",
       "RTVCA  0.032801      -0.009081  0.080943\n",
       "DUGTS  0.023670      -0.025933  0.084347\n",
       "DMCLD  0.030599      -0.018329  0.079747\n",
       "BTAGF  0.024682      -0.025142  0.076418\n",
       "WDPGX  0.031664      -0.020842  0.079484\n",
       "ZBVAR  0.018203      -0.024995  0.074295\n",
       "NTDIC  0.029002      -0.027656  0.077496\n",
       "HCUJL  0.022290      -0.025396  0.078053\n",
       "NFBQO  0.025146      -0.025489  0.077631\n",
       "BTDWM  0.023465      -0.017974  0.080643\n",
       "GILXP  0.031432      -0.021136  0.080768\n",
       "SFWVG  0.031890      -0.027214  0.082224\n",
       "YBZVF  0.026231      -0.027113  0.080643\n",
       "FKQID  0.031656      -0.025616  0.081263\n",
       "TOVFA  0.036749      -0.018919  0.075297\n",
       "...         ...            ...       ...\n",
       "UWQDW  0.025448      -0.020863  0.075189\n",
       "YUWGT  0.028902      -0.016599  0.087628\n",
       "UTQDI  0.032040      -0.011962  0.084136\n",
       "WXTFM  0.026984      -0.018998  0.084562\n",
       "CZBAD  0.028194      -0.024170  0.079364\n",
       "LXPKD  0.032820      -0.021515  0.083172\n",
       "VOLSW  0.024717      -0.011684  0.072346\n",
       "IVPZY  0.036960      -0.024981  0.073546\n",
       "HFRRC  0.021194      -0.012391  0.077369\n",
       "YQFAU  0.025442      -0.018779  0.074339\n",
       "FQNTV  0.033292      -0.017883  0.077501\n",
       "GOWVM  0.022103      -0.023270  0.076358\n",
       "IASEM  0.032289      -0.009554  0.077084\n",
       "FOSBM  0.029084      -0.020301  0.081646\n",
       "ZCUSM  0.026573      -0.020840  0.075866\n",
       "KHQOB  0.030532      -0.016842  0.077316\n",
       "PTDIQ  0.028409      -0.027972  0.077185\n",
       "PRUMP  0.032169      -0.027600  0.084592\n",
       "IFHRL  0.032859      -0.014456  0.079603\n",
       "FJTEO  0.032836      -0.013721  0.078607\n",
       "CCPMS  0.030408      -0.020122  0.079348\n",
       "NRCIP  0.028488      -0.030240  0.073015\n",
       "HDJEL  0.026365      -0.021363  0.078776\n",
       "ZDEVB  0.030902      -0.028463  0.084151\n",
       "VESRG  0.027399      -0.012881  0.081204\n",
       "ABMRW  0.031990      -0.022039  0.075422\n",
       "YTPWW  0.025415      -0.016218  0.068874\n",
       "DPRLY  0.029587      -0.026443  0.076685\n",
       "KDVAH  0.020302      -0.015662  0.078394\n",
       "HPJIH  0.037040      -0.017124  0.082492\n",
       "APLQK  0.037562      -0.018479  0.081902\n",
       "CCJSN  0.032632      -0.010927  0.074665\n",
       "HXLMY  0.028665      -0.011826  0.081277\n",
       "EHJGX  0.034311      -0.028228  0.090556\n",
       "YPVZL  0.030419      -0.022036  0.076829\n",
       "JMTEY  0.020638      -0.021264  0.086844\n",
       "DMLQP  0.025186      -0.024473  0.075147\n",
       "HUWLU  0.030400      -0.015221  0.083271\n",
       "LNILM  0.030644      -0.028270  0.074141\n",
       "YYWJD  0.027604      -0.021313  0.079984\n",
       "PJDOE  0.026799      -0.024880  0.076272\n",
       "LHXFK  0.033730      -0.027467  0.087991\n",
       "PHDVM  0.026887      -0.014161  0.075433\n",
       "MOQOS  0.034681      -0.015155  0.092015\n",
       "THVMQ  0.033750      -0.032682  0.077053\n",
       "JPHKQ  0.029716      -0.018186  0.080538\n",
       "VACPK  0.041503      -0.025981  0.079304\n",
       "MHNBS  0.032847      -0.011815  0.074200\n",
       "YBNCI  0.037447      -0.018743  0.083095\n",
       "GXKFD  0.036321      -0.011877  0.086869\n",
       "\n",
       "[500 rows x 3 columns]"
      ]
     },
     "execution_count": 18,
     "metadata": {},
     "output_type": "execute_result"
    }
   ],
   "source": [
    "# 주식종목에 사용할 3개 컬럼을 가지는 dataframe 생성.\n",
    "M = 500\n",
    "df = DataFrame({'Momentum' : np.random.randn(M) / 200 + 0.03,\n",
    "                'Value' : np.random.randn(M) / 200 + 0.08,\n",
    "                'ShortInterest' : np.random.randn(M) / 200 - 0.02},\n",
    "                index=tickers[:M])\n",
    "df"
   ]
  },
  {
   "cell_type": "code",
   "execution_count": 19,
   "metadata": {
    "collapsed": true
   },
   "outputs": [],
   "source": [
    "# 산업테마 생성.\n",
    "ind_names = np.array(['FINANCIAL', 'TECH'])\n",
    "sampler = np.random.randint(0, len(ind_names), N)\n",
    "industries = Series(ind_names[sampler], index=tickers,\n",
    "                    name='industry')"
   ]
  },
  {
   "cell_type": "code",
   "execution_count": 20,
   "metadata": {},
   "outputs": [
    {
     "data": {
      "text/plain": [
       "           Momentum  ShortInterest     Value\n",
       "industry                                    \n",
       "FINANCIAL  0.029485      -0.020739  0.079929\n",
       "TECH       0.030407      -0.019609  0.080113"
      ]
     },
     "execution_count": 20,
     "metadata": {},
     "output_type": "execute_result"
    }
   ],
   "source": [
    "# 산업테마별 그룹집계 및 변환\n",
    "by_industry = df.groupby(industries)\n",
    "by_industry.mean()"
   ]
  },
  {
   "cell_type": "code",
   "execution_count": 21,
   "metadata": {},
   "outputs": [
    {
     "data": {
      "text/plain": [
       "          Momentum                                            ...     \\\n",
       "             count      mean       std       min       25%    ...      \n",
       "industry                                                      ...      \n",
       "FINANCIAL    246.0  0.029485  0.004802  0.017210  0.026263    ...      \n",
       "TECH         254.0  0.030407  0.005303  0.016778  0.026456    ...      \n",
       "\n",
       "              Value                                          \n",
       "                min       25%       50%       75%       max  \n",
       "industry                                                     \n",
       "FINANCIAL  0.067025  0.076638  0.079804  0.082718  0.093334  \n",
       "TECH       0.065253  0.076737  0.080296  0.083353  0.093081  \n",
       "\n",
       "[2 rows x 24 columns]"
      ]
     },
     "execution_count": 21,
     "metadata": {},
     "output_type": "execute_result"
    }
   ],
   "source": [
    "by_industry.describe()"
   ]
  },
  {
   "cell_type": "code",
   "execution_count": 22,
   "metadata": {
    "collapsed": true
   },
   "outputs": [],
   "source": [
    "# 산업별 표준화 함수\n",
    "def zscore(group):\n",
    "    return (group - group.mean() / group.std())\n",
    "\n",
    "df_stand = by_industry.apply(zscore)"
   ]
  },
  {
   "cell_type": "code",
   "execution_count": 26,
   "metadata": {},
   "outputs": [
    {
     "data": {
      "text/plain": [
       "           Momentum           ShortInterest                Value          \n",
       "               mean       std          mean       std       mean       std\n",
       "industry                                                                  \n",
       "FINANCIAL -6.111162  0.004802      4.139174  0.004986 -17.493166  0.004548\n",
       "TECH      -5.703876  0.005303      3.844630  0.005074 -16.315139  0.004886"
      ]
     },
     "execution_count": 26,
     "metadata": {},
     "output_type": "execute_result"
    }
   ],
   "source": [
    "df_stand.groupby(industries).agg(['mean','std'])"
   ]
  },
  {
   "cell_type": "code",
   "execution_count": 28,
   "metadata": {},
   "outputs": [
    {
     "data": {
      "text/plain": [
       "          Momentum        ShortInterest        Value       \n",
       "               min    max           min    max   min    max\n",
       "industry                                                   \n",
       "FINANCIAL      1.0  246.0           1.0  246.0   1.0  246.0\n",
       "TECH           1.0  254.0           1.0  254.0   1.0  254.0"
      ]
     },
     "execution_count": 28,
     "metadata": {},
     "output_type": "execute_result"
    }
   ],
   "source": [
    "# 산업 테마별 순위\n",
    "ind_rank = by_industry.rank(ascending=False)\n",
    "ind_rank.groupby(industries).agg(['min','max'])"
   ]
  },
  {
   "cell_type": "code",
   "execution_count": 55,
   "metadata": {},
   "outputs": [
    {
     "data": {
      "text/plain": [
       "         Momentum  ShortInterest       Value\n",
       "MYNBI  115.264432      52.264432   50.264432\n",
       "QPMZJ  178.264432     214.264432   96.264432\n",
       "PLSGQ   83.264432      62.264432    2.264432\n",
       "EJEYD   80.264432       6.264432  192.264432\n",
       "TZIRW  241.264543     106.264543  153.264543\n",
       "ZTEJD  228.264543     152.264543   20.264543\n",
       "XCVKP  120.264543     172.264543   77.264543\n",
       "RDLNK  143.264543     102.264543  133.264543\n",
       "TUGRP  198.264432     240.264432  234.264432\n",
       "OQIBZ  222.264432     147.264432   28.264432\n",
       "RACXM  209.264432     211.264432   63.264432\n",
       "WZVUA   20.264432      77.264432   55.264432\n",
       "TPKHX  142.264543     114.264543  222.264543\n",
       "KWCGS  136.264543     180.264543  171.264543\n",
       "HHZEZ  231.264432     164.264432   10.264432\n",
       "ROCCK  201.264432      14.264432  152.264432\n",
       "QPDJR    5.264543     177.264543  181.264543\n",
       "JWDRK   86.264543     241.264543  178.264543\n",
       "RGZTR  238.264432      82.264432  153.264432\n",
       "SJOCT   80.264543      91.264543  132.264543\n",
       "ZMKSH   82.264432     140.264432   17.264432\n",
       "JFGFB  164.264543      89.264543   -0.735457\n",
       "TVIPC  251.264543     128.264543  184.264543\n",
       "CVYEE   33.264543     175.264543  134.264543\n",
       "BCWRV   76.264432     187.264432  223.264432\n",
       "MWQIQ  124.264543       7.264543    6.264543\n",
       "ZHGVS  145.264543     212.264543  219.264543\n",
       "NSIOP  181.264432     232.264432  241.264432\n",
       "VUWZL  115.264543      84.264543  103.264543\n",
       "CKTDP  228.264432     143.264432   32.264432\n",
       "SUKGH   62.264543     127.264543  189.264543\n",
       "AXIDW   53.264543     118.264543   61.264543\n",
       "HLZFK    3.264543       9.264543   63.264543\n",
       "NBDZE    6.264432     103.264432  181.264432\n",
       "WHBSU   53.264432     223.264432  163.264432\n",
       "RTVCA  172.264543     247.264543  142.264543\n",
       "DUGTS   22.264432      33.264432  203.264432\n",
       "DMCLD  154.264432     167.264432  121.264432\n",
       "BTAGF   36.264432      44.264432   56.264432\n",
       "WDPGX  164.264432     120.264432  118.264432\n",
       "ZBVAR    0.264432      50.264432   20.264432\n",
       "NTDIC  116.264432      18.264432   85.264432\n",
       "HCUJL   14.264543      30.264543   92.264543\n",
       "NFBQO   43.264432      40.264432   87.264432\n",
       "BTDWM   21.264543     161.264543  136.264543\n",
       "GILXP  159.264432     117.264432  143.264432\n",
       "SFWVG  147.264543      18.264543  166.264543\n",
       "YBZVF   58.264432      20.264432  139.264432\n",
       "FKQID  163.264432      37.264432  155.264432\n",
       "TOVFA  226.264543     139.264543   41.264543\n",
       "...           ...            ...         ...\n",
       "UWQDW   47.264543     104.264543   40.264543\n",
       "YUWGT  114.264432     194.264432  230.264432\n",
       "UTQDI  151.264543     232.264543  200.264543\n",
       "WXTFM   74.264432     157.264432  207.264432\n",
       "CZBAD  101.264432      59.264432  116.264432\n",
       "LXPKD  183.264432     110.264432  193.264432\n",
       "VOLSW   30.264543     236.264543   11.264543\n",
       "IVPZY  227.264543      31.264543   22.264543\n",
       "HFRRC    9.264432     231.264432   75.264432\n",
       "YQFAU   46.264543     141.264543   32.264543\n",
       "FQNTV  183.264543     162.264543   78.264543\n",
       "GOWVM   14.264432      74.264432   54.264432\n",
       "IASEM  161.264543     246.264543   68.264543\n",
       "FOSBM  101.264543     117.264543  158.264543\n",
       "ZCUSM   64.264432     121.264432   47.264432\n",
       "KHQOB  151.264432     190.264432   73.264432\n",
       "PTDIQ   89.264543      12.264543   71.264543\n",
       "PRUMP  155.264543      15.264543  205.264543\n",
       "IFHRL  177.264543     211.264543  117.264543\n",
       "FJTEO  174.264543     220.264543   98.264543\n",
       "CCPMS  147.264432     139.264432  114.264432\n",
       "NRCIP   91.264543       4.264543   16.264543\n",
       "HDJEL   62.264432     113.264432  109.264432\n",
       "ZDEVB  156.264432      12.264432  200.264432\n",
       "VESRG   75.264543     226.264543  146.264543\n",
       "ABMRW  149.264543      78.264543   43.264543\n",
       "YTPWW   46.264432     201.264432    0.264432\n",
       "DPRLY  107.264543      20.264543   60.264543\n",
       "KDVAH    5.264432     209.264432   97.264432\n",
       "HPJIH  229.264543     185.264543  169.264543\n",
       "APLQK  233.264543     146.264543  160.264543\n",
       "CCJSN  168.264543     239.264543   33.264543\n",
       "HXLMY   95.264543     234.264543  149.264543\n",
       "EHJGX  200.264543      11.264543  249.264543\n",
       "YPVZL  119.264543      79.264543   64.264543\n",
       "JMTEY    6.264543      96.264543  225.264543\n",
       "DMLQP   44.264432      58.264432   29.264432\n",
       "HUWLU  146.264432     216.264432  196.264432\n",
       "LNILM  125.264543      10.264543   28.264543\n",
       "YYWJD   78.264543      94.264543  120.264543\n",
       "PJDOE   69.264432      54.264432   53.264432\n",
       "LHXFK  196.264432      19.264432  233.264432\n",
       "PHDVM   71.264432     225.264432   38.264432\n",
       "MOQOS  205.264543     207.264543  251.264543\n",
       "THVMQ  191.264543      -0.735457   67.264543\n",
       "JPHKQ  108.264543     155.264543  131.264543\n",
       "VACPK  249.264543      23.264543  108.264543\n",
       "MHNBS  175.264543     235.264543   29.264543\n",
       "YBNCI  237.264432     160.264432  191.264432\n",
       "GXKFD  220.264543     233.264543  227.264543\n",
       "\n",
       "[500 rows x 3 columns]"
      ]
     },
     "execution_count": 55,
     "metadata": {},
     "output_type": "execute_result"
    }
   ],
   "source": [
    "# 산업순위와 표준화\n",
    "by_industry.apply(lambda x : zscore(x.rank()))"
   ]
  },
  {
   "cell_type": "markdown",
   "metadata": {},
   "source": [
    "### 11.2.1: 그룹요인 밝히기(Group factor exposures)"
   ]
  },
  {
   "cell_type": "code",
   "execution_count": 70,
   "metadata": {
    "collapsed": true
   },
   "outputs": [],
   "source": [
    "# 가상 포트폴리오 예제\n",
    "from numpy.random import rand\n",
    "fac1,fac2,fac3 = np.random.rand(3,1000)\n",
    "ticker_subset = tickers.take(np.random.permutation(N)[:1000])\n",
    "# 임의의 값을 추가한 요인들의 가중합.\n",
    "port = Series(0.7 * fac1 - 1.2 * fac2 + 0.3 * fac3 + rand(1000),\n",
    "              index=ticker_subset)\n",
    "factors = DataFrame({'f1': fac1, 'f2': fac2, 'f3': fac3},\n",
    "                    index=ticker_subset)"
   ]
  },
  {
   "cell_type": "code",
   "execution_count": 73,
   "metadata": {},
   "outputs": [
    {
     "data": {
      "text/plain": [
       "f1    0.396948\n",
       "f2   -0.689393\n",
       "f3    0.196872\n",
       "dtype: float64"
      ]
     },
     "execution_count": 73,
     "metadata": {},
     "output_type": "execute_result"
    }
   ],
   "source": [
    "# 포트폴리오 상관관계\n",
    "factors.corrwith(port)"
   ]
  },
  {
   "cell_type": "code",
   "execution_count": 83,
   "metadata": {},
   "outputs": [
    {
     "data": {
      "text/plain": [
       "'\\ndef beta_exposure(chunk, factors=None):\\n    return pd.ols(y=chunk, x=factors).beta\\n'"
      ]
     },
     "execution_count": 83,
     "metadata": {},
     "output_type": "execute_result"
    },
    {
     "data": {
      "text/plain": [
       "'\\nby_ind = port.groupby(industries)\\nexposures = by_ind.apply(beta_exposure, factors=factors)\\nexposures.unstack()\\n'"
      ]
     },
     "execution_count": 83,
     "metadata": {},
     "output_type": "execute_result"
    }
   ],
   "source": [
    "# pd.ols(y=port, x=factors).beta  : pandas에서 ols는 현재 지워졌음.\n",
    "\"\"\"\n",
    "def beta_exposure(chunk, factors=None):\n",
    "    return pd.ols(y=chunk, x=factors).beta\n",
    "\"\"\"\n",
    "\"\"\"\n",
    "by_ind = port.groupby(industries)\n",
    "exposures = by_ind.apply(beta_exposure, factors=factors)\n",
    "exposures.unstack()\n",
    "\"\"\""
   ]
  },
  {
   "cell_type": "markdown",
   "metadata": {},
   "source": [
    "### 11.2.2: 십분위와 사분위 분석(Decile and quartile analysis)\n",
    "- 금융분석시 표본 변위치에 기반한 데이터 분석은 중요함.\n",
    "- (예) 주식 포트폴리오의 실적은 주식가격과 수익에 기반하여 분기별로 계산.\n",
    "- pandas.qcut, groupby > 손쉽게 사분위 분석."
   ]
  },
  {
   "cell_type": "code",
   "execution_count": 102,
   "metadata": {},
   "outputs": [
    {
     "name": "stdout",
     "output_type": "stream",
     "text": [
      "<class 'pandas.core.frame.DataFrame'>\n",
      "DatetimeIndex: 3106 entries, 2006-01-03 to 2018-05-04\n",
      "Data columns (total 6 columns):\n",
      "Open         3106 non-null float64\n",
      "High         3106 non-null float64\n",
      "Low          3106 non-null float64\n",
      "Close        3106 non-null float64\n",
      "Adj Close    3106 non-null float64\n",
      "Volume       3106 non-null int64\n",
      "dtypes: float64(5), int64(1)\n",
      "memory usage: 169.9 KB\n"
     ]
    }
   ],
   "source": [
    "from pandas_datareader import data as web\n",
    "data = web.get_data_yahoo('SPY','2006-01-01')\n",
    "data.info()"
   ]
  },
  {
   "cell_type": "code",
   "execution_count": 103,
   "metadata": {},
   "outputs": [
    {
     "data": {
      "text/plain": [
       "                  Open        High         Low       Close   Adj Close  \\\n",
       "Date                                                                     \n",
       "2006-01-03  125.190002  127.000000  124.389999  126.699997   98.705383   \n",
       "2006-01-04  126.860001  127.489998  126.699997  127.300003   99.172829   \n",
       "2006-01-05  127.150002  127.589996  126.879997  127.379997   99.235146   \n",
       "2006-01-06  128.020004  128.580002  127.360001  128.440002  100.060951   \n",
       "2006-01-09  128.419998  129.059998  128.380005  128.770004  100.318024   \n",
       "\n",
       "              Volume  \n",
       "Date                  \n",
       "2006-01-03  73256700  \n",
       "2006-01-04  51899600  \n",
       "2006-01-05  47307500  \n",
       "2006-01-06  62885900  \n",
       "2006-01-09  43527400  "
      ]
     },
     "execution_count": 103,
     "metadata": {},
     "output_type": "execute_result"
    }
   ],
   "source": [
    "data.head()"
   ]
  },
  {
   "cell_type": "code",
   "execution_count": 106,
   "metadata": {
    "collapsed": true
   },
   "outputs": [],
   "source": [
    "px = data['Adj Close']\n",
    "returns = px.pct_change()\n",
    "\n",
    "def to_index(rets):\n",
    "    index = (1 + rets).cumprod()\n",
    "    first_loc = max(index.index.get_loc(index.idxmax()) - 1, 0)\n",
    "    index.values[first_loc] = 1\n",
    "    return index\n",
    "\n",
    "def trend_signal(rets, lookback, lag):\n",
    "    signal = pd.rolling_sum(rets, lookback, min_periods=lookback - 5)\n",
    "    return signal.shift(lag)"
   ]
  },
  {
   "cell_type": "code",
   "execution_count": 114,
   "metadata": {},
   "outputs": [
    {
     "name": "stderr",
     "output_type": "stream",
     "text": [
      "C:\\Users\\hwany\\Anaconda3\\envs\\py36\\lib\\site-packages\\ipykernel_launcher.py:11: FutureWarning: pd.rolling_sum is deprecated for Series and will be removed in a future version, replace with \n",
      "\tSeries.rolling(window=100,min_periods=95,center=False).sum()\n",
      "  # This is added back by InteractiveShellApp.init_path()\n",
      "C:\\Users\\hwany\\Anaconda3\\envs\\py36\\lib\\site-packages\\ipykernel_launcher.py:3: FutureWarning: \n",
      ".resample() is now a deferred operation\n",
      "You called resample(...) on this deferred object which materialized it into a series\n",
      "by implicitly taking the mean.  Use .resample(...).mean() instead\n",
      "  This is separate from the ipykernel package so we can avoid doing imports until\n"
     ]
    }
   ],
   "source": [
    "# 매주 금요일의 모멘텀 신호 거래 투자 전략 만들기.\n",
    "signal = trend_signal(returns, 100, 3)\n",
    "trade_friday = signal.resample('W-FRI').resample('B').ffill()\n",
    "trade_rets = trade_friday.shift(1) * returns\n",
    "trade_rets = trade_rets[:len(returns)]"
   ]
  },
  {
   "cell_type": "code",
   "execution_count": 116,
   "metadata": {},
   "outputs": [
    {
     "data": {
      "text/plain": [
       "<matplotlib.axes._subplots.AxesSubplot at 0x27d111c3518>"
      ]
     },
     "execution_count": 116,
     "metadata": {},
     "output_type": "execute_result"
    },
    {
     "data": {
      "image/png": "[encoded data removed]",
      "text/plain": [
       "<matplotlib.figure.Figure at 0x27d110ae1d0>"
      ]
     },
     "metadata": {},
     "output_type": "display_data"
    }
   ],
   "source": [
    "# 수익지수로 변환 후 그래프.(모멘텀 전략 수익지수)\n",
    "to_index (trade_rets).plot()"
   ]
  },
  {
   "cell_type": "code",
   "execution_count": 121,
   "metadata": {},
   "outputs": [
    {
     "name": "stderr",
     "output_type": "stream",
     "text": [
      "C:\\Users\\hwany\\Anaconda3\\envs\\py36\\lib\\site-packages\\ipykernel_launcher.py:1: FutureWarning: pd.rolling_std is deprecated for Series and will be removed in a future version, replace with \n",
      "\tSeries.rolling(window=250,min_periods=200,center=False).std()\n",
      "  \"\"\"Entry point for launching an IPython kernel.\n"
     ]
    }
   ],
   "source": [
    "# 연간 환산 표준편차는 변동성의 자표 > 샤프지수 계싼.\n",
    "vol = pd.rolling_std(returns, 250, min_periods=200) * np.sqrt(250)\n",
    "\n",
    "def sharpe(rets, ann=250):\n",
    "    return rets.mean() / rets.std()  * np.sqrt(ann)"
   ]
  },
  {
   "cell_type": "code",
   "execution_count": 123,
   "metadata": {},
   "outputs": [
    {
     "name": "stdout",
     "output_type": "stream",
     "text": [
      "cats: 3106, trade_rets: 3106, vol: 3106\n"
     ]
    }
   ],
   "source": [
    "cats = pd.qcut(vol, 4) # qcut 사분위로 나눔.\n",
    "print('cats: %d, trade_rets: %d, vol: %d' % (len(cats), len(trade_rets), len(vol)))"
   ]
  },
  {
   "cell_type": "code",
   "execution_count": 125,
   "metadata": {},
   "outputs": [
    {
     "data": {
      "text/plain": [
       "Adj Close\n",
       "(0.066, 0.113]    0.931350\n",
       "(0.113, 0.147]    0.680152\n",
       "(0.147, 0.189]   -0.128331\n",
       "(0.189, 0.457]    0.359142\n",
       "Name: Adj Close, dtype: float64"
      ]
     },
     "execution_count": 125,
     "metadata": {},
     "output_type": "execute_result"
    }
   ],
   "source": [
    "trade_rets.groupby(cats).agg(sharpe)"
   ]
  },
  {
   "cell_type": "markdown",
   "metadata": {},
   "source": [
    "## 11.3: 추가 예제 애플리케이션(More example applications)"
   ]
  },
  {
   "cell_type": "markdown",
   "metadata": {},
   "source": [
    "### 11.3.1: 신호 경계 분석(Signal frontier analysis)"
   ]
  },
  {
   "cell_type": "code",
   "execution_count": 23,
   "metadata": {},
   "outputs": [
    {
     "name": "stdout",
     "output_type": "stream",
     "text": [
      "[*********************100%***********************]  1 of 1 downloaded\n",
      "[*********************100%***********************]  1 of 1 downloaded\n",
      "[*********************100%***********************]  1 of 1 downloaded\n",
      "[*********************100%***********************]  1 of 1 downloaded\n",
      "[*********************100%***********************]  1 of 1 downloaded\n",
      "[*********************100%***********************]  1 of 1 downloaded\n",
      "[*********************100%***********************]  1 of 1 downloaded\n"
     ]
    }
   ],
   "source": [
    "yf.pdr_override()\n",
    "names = ['AAPL', 'GOOG', 'MSFT','GS', 'MS', 'BAC', 'C'] # DELL 주식은 adj Close 에러나서 뺐음\n",
    "def get_px(stock, start, end):\n",
    "    return web.get_data_yahoo(stock, start, end)['Adj Close']\n",
    "st = '2009-01-01'\n",
    "nd = '2018-06-01'\n",
    "px = DataFrame({n: get_px(n, st, nd) for n in names})"
   ]
  },
  {
   "cell_type": "code",
   "execution_count": 24,
   "metadata": {},
   "outputs": [
    {
     "data": {
      "text/plain": [
       "                  AAPL        BAC          C         GOOG          GS  \\\n",
       "Date                                                                    \n",
       "2008-12-31    8.222328  13.012504  64.511612   152.830978   74.603447   \n",
       "2009-01-02    8.742546  13.243549  68.645760   159.621811   76.698608   \n",
       "2009-01-05    9.111515  12.920083  68.068916   162.965073   78.484337   \n",
       "2009-01-06    8.961231  13.197339  71.722313   165.950653   78.422478   \n",
       "2009-01-07    8.767592  12.670556  68.741882   159.964584   74.700706   \n",
       "2009-01-08    8.930403  12.513443  68.838028   161.544312   75.505180   \n",
       "...                ...        ...        ...          ...         ...   \n",
       "2018-05-23  188.360001  30.316135  70.239998  1079.689941  236.972015   \n",
       "2018-05-24  188.149994  30.087070  69.309998  1079.239990  235.268051   \n",
       "2018-05-25  188.580002  30.037273  68.440002  1075.660034  234.181870   \n",
       "2018-05-29  187.899994  28.842157  65.709999  1060.319946  226.229996   \n",
       "2018-05-30  187.500000  29.370001  66.680000  1067.800049  229.160004   \n",
       "2018-05-31  186.869995  29.040001  66.690002  1084.989990  225.880005   \n",
       "\n",
       "                   MS       MSFT  \n",
       "Date                              \n",
       "2008-12-31  13.971980  15.295828  \n",
       "2009-01-02  14.799498  15.996102  \n",
       "2009-01-05  15.348276  16.145594  \n",
       "2009-01-06  17.055571  16.334438  \n",
       "2009-01-07  15.766388  15.350908  \n",
       "2009-01-08  16.393562  15.830869  \n",
       "...               ...        ...  \n",
       "2018-05-23  54.349998  98.660004  \n",
       "2018-05-24  54.000000  98.309998  \n",
       "2018-05-25  53.009998  98.360001  \n",
       "2018-05-29  49.959999  98.010002  \n",
       "2018-05-30  50.970001  98.949997  \n",
       "2018-05-31  50.139999  98.839996  \n",
       "\n",
       "[2370 rows x 7 columns]"
      ]
     },
     "execution_count": 24,
     "metadata": {},
     "output_type": "execute_result"
    }
   ],
   "source": [
    "px"
   ]
  },
  {
   "cell_type": "code",
   "execution_count": 25,
   "metadata": {
    "collapsed": true
   },
   "outputs": [],
   "source": [
    "# px = pd.read_csv('ch11/stock_px.csv')\n",
    "# px"
   ]
  },
  {
   "cell_type": "code",
   "execution_count": 26,
   "metadata": {
    "collapsed": true
   },
   "outputs": [],
   "source": [
    "plt.close('all')"
   ]
  },
  {
   "cell_type": "code",
   "execution_count": 27,
   "metadata": {},
   "outputs": [
    {
     "data": {
      "text/plain": [
       "<matplotlib.axes._subplots.AxesSubplot at 0x1faeff2a748>"
      ]
     },
     "execution_count": 27,
     "metadata": {},
     "output_type": "execute_result"
    },
    {
     "data": {
      "image/png": "[encoded data removed]",
      "text/plain": [
       "<matplotlib.figure.Figure at 0x1faeff0c160>"
      ]
     },
     "metadata": {},
     "output_type": "display_data"
    }
   ],
   "source": [
    "px = px.asfreq('B').fillna(method='pad')\n",
    "rets = px.pct_change()\n",
    "((1 + rets).cumprod()-1).plot()"
   ]
  },
  {
   "cell_type": "code",
   "execution_count": 28,
   "metadata": {
    "collapsed": true
   },
   "outputs": [],
   "source": [
    "# 포트폴리오 생성을 위한 특정 과거 모멘텀을 계산 후 내림차순 정렬 후 표준화.\n",
    "def calc_mom(price, lookback, lag):\n",
    "    mom_ret = price.shift(lag).pct_change(lookback)\n",
    "    ranks = mom_ret.rank(axis=1, ascending=False)\n",
    "    demeaned = ranks.subtract(ranks.mean(axis=1), axis=0)\n",
    "    return demeaned.divide(demeaned.std(axis=1), axis=0)"
   ]
  },
  {
   "cell_type": "code",
   "execution_count": 29,
   "metadata": {
    "collapsed": true
   },
   "outputs": [],
   "source": [
    "# 변환함수를 이용하여 특정 과거의 포트폴리오와 보유기간(매매기간)을 계산하고 전체 샤프지수를 반환하는 백테스트 함수 준비.\n",
    "compound = lambda x: (1 + x).prod() - 1\n",
    "daily_sr = lambda x: x.mean() / x.std()\n",
    "\n",
    "def strat_sr(prices,lb,hold):\n",
    "    # Compute portfolio weights(포트폴리오 가중치 계산)\n",
    "    freq = '%dB'% hold\n",
    "    port = calc_mom(prices, lb, lag=1)\n",
    "    \n",
    "    daily_rets = prices.pct_change()\n",
    "    \n",
    "    # Compute portfolio returns(포트폴리오 수익 계산)\n",
    "    port = port.shift(1).resample(freq, how='first')\n",
    "    returns = daily_rets.resample(freq, how=compound)\n",
    "    port_rets = (port * returns).sum(axis=1)\n",
    "    \n",
    "    return daily_sr(port_rets) * np.sqrt(252 / hold)"
   ]
  },
  {
   "cell_type": "code",
   "execution_count": 31,
   "metadata": {},
   "outputs": [
    {
     "name": "stderr",
     "output_type": "stream",
     "text": [
      "C:\\Users\\hwany\\Anaconda3\\envs\\py36\\lib\\site-packages\\ipykernel_launcher.py:13: FutureWarning: how in .resample() is deprecated\n",
      "the new syntax is .resample(...).first()\n",
      "  del sys.path[0]\n",
      "C:\\Users\\hwany\\Anaconda3\\envs\\py36\\lib\\site-packages\\ipykernel_launcher.py:14: FutureWarning: how in .resample() is deprecated\n",
      "the new syntax is .resample(...)..apply(<func>)\n",
      "  \n"
     ]
    },
    {
     "data": {
      "text/plain": [
       "0.077500463033796332"
      ]
     },
     "execution_count": 31,
     "metadata": {},
     "output_type": "execute_result"
    }
   ],
   "source": [
    "strat_sr(px, 70, 30)"
   ]
  },
  {
   "cell_type": "code",
   "execution_count": 34,
   "metadata": {},
   "outputs": [
    {
     "name": "stderr",
     "output_type": "stream",
     "text": [
      "C:\\Users\\hwany\\Anaconda3\\envs\\py36\\lib\\site-packages\\ipykernel_launcher.py:13: FutureWarning: how in .resample() is deprecated\n",
      "the new syntax is .resample(...).first()\n",
      "  del sys.path[0]\n",
      "C:\\Users\\hwany\\Anaconda3\\envs\\py36\\lib\\site-packages\\ipykernel_launcher.py:14: FutureWarning: how in .resample() is deprecated\n",
      "the new syntax is .resample(...)..apply(<func>)\n",
      "  \n"
     ]
    }
   ],
   "source": [
    "# 매개변수 그리드 위에서 strat_sr함수를 수행 후 defaultdict에 저장하고 dataframe으로 만듦.\n",
    "from collections import defaultdict\n",
    "lookbacks = range(20,90,5)\n",
    "holdings = range(20,90,5)\n",
    "dd = defaultdict(dict)\n",
    "for lb in lookbacks:\n",
    "    for hold in holdings:\n",
    "        dd[lb][hold] = strat_sr(px,lb,hold)\n",
    "\n",
    "ddf = DataFrame(dd)\n",
    "ddf.index.name = 'Holding Period'\n",
    "ddf.columns.name = 'Lookback Period'"
   ]
  },
  {
   "cell_type": "code",
   "execution_count": 38,
   "metadata": {
    "collapsed": true
   },
   "outputs": [],
   "source": [
    "def heatmap(df, cmap=plt.cm.gray_r):\n",
    "    fig = plt.figure()\n",
    "    ax = fig.add_subplot(111)\n",
    "    axim = ax.imshow(df.values, cmap=cmap, interpolation='nearest')\n",
    "    ax.set_xlabel(df.columns.name)\n",
    "    ax.set_xticks(np.arange(len(df.columns)))\n",
    "    ax.set_ylabel(df.index.name)\n",
    "    ax.set_yticks(np.arange(len(df.index)))\n",
    "    ax.set_yticklabels(list(df.index))\n",
    "    plt.colorbar(axim)    "
   ]
  },
  {
   "cell_type": "code",
   "execution_count": 40,
   "metadata": {},
   "outputs": [
    {
     "data": {
      "image/png": "[encoded data removed]",
      "text/plain": [
       "<matplotlib.figure.Figure at 0x1faf161e6a0>"
      ]
     },
     "metadata": {},
     "output_type": "display_data"
    }
   ],
   "source": [
    "heatmap(ddf) # 히트맵 형식으로 결과보기."
   ]
  },
  {
   "cell_type": "markdown",
   "metadata": {},
   "source": [
    "### 11.3.2: 선물 계약 롤링(Future contract rolling)\n",
    "- rolling(롤링) : 만기 거래에서 다음 거래로 갈아타는 것.\n",
    "- 언제? 얼마나 빨리 실제로 만기계약을 거래하고 다음거래로 갈아타야할까? > 전략을 짤때 필요"
   ]
  },
  {
   "cell_type": "code",
   "execution_count": 41,
   "metadata": {
    "collapsed": true
   },
   "outputs": [],
   "source": [
    "pd.options.display.max_rows = 10"
   ]
  },
  {
   "cell_type": "code",
   "execution_count": 49,
   "metadata": {},
   "outputs": [
    {
     "name": "stdout",
     "output_type": "stream",
     "text": [
      "[*********************100%***********************]  1 of 1 downloaded\n"
     ]
    },
    {
     "data": {
      "text/plain": [
       "Date\n",
       "2010-01-04     955.28107\n",
       "2010-01-05     957.80975\n",
       "2010-01-06     958.48396\n",
       "2010-01-07     962.53014\n",
       "2010-01-08     965.73311\n",
       "                 ...    \n",
       "2018-06-11    2773.14758\n",
       "2018-06-12    2776.73157\n",
       "2018-06-13    2767.87109\n",
       "2018-06-14    2774.84009\n",
       "2018-06-15    2771.30005\n",
       "Name: Adj Close, Length: 2128, dtype: float64"
      ]
     },
     "execution_count": 49,
     "metadata": {},
     "output_type": "execute_result"
    }
   ],
   "source": [
    "# S&P500 지수 대리로 SPY 장내거래펀드 가격을 사용.\n",
    "px = web.get_data_yahoo('SPY','2010-01-02')['Adj Close'] * 10\n",
    "px"
   ]
  },
  {
   "cell_type": "code",
   "execution_count": 53,
   "metadata": {
    "collapsed": true
   },
   "outputs": [],
   "source": [
    "# S&P500 선물계약과 만기일을 Series에 저장.\n",
    "from datetime import datetime\n",
    "expiry = {'ESU2': datetime(2012, 9, 21),\n",
    "          'ESZ2': datetime(2012, 12, 21)}\n",
    "expiry = Series(expiry).sort_values()"
   ]
  },
  {
   "cell_type": "code",
   "execution_count": 55,
   "metadata": {},
   "outputs": [
    {
     "data": {
      "text/plain": [
       "ESU2   2012-09-21\n",
       "ESZ2   2012-12-21\n",
       "dtype: datetime64[ns]"
      ]
     },
     "execution_count": 55,
     "metadata": {},
     "output_type": "execute_result"
    }
   ],
   "source": [
    "expiry"
   ]
  },
  {
   "cell_type": "code",
   "execution_count": 56,
   "metadata": {
    "collapsed": true
   },
   "outputs": [],
   "source": [
    "# 야후! 금융가격정보를 임의적으로 약간 변경하여 두계약을 선물로 가정.\n",
    "np.random.seed(12347)\n",
    "N = 200\n",
    "walk = (np.random.randint(0,200, size=N) - 100) * 0.25\n",
    "perturb = (np.random.randint(0,20, size=N) - 10) * 0.25\n",
    "walk = walk.cumsum()\n",
    "\n",
    "rng = pd.date_range(px.index[0], periods=len(px)+N, freq='B')\n",
    "near = np.concatenate([px.values, px.values[-1] + walk])\n",
    "far = np.concatenate([px.values, px.values[-1] + walk + perturb])\n",
    "prices = DataFrame({'ESU2': near, 'ESZ2': far}, index=rng)"
   ]
  },
  {
   "cell_type": "code",
   "execution_count": 58,
   "metadata": {},
   "outputs": [
    {
     "data": {
      "text/plain": [
       "                  ESU2        ESZ2\n",
       "2018-11-29  2800.55005  2802.30005\n",
       "2018-11-30  2786.80005  2789.05005\n",
       "2018-12-03  2794.80005  2796.55005\n",
       "2018-12-04  2811.30005  2810.55005\n",
       "2018-12-05  2791.30005  2789.05005"
      ]
     },
     "execution_count": 58,
     "metadata": {},
     "output_type": "execute_result"
    }
   ],
   "source": [
    "prices.tail()"
   ]
  },
  {
   "cell_type": "code",
   "execution_count": 60,
   "metadata": {
    "collapsed": true
   },
   "outputs": [],
   "source": [
    "# 가중행렬 생성 : 2개의 시계열을 하나의 연속된 시계열로 이어붙이는 방법 중 하나.\n",
    "# 만기일까지 가중치 1 > 유효한 계약 \n",
    "# 만기일이 되면 롤링여부 결정해야함\n",
    "\n",
    "## 만기까지 기간에 대한 선형붕괴값으로 계산한 가중행렬함수.\n",
    "def get_roll_weights(start, expiry, items, roll_periods=5):\n",
    "    # start : 가중 DataFrame을 계산하기 위한 시작일\n",
    "    # expiry : 종목 Series > 만기일\n",
    "    # items : 계약 이름 리스트\n",
    "\n",
    "    dates = pd.date_range(start, expiry[-1], freq='B')\n",
    "    weights = DataFrame(np.zeros((len(dates), len(items))),\n",
    "                        index=dates, columns=items)\n",
    "\n",
    "    prev_date = weights.index[0]\n",
    "    for i, (item, ex_date) in enumerate(expiry.iteritems()):\n",
    "        if i < len(expiry) - 1:\n",
    "            weights.ix[prev_date:ex_date - pd.offsets.BDay(), item] = 1\n",
    "            roll_rng = pd.date_range(end=ex_date - pd.offsets.BDay(),\n",
    "                                     periods=roll_periods + 1, freq='B')\n",
    "\n",
    "            decay_weights = np.linspace(0, 1, roll_periods + 1)\n",
    "            weights.ix[roll_rng, item] = 1 - decay_weights\n",
    "            weights.ix[roll_rng, expiry.index[i + 1]] = decay_weights\n",
    "        else:\n",
    "            weights.ix[prev_date:, item] = 1\n",
    "\n",
    "        prev_date = ex_date\n",
    "\n",
    "    return weights"
   ]
  },
  {
   "cell_type": "code",
   "execution_count": 63,
   "metadata": {},
   "outputs": [
    {
     "name": "stderr",
     "output_type": "stream",
     "text": [
      "C:\\Users\\hwany\\Anaconda3\\envs\\py36\\lib\\site-packages\\ipykernel_launcher.py:18: DeprecationWarning: \n",
      ".ix is deprecated. Please use\n",
      ".loc for label based indexing or\n",
      ".iloc for positional indexing\n",
      "\n",
      "See the documentation here:\n",
      "http://pandas.pydata.org/pandas-docs/stable/indexing.html#ix-indexer-is-deprecated\n"
     ]
    },
    {
     "data": {
      "text/plain": [
       "            ESU2  ESZ2\n",
       "2012-09-12   1.0   0.0\n",
       "2012-09-13   1.0   0.0\n",
       "2012-09-14   0.8   0.2\n",
       "2012-09-17   0.6   0.4\n",
       "2012-09-18   0.4   0.6\n",
       "2012-09-19   0.2   0.8\n",
       "2012-09-20   0.0   1.0\n",
       "2012-09-21   0.0   1.0"
      ]
     },
     "execution_count": 63,
     "metadata": {},
     "output_type": "execute_result"
    }
   ],
   "source": [
    "# 만기일 부근에서의 가중치\n",
    "weights = get_roll_weights('6/1/2012', expiry, prices.columns)\n",
    "weights.ix['2012-09-12':'2012-09-21']"
   ]
  },
  {
   "cell_type": "code",
   "execution_count": 67,
   "metadata": {},
   "outputs": [
    {
     "name": "stderr",
     "output_type": "stream",
     "text": [
      "C:\\Users\\hwany\\Anaconda3\\envs\\py36\\lib\\site-packages\\ipykernel_launcher.py:3: DeprecationWarning: \n",
      ".ix is deprecated. Please use\n",
      ".loc for label based indexing or\n",
      ".iloc for positional indexing\n",
      "\n",
      "See the documentation here:\n",
      "http://pandas.pydata.org/pandas-docs/stable/indexing.html#ix-indexer-is-deprecated\n",
      "  This is separate from the ipykernel package so we can avoid doing imports until\n"
     ]
    },
    {
     "data": {
      "text/plain": [
       "2012-09-12    0.008328\n",
       "2012-09-13    0.010133\n",
       "2012-09-14    0.004535\n",
       "2012-09-17   -0.002599\n",
       "2012-09-18   -0.016664\n",
       "2012-09-19    0.000139\n",
       "2012-09-20   -0.013876\n",
       "2012-09-21   -0.002828\n",
       "Freq: B, dtype: float64"
      ]
     },
     "execution_count": 67,
     "metadata": {},
     "output_type": "execute_result"
    }
   ],
   "source": [
    "# 갈아탄 선물 수익 = 계약수익의 가중합과 같다.\n",
    "rolling_returns = (prices.pct_change() * weights).sum(1)\n",
    "rolling_returns.ix['2012-09-12':'2012-09-21']"
   ]
  },
  {
   "cell_type": "markdown",
   "metadata": {},
   "source": [
    "### 11.3.3: 롤링 상관관계와 선형회귀(Rolling correlation and linear regression)\n",
    "- 동적모델 : 금융모델에서 중요한 역할, 어떤기간에서 매매결정을 시뮬레이션하는데 사용.\n",
    "- (예) 이동창, 지수 가중 시계열 함수."
   ]
  },
  {
   "cell_type": "code",
   "execution_count": 69,
   "metadata": {},
   "outputs": [
    {
     "name": "stdout",
     "output_type": "stream",
     "text": [
      "[*********************100%***********************]  1 of 1 downloaded\n",
      "[*********************100%***********************]  1 of 1 downloaded\n"
     ]
    },
    {
     "data": {
      "text/plain": [
       "Date\n",
       "1999-12-31         NaN\n",
       "2000-01-03    0.088754\n",
       "2000-01-04   -0.084310\n",
       "2000-01-05    0.014634\n",
       "2000-01-06   -0.086538\n",
       "                ...   \n",
       "2018-06-11   -0.002452\n",
       "2018-06-12    0.005491\n",
       "2018-06-13   -0.008217\n",
       "2018-06-14    0.000524\n",
       "2018-06-15   -0.010273\n",
       "Name: Adj Close, Length: 4644, dtype: float64"
      ]
     },
     "execution_count": 69,
     "metadata": {},
     "output_type": "execute_result"
    },
    {
     "data": {
      "text/plain": [
       "Date\n",
       "1999-12-31         NaN\n",
       "2000-01-03   -0.001606\n",
       "2000-01-04   -0.033780\n",
       "2000-01-05    0.010544\n",
       "2000-01-06   -0.033498\n",
       "                ...   \n",
       "2018-06-11   -0.005707\n",
       "2018-06-12    0.002573\n",
       "2018-06-13   -0.004541\n",
       "2018-06-14    0.005652\n",
       "2018-06-15   -0.012719\n",
       "Name: Adj Close, Length: 4644, dtype: float64"
      ]
     },
     "execution_count": 69,
     "metadata": {},
     "output_type": "execute_result"
    }
   ],
   "source": [
    "# 상관관계 : 두 자산의 시계열상에서 서로간의 변화를 살펴볼 수 있는 한 방법.\n",
    "# rolling_corr함수를 반환된 두 시계열과 함계 호출하여 이동창의 상관관계 산출.\n",
    "# 야후! 주식정보 > 일별수익 계산\n",
    "aapl = web.get_data_yahoo('AAPL','2000-01-01')['Adj Close']\n",
    "msft = web.get_data_yahoo('MSFT','2000-01-01')['Adj Close']\n",
    "\n",
    "aapl_rets = aapl.pct_change()\n",
    "msft_rets = msft.pct_change()\n",
    "\n",
    "aapl_rets\n",
    "msft_rets"
   ]
  },
  {
   "cell_type": "code",
   "execution_count": 72,
   "metadata": {},
   "outputs": [
    {
     "data": {
      "text/plain": [
       "<matplotlib.figure.Figure at 0x1faf18da898>"
      ]
     },
     "execution_count": 72,
     "metadata": {},
     "output_type": "execute_result"
    },
    {
     "data": {
      "text/plain": [
       "<matplotlib.figure.Figure at 0x1faf18da898>"
      ]
     },
     "metadata": {},
     "output_type": "display_data"
    }
   ],
   "source": [
    "plt.figure()"
   ]
  },
  {
   "cell_type": "code",
   "execution_count": 78,
   "metadata": {},
   "outputs": [
    {
     "name": "stderr",
     "output_type": "stream",
     "text": [
      "C:\\Users\\hwany\\Anaconda3\\envs\\py36\\lib\\site-packages\\ipykernel_launcher.py:3: FutureWarning: pd.rolling_corr is deprecated for Series and will be removed in a future version, replace with \n",
      "\tSeries.rolling(window=250).corr(other=<Series>)\n",
      "  This is separate from the ipykernel package so we can avoid doing imports until\n"
     ]
    },
    {
     "data": {
      "text/plain": [
       "<matplotlib.axes._subplots.AxesSubplot at 0x1faf16219e8>"
      ]
     },
     "execution_count": 78,
     "metadata": {},
     "output_type": "execute_result"
    },
    {
     "data": {
      "image/png": "[encoded data removed]",
      "text/plain": [
       "<matplotlib.figure.Figure at 0x1faf151b438>"
      ]
     },
     "metadata": {},
     "output_type": "display_data"
    }
   ],
   "source": [
    "# 애플과 마이크로소프트의 연간 상관관계\n",
    "# 두 자산 간의 상관관계 : 유동성의 차이를 잡아내지 못함.\n",
    "pd.rolling_corr(aapl_rets, msft_rets, 250).plot()"
   ]
  },
  {
   "cell_type": "code",
   "execution_count": 76,
   "metadata": {},
   "outputs": [
    {
     "data": {
      "text/plain": [
       "<matplotlib.figure.Figure at 0x1faf1566978>"
      ]
     },
     "execution_count": 76,
     "metadata": {},
     "output_type": "execute_result"
    },
    {
     "data": {
      "text/plain": [
       "<matplotlib.figure.Figure at 0x1faf1566978>"
      ]
     },
     "metadata": {},
     "output_type": "display_data"
    }
   ],
   "source": [
    "plt.figure()"
   ]
  },
  {
   "cell_type": "code",
   "execution_count": 106,
   "metadata": {},
   "outputs": [
    {
     "name": "stdout",
     "output_type": "stream",
     "text": [
      "                            OLS Regression Results                            \n",
      "==============================================================================\n",
      "Dep. Variable:              Adj Close   R-squared:                         nan\n",
      "Model:                            OLS   Adj. R-squared:                    nan\n",
      "Method:                 Least Squares   F-statistic:                       nan\n",
      "Date:                Sat, 16 Jun 2018   Prob (F-statistic):                nan\n",
      "Time:                        20:00:29   Log-Likelihood:                    nan\n",
      "No. Observations:                4644   AIC:                               nan\n",
      "Df Residuals:                    4644   BIC:                               nan\n",
      "Df Model:                          -1                                         \n",
      "Covariance Type:            nonrobust                                         \n",
      "==============================================================================\n",
      "                 coef    std err          t      P>|t|      [0.025      0.975]\n",
      "------------------------------------------------------------------------------\n",
      "const             nan        nan        nan        nan         nan         nan\n",
      "Adj Close         nan        nan        nan        nan         nan         nan\n",
      "==============================================================================\n",
      "Omnibus:                          nan   Durbin-Watson:                     nan\n",
      "Prob(Omnibus):                    nan   Jarque-Bera (JB):                  nan\n",
      "Skew:                             nan   Prob(JB):                          nan\n",
      "Kurtosis:                         nan   Cond. No.                          nan\n",
      "==============================================================================\n",
      "\n",
      "Warnings:\n",
      "[1] Standard Errors assume that the covariance matrix of the errors is correctly specified.\n"
     ]
    },
    {
     "name": "stderr",
     "output_type": "stream",
     "text": [
      "C:\\Users\\hwany\\Anaconda3\\envs\\py36\\lib\\site-packages\\numpy\\linalg\\linalg.py:1574: RuntimeWarning: invalid value encountered in greater\n",
      "  return (S > tol).sum(axis=-1)\n",
      "C:\\Users\\hwany\\Anaconda3\\envs\\py36\\lib\\site-packages\\scipy\\stats\\_distn_infrastructure.py:879: RuntimeWarning: invalid value encountered in greater\n",
      "  return (self.a < x) & (x < self.b)\n",
      "C:\\Users\\hwany\\Anaconda3\\envs\\py36\\lib\\site-packages\\scipy\\stats\\_distn_infrastructure.py:879: RuntimeWarning: invalid value encountered in less\n",
      "  return (self.a < x) & (x < self.b)\n",
      "C:\\Users\\hwany\\Anaconda3\\envs\\py36\\lib\\site-packages\\scipy\\stats\\_distn_infrastructure.py:1818: RuntimeWarning: invalid value encountered in less_equal\n",
      "  cond2 = cond0 & (x <= self.a)\n",
      "C:\\Users\\hwany\\Anaconda3\\envs\\py36\\lib\\site-packages\\scipy\\stats\\stats.py:1348: RuntimeWarning: invalid value encountered in less\n",
      "  term2 = np.where(denom < 0, term1, np.power((1-2.0/A)/denom, 1/3.0))\n"
     ]
    }
   ],
   "source": [
    "# 최소제곱 회귀분석 : 한 변수와 다른예측변수 사이의 동적관계를 모델링하는 또 다른 방법.\n",
    "import statsmodels.api as sm\n",
    "y = aapl_rets\n",
    "dfX0 = msft_rets\n",
    "X = sm.add_constant(dfX0)\n",
    "model = sm.OLS(y,X)\n",
    "result = model.fit()\n",
    "print(result.summary())"
   ]
  }
 ],
 "metadata": {
  "kernelspec": {
   "display_name": "Python 3",
   "language": "python",
   "name": "python3"
  },
  "language_info": {
   "codemirror_mode": {
    "name": "ipython",
    "version": 3
   },
   "file_extension": ".py",
   "mimetype": "text/x-python",
   "name": "python",
   "nbconvert_exporter": "python",
   "pygments_lexer": "ipython3",
   "version": "3.6.1"
  }
 },
 "nbformat": 4,
 "nbformat_minor": 2
}
