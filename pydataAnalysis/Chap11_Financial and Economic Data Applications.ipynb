{
 "cells": [
  {
   "cell_type": "markdown",
   "metadata": {},
   "source": [
    "# [금융,경제 데이터 애플리케이션]"
   ]
  },
  {
   "cell_type": "markdown",
   "metadata": {},
   "source": [
    "- Cross Section(크로스섹션) : 시간상 고정된 위치에서 존재하는 데이터를 나타내기 위한 방법.[예시: S&P 500 지수의 모든 주식 종목의 종가] "
   ]
  },
  {
   "cell_type": "code",
   "execution_count": 1,
   "metadata": {
    "collapsed": true
   },
   "outputs": [],
   "source": [
    "from __future__ import division\n",
    "from pandas import Series, DataFrame\n",
    "import pandas as pd\n",
    "from numpy.random import randn\n",
    "import numpy as np\n",
    "pd.options.display.max_rows = 12\n",
    "np.set_printoptions(precision=4, suppress=True)\n",
    "import os\n",
    "import matplotlib.pyplot as plt\n",
    "np.random.seed(12345)\n",
    "plt.rc('figure', figsize=(12, 4))\n",
    "np.set_printoptions(precision=4)\n",
    "\n",
    "pd.options.display.notebook_repr_html = False\n",
    "\n",
    "%matplotlib inline\n",
    "\n",
    "from IPython.core.interactiveshell import InteractiveShell\n",
    "InteractiveShell.ast_node_interactivity = 'all'"
   ]
  },
  {
   "cell_type": "markdown",
   "metadata": {},
   "source": [
    "## 11.1: 데이터 준비(Data munging topics)"
   ]
  },
  {
   "cell_type": "markdown",
   "metadata": {},
   "source": [
    "### 11.1.1: 시계열과 크로스 섹션 정렬(Time series and cross-section alignment)"
   ]
  },
  {
   "cell_type": "code",
   "execution_count": 6,
   "metadata": {
    "collapsed": true
   },
   "outputs": [],
   "source": [
    "close_px = pd.read_csv('./ch11/stock_px.csv', parse_dates=True, index_col=0)\n",
    "volume = pd.read_csv('./ch11/volume.csv', parse_dates=True, index_col=0)\n",
    "prices = close_px.loc['2011-09-05':'2011-09-14',['AAPL','JNJ','SPX','XOM']]\n",
    "volume = volume.loc['2011-09-05':'2011-09-12',['AAPL','JNJ','SPX','XOM']]"
   ]
  },
  {
   "cell_type": "code",
   "execution_count": 9,
   "metadata": {},
   "outputs": [
    {
     "data": {
      "text/plain": [
       "              AAPL    JNJ      SPX    XOM\n",
       "2011-09-06  379.74  64.64  1165.24  71.15\n",
       "2011-09-07  383.93  65.43  1198.62  73.65\n",
       "2011-09-08  384.14  64.95  1185.90  72.82\n",
       "2011-09-09  377.48  63.64  1154.23  71.01\n",
       "2011-09-12  379.94  63.59  1162.27  71.84\n",
       "2011-09-13  384.62  63.61  1172.87  71.65\n",
       "2011-09-14  389.30  63.73  1188.68  72.64"
      ]
     },
     "execution_count": 9,
     "metadata": {},
     "output_type": "execute_result"
    },
    {
     "data": {
      "text/plain": [
       "                  AAPL         JNJ           SPX         XOM\n",
       "2011-09-06  18173500.0  15848300.0  5.103980e+09  25416300.0\n",
       "2011-09-07  12492000.0  10759700.0  4.441040e+09  23108400.0\n",
       "2011-09-08  14839800.0  15551500.0  4.465170e+09  22434800.0\n",
       "2011-09-09  20171900.0  17008200.0  4.586370e+09  27969100.0\n",
       "2011-09-12  16697300.0  13448200.0  5.168550e+09  26205800.0"
      ]
     },
     "execution_count": 9,
     "metadata": {},
     "output_type": "execute_result"
    }
   ],
   "source": [
    "prices\n",
    "volume"
   ]
  },
  {
   "cell_type": "code",
   "execution_count": 11,
   "metadata": {},
   "outputs": [
    {
     "data": {
      "text/plain": [
       "                    AAPL           JNJ           SPX           XOM\n",
       "2011-09-06  6.901205e+09  1.024434e+09  5.947362e+12  1.808370e+09\n",
       "2011-09-07  4.796054e+09  7.040072e+08  5.323119e+12  1.701934e+09\n",
       "2011-09-08  5.700561e+09  1.010070e+09  5.295245e+12  1.633702e+09\n",
       "2011-09-09  7.614489e+09  1.082402e+09  5.293726e+12  1.986086e+09\n",
       "2011-09-12  6.343972e+09  8.551710e+08  6.007251e+12  1.882625e+09\n",
       "2011-09-13           NaN           NaN           NaN           NaN\n",
       "2011-09-14           NaN           NaN           NaN           NaN"
      ]
     },
     "execution_count": 11,
     "metadata": {},
     "output_type": "execute_result"
    }
   ],
   "source": [
    "# 거래량 \n",
    "prices * volume"
   ]
  },
  {
   "cell_type": "code",
   "execution_count": 13,
   "metadata": {},
   "outputs": [
    {
     "data": {
      "text/plain": [
       "AAPL     380.655181\n",
       "JNJ       64.394769\n",
       "SPX     1172.588832\n",
       "XOM       72.024288\n",
       "dtype: float64"
      ]
     },
     "execution_count": 13,
     "metadata": {},
     "output_type": "execute_result"
    }
   ],
   "source": [
    "# 단일 거래에 대한, 거래된 한주당 평균 주가.\n",
    "vwap = (prices * volume).sum() / volume.sum()\n",
    "vwap"
   ]
  },
  {
   "cell_type": "code",
   "execution_count": 15,
   "metadata": {},
   "outputs": [
    {
     "data": {
      "text/plain": [
       "AAPL     380.655181\n",
       "JNJ       64.394769\n",
       "SPX     1172.588832\n",
       "XOM       72.024288\n",
       "dtype: float64"
      ]
     },
     "execution_count": 15,
     "metadata": {},
     "output_type": "execute_result"
    }
   ],
   "source": [
    "vwap.dropna()"
   ]
  },
  {
   "cell_type": "code",
   "execution_count": 17,
   "metadata": {},
   "outputs": [
    {
     "data": {
      "text/plain": [
       "(              AAPL    JNJ      SPX    XOM\n",
       " 2011-09-06  379.74  64.64  1165.24  71.15\n",
       " 2011-09-07  383.93  65.43  1198.62  73.65\n",
       " 2011-09-08  384.14  64.95  1185.90  72.82\n",
       " 2011-09-09  377.48  63.64  1154.23  71.01\n",
       " 2011-09-12  379.94  63.59  1162.27  71.84,\n",
       "                   AAPL         JNJ           SPX         XOM\n",
       " 2011-09-06  18173500.0  15848300.0  5.103980e+09  25416300.0\n",
       " 2011-09-07  12492000.0  10759700.0  4.441040e+09  23108400.0\n",
       " 2011-09-08  14839800.0  15551500.0  4.465170e+09  22434800.0\n",
       " 2011-09-09  20171900.0  17008200.0  4.586370e+09  27969100.0\n",
       " 2011-09-12  16697300.0  13448200.0  5.168550e+09  26205800.0)"
      ]
     },
     "execution_count": 17,
     "metadata": {},
     "output_type": "execute_result"
    }
   ],
   "source": [
    "# SPX는 발행주식(volume)이 없으므로 명시적으로 배제가능 > 데이터 정렬시 df의 align\n",
    "# align : 새롭게 색인된 두 객체의 튜플을 반환.\n",
    "prices.align(volume, join='inner')"
   ]
  },
  {
   "cell_type": "code",
   "execution_count": 19,
   "metadata": {},
   "outputs": [
    {
     "data": {
      "text/plain": [
       "   one  three  two\n",
       "a  0.0    1.0  NaN\n",
       "b  1.0    NaN  1.0\n",
       "c  2.0    2.0  2.0\n",
       "d  NaN    NaN  0.0\n",
       "e  NaN    NaN  3.0\n",
       "f  NaN    0.0  NaN"
      ]
     },
     "execution_count": 19,
     "metadata": {},
     "output_type": "execute_result"
    }
   ],
   "source": [
    "s1 = Series(range(3), index=['a','b','c'])\n",
    "s2 = Series(range(4), index=['d','b','c','e'])\n",
    "s3 = Series(range(3), index=['f','a','c'])\n",
    "DataFrame({'one':s1, 'two': s2, 'three': s3})"
   ]
  },
  {
   "cell_type": "code",
   "execution_count": 24,
   "metadata": {},
   "outputs": [
    {
     "data": {
      "text/plain": [
       "   one  three  two\n",
       "f  NaN    0.0  NaN\n",
       "a  0.0    1.0  NaN\n",
       "c  2.0    2.0  2.0\n",
       "e  NaN    NaN  3.0"
      ]
     },
     "execution_count": 24,
     "metadata": {},
     "output_type": "execute_result"
    }
   ],
   "source": [
    "DataFrame({'one':s1, 'two':s2, 'three':s3}, index=list('face'))"
   ]
  },
  {
   "cell_type": "markdown",
   "metadata": {},
   "source": [
    "### 11.1.2: 다른빈도를 가지는 시계열 연산(Operations with time series of different frequencies)"
   ]
  }
 ],
 "metadata": {
  "kernelspec": {
   "display_name": "Python 3",
   "language": "python",
   "name": "python3"
  },
  "language_info": {
   "codemirror_mode": {
    "name": "ipython",
    "version": 3
   },
   "file_extension": ".py",
   "mimetype": "text/x-python",
   "name": "python",
   "nbconvert_exporter": "python",
   "pygments_lexer": "ipython3",
   "version": "3.6.1"
  }
 },
 "nbformat": 4,
 "nbformat_minor": 2
}
