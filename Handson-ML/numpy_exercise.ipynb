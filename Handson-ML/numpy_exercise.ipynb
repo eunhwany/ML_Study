{
 "cells": [
  {
   "cell_type": "code",
   "execution_count": 2,
   "metadata": {
    "collapsed": true
   },
   "outputs": [],
   "source": [
    "import numpy as np\n",
    "from numpy import linalg"
   ]
  },
  {
   "cell_type": "markdown",
   "metadata": {},
   "source": [
    "#### 문제1\n",
    "\n",
    "* 1~23까지 정수를 원소로 갖는 1차원 array를 생성하기\n",
    "* 그 중에서 2의 배수 또는 3의 배수만 indexing 하기"
   ]
  },
  {
   "cell_type": "markdown",
   "metadata": {},
   "source": [
    "#### 문제2\n",
    "* 0~23까지 숫자로 (2,3,4) shape을 가진 array를 생성하기\n",
    "* axis 1과 2 위치 바꿔보기"
   ]
  },
  {
   "cell_type": "markdown",
   "metadata": {},
   "source": [
    "#### 문제3\n",
    "\n",
    "* 1~9까지 정수를 원소로 갖는 1차원 array 생성\n",
    "* 2의 배수면 'even', 그렇지 않으면 'odd'로 값 변경\n",
    "* list comprehension일 경우 다음과 같다\n",
    "    * ['even' if x%2==0 else 'odd' for x in range(1,10)]"
   ]
  },
  {
   "cell_type": "markdown",
   "metadata": {},
   "source": [
    "#### 문제4\n",
    "* arr - arr2 하면 차원 문제가 생겨 계산이 수행되지 않는다\n",
    "* arr2를 적당히 변형시켜서 계산이 수행되게 하기"
   ]
  },
  {
   "cell_type": "markdown",
   "metadata": {},
   "source": [
    "#### 문제5\n",
    "(2,1), (1,2)를 지나는 직선 y=ax+b가 있다고 하자. 이때 a와 b를 구하면?"
   ]
  },
  {
   "cell_type": "markdown",
   "metadata": {},
   "source": [
    "#### 문제6\n",
    "(2,1), (1,2)를 지나는 직선 y=ax+b이 있다. 이 때 점 (4, 4)와 y=ax+b의 수선의 발을 H라 할 때 H의 좌표를 구하면?"
   ]
  },
  {
   "cell_type": "markdown",
   "metadata": {},
   "source": [
    "#### 문제7\n",
    "* 아래와 같은 신경망이 있습니다.\n",
    "* 이 때 각 layer 별 활성화 함수는 아래와 같습니다.\n",
    "    * input -> hidden1 : sigmoid\n",
    "    * hidden1 -> hidden2: relu\n",
    "    * hidden2 -> output : softmax\n",
    "* 각 함수를 정의하고 최종 output을 출력해보세요"
   ]
  },
  {
   "cell_type": "code",
   "execution_count": 22,
   "metadata": {
    "collapsed": true
   },
   "outputs": [],
   "source": [
    "x = np.array([0.35, 0.75])\n",
    "w1 = np.array([[0.2, 0.5, 0.1], [0.1, 0.7, 0.3]])\n",
    "b1 = np.array([0.1, 0.2, 0.2])\n",
    "w2 = np.array([[0.3, 0.6], [0.4, 0.2], [0.7, 0.6]])\n",
    "b2 = np.array([0.3, 0.3])\n",
    "w3 = np.array([[0.5, 0.2], [0.4, 0.1]])\n",
    "b3 = np.array([0.2, 0.1])"
   ]
  }
 ],
 "metadata": {
  "kernelspec": {
   "display_name": "Python 3",
   "language": "python",
   "name": "python3"
  },
  "language_info": {
   "codemirror_mode": {
    "name": "ipython",
    "version": 3
   },
   "file_extension": ".py",
   "mimetype": "text/x-python",
   "name": "python",
   "nbconvert_exporter": "python",
   "pygments_lexer": "ipython3",
   "version": "3.5.3"
  }
 },
 "nbformat": 4,
 "nbformat_minor": 2
}
