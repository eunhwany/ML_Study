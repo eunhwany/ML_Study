{
 "cells": [
  {
   "cell_type": "markdown",
   "metadata": {},
   "source": [
    "## GOAL : 탑승기간을 예측하여 보자"
   ]
  },
  {
   "cell_type": "markdown",
   "metadata": {},
   "source": [
    "#### 모듈을 받자"
   ]
  },
  {
   "cell_type": "code",
   "execution_count": 26,
   "metadata": {
    "collapsed": true
   },
   "outputs": [],
   "source": [
    "import pandas as pd"
   ]
  },
  {
   "cell_type": "markdown",
   "metadata": {},
   "source": [
    "#### 파일을 받자"
   ]
  },
  {
   "cell_type": "code",
   "execution_count": 24,
   "metadata": {
    "scrolled": false
   },
   "outputs": [
    {
     "name": "stdout",
     "output_type": "stream",
     "text": [
      "<class 'pandas.core.frame.DataFrame'>\n",
      "RangeIndex: 1458644 entries, 0 to 1458643\n",
      "Data columns (total 11 columns):\n",
      "id                    1458644 non-null object\n",
      "vendor_id             1458644 non-null int64\n",
      "pickup_datetime       1458644 non-null datetime64[ns]\n",
      "dropoff_datetime      1458644 non-null datetime64[ns]\n",
      "passenger_count       1458644 non-null int64\n",
      "pickup_longitude      1458644 non-null float64\n",
      "pickup_latitude       1458644 non-null float64\n",
      "dropoff_longitude     1458644 non-null float64\n",
      "dropoff_latitude      1458644 non-null float64\n",
      "store_and_fwd_flag    1458644 non-null object\n",
      "trip_duration         1458644 non-null int64\n",
      "dtypes: datetime64[ns](2), float64(4), int64(3), object(2)\n",
      "memory usage: 122.4+ MB\n"
     ]
    }
   ],
   "source": [
    "\n",
    "train = pd.read_csv('train.csv')\n",
    "test = pd.read_csv('test.csv')\n",
    "train['pickup_datetime']=pd.to_datetime(train['pickup_datetime'])\n",
    "train['dropoff_datetime']=pd.to_datetime(train['dropoff_datetime'])\n",
    "train.info()\n",
    "\n"
   ]
  },
  {
   "cell_type": "code",
   "execution_count": 20,
   "metadata": {
    "collapsed": true
   },
   "outputs": [],
   "source": [
    "train['pickup_date']=train['pickup_datetime'].map(lambda x:str(x)[:13]+':00:00')\n",
    "train['pickup_date']=train['pickup_datetime'].map(lambda x:str(x)[:13]+':00:00')"
   ]
  },
  {
   "cell_type": "code",
   "execution_count": 30,
   "metadata": {},
   "outputs": [
    {
     "ename": "NameError",
     "evalue": "name 'ft' is not defined",
     "output_type": "error",
     "traceback": [
      "\u001b[0;31m---------------------------------------------------------------------------\u001b[0m",
      "\u001b[0;31mNameError\u001b[0m                                 Traceback (most recent call last)",
      "\u001b[0;32m<ipython-input-30-bc80d2c5abf6>\u001b[0m in \u001b[0;36m<module>\u001b[0;34m()\u001b[0m\n\u001b[1;32m      2\u001b[0m \u001b[0mlogreg\u001b[0m \u001b[0;34m=\u001b[0m \u001b[0mLogisticRegression\u001b[0m\u001b[0;34m(\u001b[0m\u001b[0;34m)\u001b[0m \u001b[0;31m# logisticregression을 부른다.\u001b[0m\u001b[0;34m\u001b[0m\u001b[0m\n\u001b[1;32m      3\u001b[0m \u001b[0;34m\u001b[0m\u001b[0m\n\u001b[0;32m----> 4\u001b[0;31m \u001b[0mlogreg\u001b[0m\u001b[0;34m.\u001b[0m\u001b[0mfit\u001b[0m\u001b[0;34m(\u001b[0m\u001b[0mft\u001b[0m\u001b[0;34m,\u001b[0m\u001b[0mtarget\u001b[0m\u001b[0;34m)\u001b[0m\u001b[0;34m\u001b[0m\u001b[0m\n\u001b[0m\u001b[1;32m      5\u001b[0m \u001b[0mfeature\u001b[0m \u001b[0;34m=\u001b[0m \u001b[0mpd\u001b[0m\u001b[0;34m.\u001b[0m\u001b[0mDataFrame\u001b[0m\u001b[0;34m(\u001b[0m\u001b[0mft\u001b[0m\u001b[0;34m.\u001b[0m\u001b[0mcolumns\u001b[0m\u001b[0;34m)\u001b[0m\u001b[0;34m\u001b[0m\u001b[0m\n\u001b[1;32m      6\u001b[0m \u001b[0mfeature\u001b[0m\u001b[0;34m.\u001b[0m\u001b[0mcolumns\u001b[0m \u001b[0;34m=\u001b[0m \u001b[0;34m[\u001b[0m\u001b[0;34m'Features'\u001b[0m\u001b[0;34m]\u001b[0m\u001b[0;34m\u001b[0m\u001b[0m\n",
      "\u001b[0;31mNameError\u001b[0m: name 'ft' is not defined"
     ]
    }
   ],
   "source": [
    "#train\n",
    "\n",
    "train_ft=train.drop(['trip_duration',\n",
    "                     'id',\n",
    "                     'vendor_id',\n",
    "                     'pickup_datetime',\n",
    "                     'dropoff_datetime',\n",
    "                     #'passenger_count',\n",
    "                     'pickup_longitude',\n",
    "                     'pickup_latitude',\n",
    "                     'dropoff_longitude',\n",
    "                     'dropoff_latitude',\n",
    "                     'store_and_fwd_flag'              \n",
    "                    ],axis=1) #`survived` feature를 지운 데이터셋을 train용 데이터로 설정한다.\n",
    "train_y=train['trip_duration'] # `survived`만을 추출하여, y값으로 다루도록 한다.\n",
    "#set kf\n",
    "\n",
    "logreg = LogisticRegression() # logisticregression을 부른다.\n",
    "logreg.fit(ft,target)\n",
    "feature = pd.DataFrame(ft.columns)\n",
    "feature.columns = ['Features']\n",
    "feature[\"Coefficient Estimate\"] = pd.Series(logreg.coef_[0])\n",
    "print(feature)"
   ]
  },
  {
   "cell_type": "markdown",
   "metadata": {},
   "source": [
    "#### 머신러닝용 함수를 만들자"
   ]
  },
  {
   "cell_type": "code",
   "execution_count": 4,
   "metadata": {
    "collapsed": true
   },
   "outputs": [],
   "source": [
    "# import machine learning libraries\n",
    "from sklearn.linear_model import LogisticRegression\n",
    "from sklearn.svm import SVC, LinearSVC\n",
    "from sklearn.ensemble import RandomForestClassifier,GradientBoostingClassifier\n",
    "from sklearn.neighbors import KNeighborsClassifier\n",
    "from sklearn.naive_bayes import GaussianNB\n",
    "from sklearn.metrics import accuracy_score\n",
    "from sklearn.model_selection import cross_val_score, KFold\n",
    "\n",
    "def modeling(clf,ft,target):#feature를 classfier를 활용하여, y^=target을 산출한다.\n",
    "    acc = cross_val_score(clf,ft,target,cv=kf) # cross_validation_score, kfold로 resampling한다.\n",
    "    acc_lst.append(acc.mean()) # acc를 acc_list에 넣는다. \n",
    "    return \n",
    "    #cross validation : https://www.youtube.com/watch?v=FAP7JOECfEE,'05:04'\n",
    "accuracy = []\n",
    "def ml(ft,target,time):\n",
    "    accuracy.append(acc_lst) # acc_lst를 accuracy에 넣는다.\n",
    "\n",
    "    #logisticregression\n",
    "    logreg = LogisticRegression() # logisticregression을 부른다.\n",
    "    modeling(logreg,ft,target) #feature를 logisticregression을 활용하여, y^=target을 산출한 후, acc_list에 'time'변수명으로 넣는다.\n",
    "    \n",
    "    #RandomForest\n",
    "    #rf = RandomForestClassifier(n_estimators=50,min_samples_split=4,min_samples_leaf=2)# RandomForestClassifier 부른다.\n",
    "    #modeling(rf,ft,target) #feature를 RandomForestClassifier 활용하여, y^=target을 산출한 후, acc_list에 'time'변수명으로 넣는다.\n",
    "    #https://www.youtube.com/watch?v=FAP7JOECfEE,'02:09'\n",
    "    \n",
    "    #svc\n",
    "    #svc = SVC()# logisticregression을 부른다.\n",
    "    #modeling(svc,ft,target)#feature를 logisticregression을 활용하여, y^=target을 산출한 후, acc_list에 'time'변수명으로 넣는다.\n",
    "    # svc https://www.youtube.com/watch?v=FAP7JOECfEE,'03:34'     \n",
    "    \n",
    "    #knn\n",
    "    #knn = KNeighborsClassifier(n_neighbors = 3)# KNeighborsClassifier을 부른다.\n",
    "    #modeling(knn,ft,target)#feature를 KNeighborsClassifier을 활용하여, y^=target을 산출한 후, acc_list에 'time'변수명으로 넣는다.\n",
    "    #https://www.youtube.com/watch?v=FAP7JOECfEE,'01:08' \n",
    "\n",
    "    # naive bayes https://www.youtube.com/watch?v=FAP7JOECfEE,'03:08' \n",
    "\n",
    "\n",
    "    # see the coefficient\n",
    "    logreg.fit(ft,target)\n",
    "    feature = pd.DataFrame(ft.columns)\n",
    "    feature.columns = ['Features']\n",
    "    feature[\"Coefficient Estimate\"] = pd.Series(logreg.coef_[0])\n",
    "    print(feature)\n",
    "    return \n",
    "\n"
   ]
  },
  {
   "cell_type": "code",
   "execution_count": null,
   "metadata": {
    "collapsed": true
   },
   "outputs": [],
   "source": [
    "# testing no.1, using all the feature\n",
    "train_ft=train.drop(['trip_duration',\n",
    "                     'id',\n",
    "                     'vendor_id',\n",
    "                     'pickup_datetime',\n",
    "                     'dropoff_datetime',\n",
    "                     #'passenger_count',\n",
    "                     'pickup_longitude',\n",
    "                     'pickup_latitude',\n",
    "                     'dropoff_longitude',\n",
    "                     'dropoff_latitude',\n",
    "                     'store_and_fwd_flag'              \n",
    "                    ],axis=1) #`survived` feature를 지운 데이터셋을 train용 데이터로 설정한다.\n",
    "train_y=train['trip_duration'] # `survived`만을 추출하여, y값으로 다루도록 한다.\n",
    "#set kf\n",
    "kf = KFold(n_splits=3,random_state=1)\n",
    "acc_lst = []\n",
    "ml(train_ft,train_y,'test_1') "
   ]
  }
 ],
 "metadata": {
  "kernelspec": {
   "display_name": "Python 3",
   "language": "python",
   "name": "python3"
  },
  "language_info": {
   "codemirror_mode": {
    "name": "ipython",
    "version": 3
   },
   "file_extension": ".py",
   "mimetype": "text/x-python",
   "name": "python",
   "nbconvert_exporter": "python",
   "pygments_lexer": "ipython3",
   "version": "3.6.1"
  }
 },
 "nbformat": 4,
 "nbformat_minor": 2
}
